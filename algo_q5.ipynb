{
  "nbformat": 4,
  "nbformat_minor": 0,
  "metadata": {
    "colab": {
      "name": "algo_q5",
      "provenance": [],
      "authorship_tag": "ABX9TyNgXNzXUtT5uNrxCoEnXZ6T"
    },
    "kernelspec": {
      "name": "python3",
      "display_name": "Python 3"
    },
    "language_info": {
      "name": "python"
    }
  },
  "cells": [
    {
      "cell_type": "markdown",
      "source": [
        "숫자로 이루어진 문자열 \n",
        "(프로그래머스 Level 1)"
      ],
      "metadata": {
        "id": "K5qgblC6YVu9"
      }
    },
    {
      "cell_type": "code",
      "execution_count": 1,
      "metadata": {
        "colab": {
          "base_uri": "https://localhost:8080/"
        },
        "id": "IAgn4AASYIBX",
        "outputId": "fd23819f-7770-44bd-dba1-5f7657588f80"
      },
      "outputs": [
        {
          "output_type": "stream",
          "name": "stdout",
          "text": [
            "True\n",
            "False\n",
            "False\n",
            "True\n"
          ]
        }
      ],
      "source": [
        "def number(x):\n",
        "  if x.isdigit() == True and len(x) == 4 or len(x) == 6:\n",
        "    return True\n",
        "  return False \n",
        "\n",
        "print(number('1234')) # Len = 4, all num\n",
        "print(number('a123')) # Len = 4, not all num\n",
        "print(number('12345')) # Len = 5, all num\n",
        "print(number('123456')) # Len = 6, all num"
      ]
    }
  ]
}