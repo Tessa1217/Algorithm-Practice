{
  "nbformat": 4,
  "nbformat_minor": 0,
  "metadata": {
    "colab": {
      "name": "algo_q6",
      "provenance": [],
      "authorship_tag": "ABX9TyN7mJIvyLskSvGHWKKFzEmk"
    },
    "kernelspec": {
      "name": "python3",
      "display_name": "Python 3"
    },
    "language_info": {
      "name": "python"
    }
  },
  "cells": [
    {
      "cell_type": "markdown",
      "source": [
        "같은 숫자는 싫어\n",
        "(프로그래머스 Level 1)"
      ],
      "metadata": {
        "id": "jIMrEywZn64x"
      }
    },
    {
      "cell_type": "code",
      "execution_count": 17,
      "metadata": {
        "colab": {
          "base_uri": "https://localhost:8080/"
        },
        "id": "GpW8YEtin6NV",
        "outputId": "b0812713-1da1-4b8f-b897-c63bf14eaa18"
      },
      "outputs": [
        {
          "output_type": "stream",
          "name": "stdout",
          "text": [
            "12\n",
            "3\n",
            "12\n"
          ]
        }
      ],
      "source": [
        "def solution(a, b):\n",
        "  if a > b:\n",
        "    a, b = b, a\n",
        "  return sum([x for x in range(a, b+1)])\n",
        "\n",
        "print(solution(3, 5))\n",
        "print(solution(3, 3))\n",
        "print(solution(5, 3))"
      ]
    },
    {
      "cell_type": "code",
      "source": [
        "def solution(a, b):\n",
        "  if a > b:\n",
        "    a, b = b, a\n",
        "  return sum(range(a, b+1))\n",
        "\n",
        "print(solution(3, 5))\n",
        "print(solution(3, 3))\n",
        "print(solution(5, 3))"
      ],
      "metadata": {
        "colab": {
          "base_uri": "https://localhost:8080/"
        },
        "id": "gQS_XT4lq1Uz",
        "outputId": "22528bb3-2798-49be-8d3d-6a073cd3c38c"
      },
      "execution_count": 19,
      "outputs": [
        {
          "output_type": "stream",
          "name": "stdout",
          "text": [
            "12\n",
            "3\n",
            "12\n"
          ]
        }
      ]
    }
  ]
}