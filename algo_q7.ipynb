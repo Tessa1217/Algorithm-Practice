{
  "nbformat": 4,
  "nbformat_minor": 0,
  "metadata": {
    "colab": {
      "name": "algo_q7",
      "provenance": [],
      "authorship_tag": "ABX9TyN67vM9wsEWq0JFzgRmqEiD"
    },
    "kernelspec": {
      "name": "python3",
      "display_name": "Python 3"
    },
    "language_info": {
      "name": "python"
    }
  },
  "cells": [
    {
      "cell_type": "markdown",
      "source": [
        "나누어 떨어지는 숫자 배열 \n",
        "(프로그래머스 Level 1)"
      ],
      "metadata": {
        "id": "PHOotopH0cXJ"
      }
    },
    {
      "cell_type": "code",
      "execution_count": 2,
      "metadata": {
        "colab": {
          "base_uri": "https://localhost:8080/"
        },
        "id": "iTsc86wqu97c",
        "outputId": "c0bb9f68-5515-4851-b235-071d082544fa"
      },
      "outputs": [
        {
          "output_type": "stream",
          "name": "stdout",
          "text": [
            "[5, 10]\n",
            "[1, 2, 3, 36]\n",
            "[-1]\n"
          ]
        }
      ],
      "source": [
        "def solution(arr, divisor):\n",
        "  answer = [x for x in arr if x%divisor == 0]\n",
        "  answer.sort()\n",
        "  # if len(answer) == 0:\n",
        "  #   answer = [-1]\n",
        "  # return answer\n",
        "  return [-1] if len(answer)==0 else answer\n",
        "\n",
        "print(solution([5, 9, 7, 10], 5))\n",
        "print(solution([2, 36, 1, 3], 1))\n",
        "print(solution([3, 2, 6], 10))"
      ]
    }
  ]
}