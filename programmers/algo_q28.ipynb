{
  "nbformat": 4,
  "nbformat_minor": 0,
  "metadata": {
    "colab": {
      "name": "algo_q28",
      "provenance": [],
      "collapsed_sections": [],
      "authorship_tag": "ABX9TyN8Yw7D9DRRfM8Z+Pa82U4I"
    },
    "kernelspec": {
      "name": "python3",
      "display_name": "Python 3"
    },
    "language_info": {
      "name": "python"
    }
  },
  "cells": [
    {
      "cell_type": "markdown",
      "source": [
        "최솟값 만들기"
      ],
      "metadata": {
        "id": "gjvkdit9cgKc"
      }
    },
    {
      "cell_type": "markdown",
      "source": [
        "배열 A, B의 원소들을 하나씩 곱하여 더하였을 때 나올 수 있는 최소합 만들기."
      ],
      "metadata": {
        "id": "3rfSRUHyciTD"
      }
    },
    {
      "cell_type": "code",
      "source": [
        "def solution(A, B):\n",
        "  A.sort()\n",
        "  B.sort(reverse=True)\n",
        "  product = sum([x*y for x, y in zip(A, B)])\n",
        "  return product \n",
        "\n",
        "print(solution([1, 2], [3, 4]))\n",
        "print(solution([1, 4, 2], [5, 4, 4]))"
      ],
      "metadata": {
        "colab": {
          "base_uri": "https://localhost:8080/"
        },
        "id": "Gyxci2GxcSYd",
        "outputId": "7e8717b2-aeb1-47ab-c3cb-7d0576653e2b"
      },
      "execution_count": 13,
      "outputs": [
        {
          "output_type": "stream",
          "name": "stdout",
          "text": [
            "10\n",
            "29\n"
          ]
        }
      ]
    },
    {
      "cell_type": "code",
      "execution_count": 12,
      "metadata": {
        "colab": {
          "base_uri": "https://localhost:8080/"
        },
        "id": "TPFzxmqUqfhz",
        "outputId": "6a5cce62-40e7-4c43-b3d8-93da37531a9b"
      },
      "outputs": [
        {
          "output_type": "stream",
          "name": "stdout",
          "text": [
            "29\n"
          ]
        }
      ],
      "source": [
        "A = [1, 4, 2]\n",
        "B = [5, 4, 4]\n",
        "A.sort()\n",
        "B.sort(reverse = True)\n",
        "product = sum([x*y for x,y in zip(A, B)])\n",
        "print(product)"
      ]
    }
  ]
}