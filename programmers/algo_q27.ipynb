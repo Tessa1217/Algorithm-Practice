{
  "nbformat": 4,
  "nbformat_minor": 0,
  "metadata": {
    "colab": {
      "name": "algo_q27",
      "provenance": [],
      "authorship_tag": "ABX9TyP3WgtYDT5kPDRlYP0CZAyZ"
    },
    "kernelspec": {
      "name": "python3",
      "display_name": "Python 3"
    },
    "language_info": {
      "name": "python"
    }
  },
  "cells": [
    {
      "cell_type": "markdown",
      "source": [
        "최댓값과 최솟값"
      ],
      "metadata": {
        "id": "pfEe_3NoV14c"
      }
    },
    {
      "cell_type": "markdown",
      "source": [
        "문자열 s에서 최솟값과 최댓값을 찾아 \"(최솟값) (최댓값)\" 형식으로 반환하기"
      ],
      "metadata": {
        "id": "BWxaLJ4ZV4Wr"
      }
    },
    {
      "cell_type": "code",
      "source": [
        "def maxmin(s):\n",
        "  s = list(map(int, s.split()))\n",
        "  return str(min(s)) + ' ' + str(max(s))\n",
        "\n",
        "print(maxmin('1 2 3 4'))\n",
        "print(maxmin('-1 1 -4 2'))"
      ],
      "metadata": {
        "colab": {
          "base_uri": "https://localhost:8080/"
        },
        "id": "3c9bTgSaVkCj",
        "outputId": "93299a96-3a3e-4d21-fa4c-bb164d1f6c88"
      },
      "execution_count": 6,
      "outputs": [
        {
          "output_type": "stream",
          "name": "stdout",
          "text": [
            "1 4\n",
            "-4 2\n"
          ]
        }
      ]
    },
    {
      "cell_type": "code",
      "execution_count": 2,
      "metadata": {
        "colab": {
          "base_uri": "https://localhost:8080/"
        },
        "id": "29A1vhI9Blsc",
        "outputId": "a6f9c598-3279-4f4f-e916-1071af1a60cb"
      },
      "outputs": [
        {
          "output_type": "stream",
          "name": "stdout",
          "text": [
            "1 4\n"
          ]
        }
      ],
      "source": [
        "# Test Case 1\n",
        "s = '1 2 3 4'\n",
        "s = list(map(int, s.split()))\n",
        "answer = ''\n",
        "answer += (str(min(s)) + \" \" + str(max(s)))\n",
        "print(answer)"
      ]
    }
  ]
}