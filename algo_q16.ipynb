{
  "nbformat": 4,
  "nbformat_minor": 0,
  "metadata": {
    "colab": {
      "name": "algo_q16",
      "provenance": [],
      "collapsed_sections": [],
      "authorship_tag": "ABX9TyO2wC8H4yia6UdXmKXOAeLl"
    },
    "kernelspec": {
      "name": "python3",
      "display_name": "Python 3"
    },
    "language_info": {
      "name": "python"
    }
  },
  "cells": [
    {
      "cell_type": "markdown",
      "source": [
        "숫자 문자열과 영단어\n",
        "(프로그래머스 Level 1)"
      ],
      "metadata": {
        "id": "0nqf6YVtnsdj"
      }
    },
    {
      "cell_type": "code",
      "source": [
        "# Case 1\n",
        "num_dict = {\n",
        "    'zero':'0', 'one':'1', 'two':'2', 'three':'3', 'four':'4', 'five':'5',\n",
        "    'six':'6', 'seven':'7', 'eight':'8', 'nine':'9'\n",
        "}\n",
        "\n",
        "def solution(s):\n",
        "  num = ''\n",
        "  for l in s:\n",
        "    if l.isalpha():\n",
        "      num += l\n",
        "      if num in num_dict:\n",
        "        s = s.replace(num, num_dict[num])\n",
        "        num = ''\n",
        "  return int(s)\n",
        "\n",
        "s1 = 'onetwoseveneight'\n",
        "s2 = 'one2seveneight'\n",
        "s3 = '2three45sixseven'\n",
        "\n",
        "print(solution(s1))\n",
        "print(solution(s2))\n",
        "print(solution(s3))"
      ],
      "metadata": {
        "colab": {
          "base_uri": "https://localhost:8080/"
        },
        "id": "8ByazJsw-iOV",
        "outputId": "b234716f-90b0-41df-a5e0-47a53400fe66"
      },
      "execution_count": null,
      "outputs": [
        {
          "output_type": "stream",
          "name": "stdout",
          "text": [
            "1278\n",
            "1278\n",
            "234567\n"
          ]
        }
      ]
    },
    {
      "cell_type": "code",
      "source": [
        "# Case 2\n",
        "\n",
        "num_dict = {\n",
        "    'zero':'0', 'one':'1', 'two':'2', 'three':'3', 'four':'4', 'five':'5',\n",
        "    'six':'6', 'seven':'7', 'eight':'8', 'nine':'9'\n",
        "}\n",
        "\n",
        "def solution(s):\n",
        "  for idk, val in num_dict.items():\n",
        "    s = s.replace(idk, val)\n",
        "  return int(s)\n",
        "\n",
        "s1 = 'onetwoseveneight'\n",
        "s2 = 'one2seveneight'\n",
        "s3 = '2three45sixseven'\n",
        "\n",
        "\n",
        "print(solution(s1))\n",
        "print(solution(s2))\n",
        "print(solution(s3))"
      ],
      "metadata": {
        "colab": {
          "base_uri": "https://localhost:8080/"
        },
        "id": "ye1_JuP2nxBK",
        "outputId": "d3429d5a-b58c-444c-cbfd-92ffbbaff3a8"
      },
      "execution_count": null,
      "outputs": [
        {
          "output_type": "stream",
          "name": "stdout",
          "text": [
            "1278\n",
            "1278\n",
            "234567\n"
          ]
        }
      ]
    }
  ]
}