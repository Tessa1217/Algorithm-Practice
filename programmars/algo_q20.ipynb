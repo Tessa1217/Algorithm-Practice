{
  "nbformat": 4,
  "nbformat_minor": 0,
  "metadata": {
    "colab": {
      "name": "algo_q20",
      "provenance": [],
      "collapsed_sections": [],
      "authorship_tag": "ABX9TyO4pS1k0EbmUC06q2TI2Hpk"
    },
    "kernelspec": {
      "name": "python3",
      "display_name": "Python 3"
    },
    "language_info": {
      "name": "python"
    }
  },
  "cells": [
    {
      "cell_type": "markdown",
      "source": [
        "폰켓몬 \n",
        "(프로그래머스 Level1)"
      ],
      "metadata": {
        "id": "LVofIWUi7mV_"
      }
    },
    {
      "cell_type": "markdown",
      "source": [
        "*   nums = 포켓몬 종류 번호 배열 (항상 짝수)\n",
        "*   len(nums)//2 마리 만큼 선택 가능\n",
        "*   최대한 다양한 종류의 포켓몬 선택 -> 최대 종류 갯수 구하기\n",
        "\n",
        "\n",
        "\n"
      ],
      "metadata": {
        "id": "F30A7js_DvMy"
      }
    },
    {
      "cell_type": "code",
      "execution_count": null,
      "metadata": {
        "colab": {
          "base_uri": "https://localhost:8080/"
        },
        "id": "QpgxNYzhNb8b",
        "outputId": "05fd7014-191e-43e7-c634-b40764743d54"
      },
      "outputs": [
        {
          "output_type": "stream",
          "name": "stdout",
          "text": [
            "2 3\n"
          ]
        }
      ],
      "source": [
        "# Test Case 1\n",
        "nums = [3, 1, 2, 3]\n",
        "\n",
        "length = len(nums)//2\n",
        "kind = len(set(nums))\n",
        "\n",
        "print(length, kind)"
      ]
    },
    {
      "cell_type": "code",
      "source": [
        "def solution(nums):\n",
        "  return min(len(nums)//2, len(set(nums)))\n",
        "\n",
        "print(solution([3, 3, 3, 2, 2, 4]))\n",
        "print(solution([3, 3, 3, 2, 2, 2]))\n",
        "print(solution([1, 2, 3, 4, 5, 6, 7, 8, 9, 10]))"
      ],
      "metadata": {
        "colab": {
          "base_uri": "https://localhost:8080/"
        },
        "id": "IcOgnpqsEdxx",
        "outputId": "4c4c1fc8-a7bd-4c65-9d95-869a1b5f295f"
      },
      "execution_count": null,
      "outputs": [
        {
          "output_type": "stream",
          "name": "stdout",
          "text": [
            "3\n",
            "2\n",
            "5\n"
          ]
        }
      ]
    }
  ]
}
