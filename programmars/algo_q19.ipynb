{
  "nbformat": 4,
  "nbformat_minor": 0,
  "metadata": {
    "colab": {
      "name": "algo_q19",
      "provenance": [],
      "authorship_tag": "ABX9TyP/YgYxCoHAA7UYDtJd+VbZ"
    },
    "kernelspec": {
      "name": "python3",
      "display_name": "Python 3"
    },
    "language_info": {
      "name": "python"
    }
  },
  "cells": [
    {
      "cell_type": "markdown",
      "source": [
        "이상한 문자 만들기 \n",
        "(프로그래머스 Level 1)"
      ],
      "metadata": {
        "id": "TljbAtI9X55l"
      }
    },
    {
      "cell_type": "code",
      "execution_count": 42,
      "metadata": {
        "colab": {
          "base_uri": "https://localhost:8080/"
        },
        "id": "EpQuvNqwHmvC",
        "outputId": "6d629cd5-6a4c-4295-ea63-46e77ba3caff"
      },
      "outputs": [
        {
          "output_type": "stream",
          "name": "stdout",
          "text": [
            "TrY HeLlO WoRlD\n"
          ]
        }
      ],
      "source": [
        "# Test Case\n",
        "\n",
        "s = \"try hello world\"\n",
        "s_list = s.split(' ')\n",
        "result = []\n",
        "for i in range(len(s_list)):\n",
        "  answer = ''\n",
        "  for j in range(len(s_list[i])):\n",
        "    if j%2 == 0:\n",
        "      answer += s_list[i][j].upper()\n",
        "    else:\n",
        "      answer += s_list[i][j].lower()\n",
        "  result.append(answer)\n",
        "print(' '.join(result))\n",
        "  "
      ]
    },
    {
      "cell_type": "code",
      "source": [
        "def solution(s):\n",
        "  s = s.split(' ')\n",
        "  answer = []\n",
        "  for i in range(len(s)):\n",
        "    a = ''\n",
        "    for j in range(len(s[i])):\n",
        "      if j%2 == 0:\n",
        "        a += s[i][j].upper()\n",
        "      else:\n",
        "        a += s[i][j].lower()\n",
        "    answer.append(a)\n",
        "  return ' '.join(answer)\n",
        "\n",
        "print(solution('try hello world'))\n",
        "print(solution('aaa aaaa aaaaa aaaaaaa'))"
      ],
      "metadata": {
        "colab": {
          "base_uri": "https://localhost:8080/"
        },
        "id": "L_aRXrufbu5G",
        "outputId": "1202eb72-8631-469c-d0be-8295858d6c8c"
      },
      "execution_count": 44,
      "outputs": [
        {
          "output_type": "stream",
          "name": "stdout",
          "text": [
            "TrY HeLlO WoRlD\n",
            "AaA AaAa AaAaA AaAaAaA\n"
          ]
        }
      ]
    }
  ]
}