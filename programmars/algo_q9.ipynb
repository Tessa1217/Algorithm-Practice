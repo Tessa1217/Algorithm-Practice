{
  "nbformat": 4,
  "nbformat_minor": 0,
  "metadata": {
    "colab": {
      "name": "algo_q9",
      "provenance": [],
      "authorship_tag": "ABX9TyMtv3wwhHlJopMYovEGo6Pq"
    },
    "kernelspec": {
      "name": "python3",
      "display_name": "Python 3"
    },
    "language_info": {
      "name": "python"
    }
  },
  "cells": [
    {
      "cell_type": "code",
      "execution_count": 11,
      "metadata": {
        "colab": {
          "base_uri": "https://localhost:8080/"
        },
        "id": "oJCyQPC7JfrA",
        "outputId": "032c6117-1f13-4d2c-c9ea-02f083c4e96c"
      },
      "outputs": [
        {
          "output_type": "stream",
          "name": "stdout",
          "text": [
            "1200\n",
            "11122\n"
          ]
        }
      ],
      "source": [
        "# 3진수로 변환 \n",
        "tmp = ['0', '1', '2']\n",
        "def tri(n, b):\n",
        "  x, y  = divmod(n, b)\n",
        "  if x == 0:\n",
        "    return tmp[y]\n",
        "  else:\n",
        "    return tri(x, b) + tmp[y] \n",
        "\n",
        "# 45, 3 = (15, 0), (5, 0), (1, 2), (0, 1) -> 1200\n",
        "\n",
        "print(tri(45, 3))\n",
        "print(tri(125, 3))"
      ]
    },
    {
      "cell_type": "code",
      "source": [
        "# Frist Try\n",
        "def tri(n, b):\n",
        "  reverse = []\n",
        "  while n > 0:\n",
        "    n, x = divmod(n, b) # Tuple로 값, 나머지 반환 \n",
        "    reverse.append(x)\n",
        "  return ''.join(map(str, reverse))\n",
        "\n",
        "def solution(n):\n",
        "  answer = tri(n, 3)\n",
        "  return int(answer, 3)\n",
        "\n",
        "print(solution(45))\n",
        "print(solution(125))"
      ],
      "metadata": {
        "colab": {
          "base_uri": "https://localhost:8080/"
        },
        "id": "1GmWqKj_JvGg",
        "outputId": "1eba0480-8b45-4aa3-b72e-c08c626801ca"
      },
      "execution_count": 82,
      "outputs": [
        {
          "output_type": "stream",
          "name": "stdout",
          "text": [
            "7\n",
            "229\n"
          ]
        }
      ]
    },
    {
      "cell_type": "code",
      "source": [
        "# Second Try\n",
        "def tri(n, b):\n",
        "  reverse = []\n",
        "  while n:\n",
        "    reverse.append(n%b)\n",
        "    n = n//3\n",
        "  return int(''.join(map(str, reverse)), 3)\n",
        "\n",
        "print(tri(45, 3))"
      ],
      "metadata": {
        "colab": {
          "base_uri": "https://localhost:8080/"
        },
        "id": "aOiIrAZLJiRA",
        "outputId": "df4b747f-a1d0-43c3-8fd3-8597d594267c"
      },
      "execution_count": 87,
      "outputs": [
        {
          "output_type": "stream",
          "name": "stdout",
          "text": [
            "7\n"
          ]
        }
      ]
    },
    {
      "cell_type": "code",
      "source": [
        "# Third Try \n",
        "def tri(n, b):\n",
        "  reverse = ''\n",
        "  while n:\n",
        "    reverse += str(n%b)\n",
        "    n = n//3 \n",
        "  return int(reverse, 3)\n",
        "\n",
        "print(tri(125, 3))"
      ],
      "metadata": {
        "colab": {
          "base_uri": "https://localhost:8080/"
        },
        "id": "gXcc2IDyeuU3",
        "outputId": "967394dd-1580-4d09-e37a-a185786080a4"
      },
      "execution_count": 90,
      "outputs": [
        {
          "output_type": "stream",
          "name": "stdout",
          "text": [
            "229\n"
          ]
        }
      ]
    }
  ]
}
