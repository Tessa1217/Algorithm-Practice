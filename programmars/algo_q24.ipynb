{
  "nbformat": 4,
  "nbformat_minor": 0,
  "metadata": {
    "colab": {
      "name": "algo.q24",
      "provenance": [],
      "authorship_tag": "ABX9TyO7TlqMOVPiI4M9K+cd8pL6"
    },
    "kernelspec": {
      "name": "python3",
      "display_name": "Python 3"
    },
    "language_info": {
      "name": "python"
    }
  },
  "cells": [
    {
      "cell_type": "markdown",
      "source": [
        "콜라츠 추측\n",
        "(프로그래머스 Level 1)"
      ],
      "metadata": {
        "id": "Gbc7lXzfnWSF"
      }
    },
    {
      "cell_type": "code",
      "execution_count": 4,
      "metadata": {
        "colab": {
          "base_uri": "https://localhost:8080/"
        },
        "id": "uBlezTG1mX98",
        "outputId": "28b7c4e2-a367-40c1-99fb-d9efa13c0bdd"
      },
      "outputs": [
        {
          "output_type": "stream",
          "name": "stdout",
          "text": [
            "8\n",
            "4\n",
            "-1\n",
            "0\n"
          ]
        }
      ],
      "source": [
        "def solution(num):\n",
        "  cnt = 0\n",
        "  while num != 1:\n",
        "    if num%2 == 0:\n",
        "      num = num/2\n",
        "    else:\n",
        "      num = num*3 + 1\n",
        "    cnt += 1\n",
        "  if cnt >= 500:\n",
        "    return -1\n",
        "  return cnt\n",
        "\n",
        "print(solution(6))\n",
        "print(solution(16))\n",
        "print(solution(626331))\n",
        "print(solution(1))"
      ]
    }
  ]
}