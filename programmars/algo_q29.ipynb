{
  "nbformat": 4,
  "nbformat_minor": 0,
  "metadata": {
    "colab": {
      "name": "algo_q29",
      "provenance": [],
      "authorship_tag": "ABX9TyMGRlpb62MO7RwuRggbytUG"
    },
    "kernelspec": {
      "name": "python3",
      "display_name": "Python 3"
    },
    "language_info": {
      "name": "python"
    }
  },
  "cells": [
    {
      "cell_type": "markdown",
      "source": [
        "전화번호 목록 (Level 2)\n",
        "\n",
        "* 리스트 내 한 요소가 다른 요소의 접두사(prefix)인 지 여부를 판별하여 만약 접두사인 경우 False를, 모든 요소가 서로의 접두사가 아닐 경우 True를 반환하세요.\n",
        "* 리스트 내 중복 요소는 없습니다.\n",
        "* 리스트의 길이는 1~20 사이입니다."
      ],
      "metadata": {
        "id": "jW5r2tSMs4ru"
      }
    },
    {
      "cell_type": "code",
      "source": [
        "def solution(phone):\n",
        "  \n",
        "  phone.sort() \n",
        "  # string sorting: ['12', '13', '123'] > ['12', '123', '13']\n",
        "  \n",
        "  answer = True\n",
        "  \n",
        "  for i in range(len(phone)-1):\n",
        "    pre = len(phone[i])\n",
        "    # compare '12', '123' & '123', '13' > '12' is the prefix of '123'\n",
        "    if phone[i] == phone[i+1][:pre]:\n",
        "      answer = False\n",
        "  return answer \n",
        "\n",
        "\n",
        "print(solution([\"119\", \"97674223\", \"1195524421\"]))\n",
        "print(solution([\"123\", \"456\", \"789\"]))\n",
        "print(solution([\"12\", \"123\", \"1235\", \"567\", \"88\"]))"
      ],
      "metadata": {
        "colab": {
          "base_uri": "https://localhost:8080/"
        },
        "id": "RFKZfp7ErYMu",
        "outputId": "68424eb9-b4fa-4db5-9616-274146f99958"
      },
      "execution_count": 16,
      "outputs": [
        {
          "output_type": "stream",
          "name": "stdout",
          "text": [
            "False\n",
            "True\n",
            "False\n"
          ]
        }
      ]
    },
    {
      "cell_type": "code",
      "source": [
        "# Test Case 1\n",
        "\n",
        "def solution(phone):\n",
        "  pre = len(phone[0])\n",
        "  answer = 'true'\n",
        "  for i in range(1, len(phone)):\n",
        "    if phone[0] == phone[i][:pre]:\n",
        "      answer = 'false'\n",
        "  return answer \n",
        "\n",
        "print(solution([\"119\", \"97674223\", \"1195524421\"]))\n",
        "print(solution([\"123\", \"456\", \"789\"]))\n",
        "print(solution([\"12\", \"123\", \"1235\", \"567\", \"88\"]))\n",
        "\n",
        "#Test 8, 9, 12, 15, 19 Failed\n",
        "#Question: if 'one' of the elements in array phone \n",
        "#is the prefix of others, return false. This code only \n",
        "#tests whether the first element in array is the prefix \n",
        "#of others."
      ],
      "metadata": {
        "colab": {
          "base_uri": "https://localhost:8080/"
        },
        "id": "xsK6UghylQ7j",
        "outputId": "162a59b0-0e38-4c6f-a729-34c401dc0149"
      },
      "execution_count": 17,
      "outputs": [
        {
          "output_type": "stream",
          "name": "stdout",
          "text": [
            "false\n",
            "true\n",
            "false\n"
          ]
        }
      ]
    }
  ]
}