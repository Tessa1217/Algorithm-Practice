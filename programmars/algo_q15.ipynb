{
  "nbformat": 4,
  "nbformat_minor": 0,
  "metadata": {
    "colab": {
      "name": "algo_q15",
      "provenance": [],
      "collapsed_sections": [],
      "authorship_tag": "ABX9TyPLo4qrreHHCHcSARrsa7RF"
    },
    "kernelspec": {
      "name": "python3",
      "display_name": "Python 3"
    },
    "language_info": {
      "name": "python"
    }
  },
  "cells": [
    {
      "cell_type": "markdown",
      "source": [
        "다트게임\n",
        "(프로그래머스 Level1)"
      ],
      "metadata": {
        "id": "3t5yixXf6Ph0"
      }
    },
    {
      "cell_type": "markdown",
      "source": [
        "\n",
        "# 규칙\n",
        "1.  다트 게임은 총 3번의 기회로 구성 \n",
        "2.  각 기회마다 0~10점 얻을 수 있음 \n",
        "3.  3가지 영역 존재, 점수마다 하나씩 반드시 존재 - Single(S): 1제곱, Double(D):2제곱, Triple(T):3제곱\n",
        "4.  2가지 옵션 존재, 점수마다 둘 중 하나만 존재 가능하며 존재하지 않을 수도 있음 = 스타상(*): 해당 점수와 바로 전에 얻은 점수 * 2, 만약 첫번째 기회에서 스타상이면 첫번째 기회 점수 *2, 아차상(#): 해당 점수가 마이너스됨\n",
        "  - 스타상과 아차상은 중첩 가능 (ex - 3번째에서 스타상 당첨, 2번째에서 아차상 당첨 시 2번째 점수는 -n점 -> 2, 3번째 점수 * 2)\n",
        "\n",
        "\n"
      ],
      "metadata": {
        "id": "Dwe66CFa6Sc7"
      }
    },
    {
      "cell_type": "code",
      "source": [
        "def solution(dartResult):\n",
        "  \n",
        "  dartResult = dartResult.replace('10', 'A') # replace 2 digit num (10)\n",
        "  sums = []\n",
        "  square = {'S':1, 'D':2, 'T':3} # create square option dic\n",
        "\n",
        "  for i in dartResult: \n",
        "    if i == '#':\n",
        "      sums[-1] *= (-1)\n",
        "    elif i == '*':\n",
        "      sums[-1] *= 2\n",
        "      if len(sums) >= 2:\n",
        "        sums[-2] *= 2\n",
        "    elif i in square:\n",
        "      sums[-1] **= square[i]\n",
        "    elif i == 'A':\n",
        "      sums.append(10)\n",
        "    else:\n",
        "      sums.append(int(i))\n",
        "  return sum(sums)\n",
        "\n",
        "print(solution('1S2D*3T'))\n",
        "print(solution('1D2S#10S'))\n",
        "print(solution('1D2S0T'))\n",
        "print(solution('1S*2T*3S'))\n",
        "print(solution('1D#2S*3S'))\n",
        "print(solution('1T2D3D#'))\n",
        "print(solution('1D2S3T*'))\n"
      ],
      "metadata": {
        "colab": {
          "base_uri": "https://localhost:8080/"
        },
        "id": "HTwfZtKCxb8I",
        "outputId": "c31b02da-91d8-4216-de8b-f1cb21f2fe37"
      },
      "execution_count": 14,
      "outputs": [
        {
          "output_type": "stream",
          "name": "stdout",
          "text": [
            "37\n",
            "9\n",
            "3\n",
            "23\n",
            "5\n",
            "-4\n",
            "59\n"
          ]
        }
      ]
    },
    {
      "cell_type": "code",
      "source": [
        "# Regular expression \n",
        "\n",
        "import re \n",
        "\n",
        "def solution(dartResult):\n",
        "  pattern = r'(\\d+)([SDT])([*#]?)'\n",
        "  exp = re.compile(pattern)\n",
        "  dartResult = exp.findall(dartResult)\n",
        "  square = {'S':1, 'D':2, 'T':3}\n",
        "  option = {'*':2, '#':-1, '':1} # When option not in expression -> '' (ex - [('1', 'S', ''), ('2', 'D', '*'), ('3', 'T', '')])\n",
        "  \n",
        "  for i in range(len(dartResult)):\n",
        "    if dartResult[i][2] == '*' and i >= 1:\n",
        "      dartResult[i-1] *= 2\n",
        "    dartResult[i] = int(dartResult[i][0]) ** square[dartResult[i][1]] * option[dartResult[i][2]]\n",
        "  \n",
        "  return sum(dartResult)\n",
        "\n",
        "print(solution('1S2D*3T'))\n",
        "print(solution('1D2S#10S'))\n",
        "print(solution('1D2S0T'))\n",
        "print(solution('1S*2T*3S'))\n",
        "print(solution('1D#2S*3S'))\n",
        "print(solution('1T2D3D#'))\n",
        "print(solution('1D2S3T*'))\n",
        "  "
      ],
      "metadata": {
        "colab": {
          "base_uri": "https://localhost:8080/"
        },
        "id": "Cd1nql8S3EEq",
        "outputId": "d9a58479-12a0-4f23-f066-1fe5943b026d"
      },
      "execution_count": 18,
      "outputs": [
        {
          "output_type": "stream",
          "name": "stdout",
          "text": [
            "37\n",
            "9\n",
            "3\n",
            "23\n",
            "5\n",
            "-4\n",
            "59\n"
          ]
        }
      ]
    }
  ]
}
