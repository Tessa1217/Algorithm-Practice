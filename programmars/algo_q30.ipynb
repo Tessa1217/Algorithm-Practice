{
  "nbformat": 4,
  "nbformat_minor": 0,
  "metadata": {
    "colab": {
      "name": "algo_q30",
      "provenance": [],
      "authorship_tag": "ABX9TyONOzqtkXa/FMOqT0cED1NB"
    },
    "kernelspec": {
      "name": "python3",
      "display_name": "Python 3"
    },
    "language_info": {
      "name": "python"
    }
  },
  "cells": [
    {
      "cell_type": "code",
      "source": [
        "def solution(c):\n",
        "  answer = {}\n",
        "  for i in c:\n",
        "    if i[1] in answer: answer[i[1]] += 1\n",
        "    else: answer[i[1]] = 1\n",
        "  cnt = 1\n",
        "  for i in answer.values():\n",
        "    cnt *= (i+1)\n",
        "  return cnt - 1"
      ],
      "metadata": {
        "id": "815MmDIiDCnr"
      },
      "execution_count": null,
      "outputs": []
    },
    {
      "cell_type": "code",
      "execution_count": 5,
      "metadata": {
        "colab": {
          "base_uri": "https://localhost:8080/"
        },
        "id": "cbun36lQtz1w",
        "outputId": "e7ee23d5-5c99-4aa5-84d1-57266263ad32"
      },
      "outputs": [
        {
          "output_type": "stream",
          "name": "stdout",
          "text": [
            "5\n"
          ]
        }
      ],
      "source": [
        "# Test Case 1\n",
        "\n",
        "c = [[\"yellowhat\", \"headgear\"], \n",
        "['bluesunglasses', 'eyewear'], \n",
        "['green_turban', \"headgear\"]]\n",
        "\n",
        "answer = {}\n",
        "for i in c:\n",
        "  if i[1] in answer: answer[i[1]] += 1\n",
        "  else: answer[i[1]] = 1\n",
        "\n",
        "  cnt = 1\n",
        "  for i in answer.values():\n",
        "    cnt *= (i+1)\n",
        "  \n",
        "print(cnt-1)"
      ]
    }
  ]
}