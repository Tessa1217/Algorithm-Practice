{
  "nbformat": 4,
  "nbformat_minor": 0,
  "metadata": {
    "colab": {
      "name": "algo_q14",
      "provenance": [],
      "collapsed_sections": [],
      "authorship_tag": "ABX9TyNBPU5/7kZfJEyNmdmEV5pm"
    },
    "kernelspec": {
      "name": "python3",
      "display_name": "Python 3"
    },
    "language_info": {
      "name": "python"
    }
  },
  "cells": [
    {
      "cell_type": "code",
      "source": [
        "두 개 뽑아서 더하기\n",
        "(프로그래머스 Level1)"
      ],
      "metadata": {
        "id": "zaNaJMLl0IUC"
      },
      "execution_count": null,
      "outputs": []
    },
    {
      "cell_type": "code",
      "execution_count": null,
      "metadata": {
        "colab": {
          "base_uri": "https://localhost:8080/"
        },
        "id": "QMrPSx2GxtmS",
        "outputId": "188a9c86-461c-406e-fd47-06c8cef82a1b"
      },
      "outputs": [
        {
          "output_type": "stream",
          "name": "stdout",
          "text": [
            "[2, 3, 4, 5, 6, 7]\n",
            "[2, 5, 7, 9, 12]\n",
            "[4]\n"
          ]
        }
      ],
      "source": [
        "# Using combinations from itertools module\n",
        "\n",
        "from itertools import combinations\n",
        "\n",
        "def solution(numbers):\n",
        "  answer = []\n",
        "  comb_num = list(combinations(numbers, 2))\n",
        "  for comb in comb_num:\n",
        "    sum_comb = sum(list(comb))\n",
        "    if sum_comb not in answer:\n",
        "      answer.append(sum_comb)\n",
        "  answer.sort()\n",
        "  return answer\n",
        "\n",
        "numbers1 = [2, 1, 3, 4, 1]\n",
        "print(solution(numbers1))\n",
        "numbers2 = [5, 0, 2, 7]\n",
        "print(solution(numbers2))\n",
        "numbers3 = [2, 2, 2, 2, 2]\n",
        "print(solution(numbers3))"
      ]
    },
    {
      "cell_type": "code",
      "source": [
        "# Using for\n",
        "def combination(array):\n",
        "  answer = []\n",
        "  for i in range(len(array)):\n",
        "    for j in range(i+1, len(array)):\n",
        "      sum_comb = array[i] + array[j] \n",
        "      if sum_comb not in answer:\n",
        "        answer.append(sum_comb)\n",
        "  answer.sort()\n",
        "  return answer\n",
        "\n",
        "array1 = [2, 1, 3, 4, 1]\n",
        "print(combination(array1))\n",
        "array2 = [5, 0, 2, 7]\n",
        "print(combination(array2))\n",
        "array3 = [2, 2, 2, 2, 2]\n",
        "print(combination(array3))"
      ],
      "metadata": {
        "colab": {
          "base_uri": "https://localhost:8080/"
        },
        "id": "Z9yxhE693O18",
        "outputId": "b5bf06f1-c6cf-4efb-eba3-e19fa24f3c15"
      },
      "execution_count": null,
      "outputs": [
        {
          "output_type": "stream",
          "name": "stdout",
          "text": [
            "[2, 3, 4, 5, 6, 7]\n",
            "[2, 5, 7, 9, 12]\n",
            "[4]\n"
          ]
        }
      ]
    }
  ]
}
