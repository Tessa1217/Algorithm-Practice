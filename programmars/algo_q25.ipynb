{
  "nbformat": 4,
  "nbformat_minor": 0,
  "metadata": {
    "colab": {
      "name": "algo_q25",
      "provenance": [],
      "authorship_tag": "ABX9TyPSnxV6J8sgndmjLavxsuRp"
    },
    "kernelspec": {
      "name": "python3",
      "display_name": "Python 3"
    },
    "language_info": {
      "name": "python"
    }
  },
  "cells": [
    {
      "cell_type": "markdown",
      "source": [
        "JadenCase 문자열 만들기\n",
        "(프로그래머스 Level 1)"
      ],
      "metadata": {
        "id": "eJuKuqVUKndr"
      }
    },
    {
      "cell_type": "code",
      "execution_count": 43,
      "metadata": {
        "colab": {
          "base_uri": "https://localhost:8080/"
        },
        "id": "y_N6HEk9oCFX",
        "outputId": "ce62daef-1551-48dd-b031-afa0aabb3bdb"
      },
      "outputs": [
        {
          "output_type": "stream",
          "name": "stdout",
          "text": [
            "3people Unfollowed Me\n",
            "For The Last Week\n",
            "For   The Last  Week\n"
          ]
        }
      ],
      "source": [
        "def solution(s):\n",
        "  s = s.split(' ')\n",
        "  answer = [i[0].upper() + i[1:].lower() if i != '' else i for i in s]\n",
        "  return ' '.join(answer)\n",
        "print(solution('3People unFollowed me'))\n",
        "print(solution('for the last week'))\n",
        "print(solution('for   the last  week'))"
      ]
    },
    {
      "cell_type": "markdown",
      "source": [
        "에러 이유: 공백 문자가 중첩해서 나올 경우 중첩된 공백 문자까지 전부 답에 포함되어 있어야 함"
      ],
      "metadata": {
        "id": "r5uxwPXUVBCW"
      }
    }
  ]
}