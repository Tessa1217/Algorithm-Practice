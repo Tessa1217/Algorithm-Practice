{
  "nbformat": 4,
  "nbformat_minor": 0,
  "metadata": {
    "colab": {
      "name": "algo_q18",
      "provenance": [],
      "collapsed_sections": [],
      "authorship_tag": "ABX9TyMxno4SgAkuEctMZQ9iCu/7"
    },
    "kernelspec": {
      "name": "python3",
      "display_name": "Python 3"
    },
    "language_info": {
      "name": "python"
    }
  },
  "cells": [
    {
      "cell_type": "markdown",
      "source": [
        "음양 더하기\n",
        "(프로그래머스 Level1)"
      ],
      "metadata": {
        "id": "xck2ItMaEJzc"
      }
    },
    {
      "cell_type": "markdown",
      "source": [
        "* absolutes - int list of abs(original val)\n",
        "* signs - boolean arr telling whether the original val was positive or negative num \n",
        "\n",
        " * if absolute[0] == True, original val was positive num\n",
        " * if absolute[0] == False, original val was negative num "
      ],
      "metadata": {
        "id": "GnUv21VrEjir"
      }
    },
    {
      "cell_type": "code",
      "execution_count": null,
      "metadata": {
        "colab": {
          "base_uri": "https://localhost:8080/"
        },
        "id": "NKHdRTUoD9JX",
        "outputId": "65c4d908-4015-460d-b21a-9d9a3029a74e"
      },
      "outputs": [
        {
          "output_type": "stream",
          "name": "stdout",
          "text": [
            "9\n"
          ]
        }
      ],
      "source": [
        "# Test Case 1\n",
        "absolutes = [4, 7, 12]\n",
        "signs = ['true', 'false', 'true']\n",
        "\n",
        "\n",
        "for n in range(len(absolutes)):\n",
        "  if signs[n] == False: \n",
        "    absolutes[n] *= -1\n",
        "print(sum(absolutes))"
      ]
    },
    {
      "cell_type": "code",
      "source": [
        "# Test Case 2\n",
        "absolutes = [1, 2, 3]\n",
        "signs = ['false', 'false', 'true']\n",
        "\n",
        "for n in range(len(absolutes)):\n",
        "  if signs[n] == 'false':\n",
        "    absolutes[n] *= -1\n",
        "\n",
        "print(sum(absolutes))"
      ],
      "metadata": {
        "colab": {
          "base_uri": "https://localhost:8080/"
        },
        "id": "Md1H7JX0KzEe",
        "outputId": "540ebefc-29fd-4024-c89b-48f434cb6f8f"
      },
      "execution_count": null,
      "outputs": [
        {
          "output_type": "stream",
          "name": "stdout",
          "text": [
            "6\n"
          ]
        }
      ]
    },
    {
      "cell_type": "code",
      "source": [
        "def solution(absolutes, signs):\n",
        "  for n in range(len(absolutes)):\n",
        "    if signs[n] == False:\n",
        "      absolutes[n] *= -1\n",
        "  return sum(absolutes)\n",
        "\n",
        "absolutes1 = [4, 7, 12]\n",
        "signs1 = [True, False, True]\n",
        "\n",
        "print(solution(absolutes1, signs1))"
      ],
      "metadata": {
        "colab": {
          "base_uri": "https://localhost:8080/"
        },
        "id": "xkJEvzUOLWQd",
        "outputId": "6c1ed05c-2cac-43e8-902f-88c6141b6af1"
      },
      "execution_count": null,
      "outputs": [
        {
          "output_type": "stream",
          "name": "stdout",
          "text": [
            "9\n"
          ]
        }
      ]
    },
    {
      "cell_type": "code",
      "source": [
        "def solution(absolutes, signs):\n",
        "  return sum([-absolutes[x] if signs[x] == False else absolutes[x] for x in range(len(absolutes))])\n",
        "\n",
        "absolutes1 = [4, 7, 12]\n",
        "signs1 = [True, False, True]\n",
        "\n",
        "print(solution(absolutes1, signs1))"
      ],
      "metadata": {
        "colab": {
          "base_uri": "https://localhost:8080/"
        },
        "id": "bfyhsoISLjfW",
        "outputId": "08054142-2816-4411-a739-07c065f32bf1"
      },
      "execution_count": null,
      "outputs": [
        {
          "output_type": "stream",
          "name": "stdout",
          "text": [
            "9\n"
          ]
        }
      ]
    },
    {
      "cell_type": "code",
      "source": [
        "def solution(absolutes, signs):\n",
        "  return sum(absolutes if sign==True else -absolutes for absolutes, sign in zip(absolutes, signs))\n",
        "\n",
        "absolutes1 = [4, 7, 12]\n",
        "signs1 = [True, False, True]\n",
        "\n",
        "print(solution(absolutes1, signs1))"
      ],
      "metadata": {
        "colab": {
          "base_uri": "https://localhost:8080/"
        },
        "id": "f8btg1jEMTUf",
        "outputId": "64441584-3709-4407-a66d-d362b6ee2fff"
      },
      "execution_count": null,
      "outputs": [
        {
          "output_type": "stream",
          "name": "stdout",
          "text": [
            "9\n"
          ]
        }
      ]
    }
  ]
}
