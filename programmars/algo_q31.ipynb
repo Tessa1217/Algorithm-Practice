{
  "nbformat": 4,
  "nbformat_minor": 0,
  "metadata": {
    "colab": {
      "name": "algo_q31",
      "provenance": [],
      "authorship_tag": "ABX9TyPpBlHYQwpa1kpkb5TB2n7x"
    },
    "kernelspec": {
      "name": "python3",
      "display_name": "Python 3"
    },
    "language_info": {
      "name": "python"
    }
  },
  "cells": [
    {
      "cell_type": "markdown",
      "source": [
        "가장 큰 수\n",
        "* 이어 붙여 만들 수 있는 가장 큰 수 찾기\n",
        "* x는 1000 이하"
      ],
      "metadata": {
        "id": "3nLIsE_P3dea"
      }
    },
    {
      "cell_type": "code",
      "execution_count": 26,
      "metadata": {
        "colab": {
          "base_uri": "https://localhost:8080/"
        },
        "id": "ZMZvaPpnn_Rh",
        "outputId": "1a830c70-2e2b-4c32-e9d0-5362062c8c70"
      },
      "outputs": [
        {
          "output_type": "stream",
          "name": "stdout",
          "text": [
            "6210\n",
            "9534330\n"
          ]
        }
      ],
      "source": [
        "from itertools import permutations\n",
        "\n",
        "def solution(numbers):\n",
        "  comb_int = []\n",
        "  comb = list(permutations(map(str, numbers), len(numbers)))\n",
        "  comb_int.append(int(\"\".join(comb[0])))\n",
        "  for i in range(1, len(comb)):\n",
        "    num = int(\"\".join(comb[i]))\n",
        "    if num > comb_int[0]:\n",
        "      comb_int[0] = num \n",
        "  return comb_int[0]\n",
        "\n",
        "print(solution([6, 10, 2]))\n",
        "print(solution([3, 30, 34, 5, 9]))\n",
        "\n",
        "# Time runout "
      ]
    },
    {
      "cell_type": "code",
      "source": [
        "def solution2(numbers):\n",
        "  numbers = [str(x) for x in numbers]\n",
        "  numbers.sort(reverse=True) \n",
        "  return str(int(\"\".join(numbers)))\n",
        "\n",
        "print(solution2([6, 10, 2]))\n",
        "print(solution2([3, 30, 34, 5, 9])) \n",
        "\n",
        "# Second test case error "
      ],
      "metadata": {
        "colab": {
          "base_uri": "https://localhost:8080/"
        },
        "id": "yD9XH1H12S7Z",
        "outputId": "1297d0ff-258f-4338-8fd7-6d881eda2c58"
      },
      "execution_count": 27,
      "outputs": [
        {
          "output_type": "stream",
          "name": "stdout",
          "text": [
            "6210\n",
            "9534303\n"
          ]
        }
      ]
    },
    {
      "cell_type": "code",
      "source": [
        "def solution3(numbers):\n",
        "  numbers = [str(x) for x in numbers]\n",
        "  numbers.sort(key = lambda x : x*3, reverse=True)\n",
        "  # multiply x by 3 because x <= 1,000 to sort \n",
        "  #print(numbers)\n",
        "  return str(int(\"\".join(numbers)))\n",
        "\n",
        "print(solution3([6, 10, 2]))\n",
        "print(solution3([3, 30, 34, 5, 9])) "
      ],
      "metadata": {
        "colab": {
          "base_uri": "https://localhost:8080/"
        },
        "id": "igjIyCiY2k6W",
        "outputId": "7aa53b66-b64b-4c85-f8b6-9203f91f7dcf"
      },
      "execution_count": 29,
      "outputs": [
        {
          "output_type": "stream",
          "name": "stdout",
          "text": [
            "['6', '2', '10']\n",
            "6210\n",
            "['9', '5', '34', '3', '30']\n",
            "9534330\n"
          ]
        }
      ]
    }
  ]
}