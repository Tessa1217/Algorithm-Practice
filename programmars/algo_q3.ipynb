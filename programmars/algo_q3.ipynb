{
  "nbformat": 4,
  "nbformat_minor": 0,
  "metadata": {
    "colab": {
      "name": "algo_q3",
      "provenance": [],
      "authorship_tag": "ABX9TyOmD1aFTSeq89AegrrB0X27"
    },
    "kernelspec": {
      "name": "python3",
      "display_name": "Python 3"
    },
    "language_info": {
      "name": "python"
    }
  },
  "cells": [
    {
      "cell_type": "markdown",
      "source": [
        "하샤드 수 구하기\n",
        "(프로그래머스 Level1)\n",
        "\n"
      ],
      "metadata": {
        "id": "HD2FL4cR-9b6"
      }
    },
    {
      "cell_type": "code",
      "execution_count": 1,
      "metadata": {
        "colab": {
          "base_uri": "https://localhost:8080/"
        },
        "id": "qtaL1xUc-3_A",
        "outputId": "8b51232d-e628-4134-ef25-310221682ea4"
      },
      "outputs": [
        {
          "output_type": "stream",
          "name": "stdout",
          "text": [
            "True\n",
            "False\n",
            "True\n",
            "False\n"
          ]
        }
      ],
      "source": [
        "# First Try\n",
        "def hashad(x):\n",
        "    x = str(x)\n",
        "    h = sum(int(i) for i in x)\n",
        "    if int(x)%h == 0:\n",
        "        return True\n",
        "    else:\n",
        "        return False\n",
        "\n",
        "print(hashad(10))\n",
        "print(hashad(11))\n",
        "print(hashad(12))\n",
        "print(hashad(13))"
      ]
    },
    {
      "cell_type": "code",
      "source": [
        "# Second Try:\n",
        "def hashad(x):\n",
        "  h = sum(int(i) for i in str(x))\n",
        "  if x%h == 0:\n",
        "    return True \n",
        "  else:\n",
        "    return False\n",
        "    \n",
        "print(hashad(10))\n",
        "print(hashad(11))\n",
        "print(hashad(12))\n",
        "print(hashad(13))"
      ],
      "metadata": {
        "colab": {
          "base_uri": "https://localhost:8080/"
        },
        "id": "xmcdokFt_PBG",
        "outputId": "a703ea9a-64fd-4aa1-db61-bc529adc4c80"
      },
      "execution_count": 2,
      "outputs": [
        {
          "output_type": "stream",
          "name": "stdout",
          "text": [
            "True\n",
            "False\n",
            "True\n",
            "False\n"
          ]
        }
      ]
    },
    {
      "cell_type": "code",
      "source": [
        "# Third Try:\n",
        "def hashad(x):\n",
        "  return True if x%sum(int(i) for i in str(x))==0 else False\n",
        "\n",
        "print(hashad(10))\n",
        "print(hashad(11))\n",
        "print(hashad(12))\n",
        "print(hashad(13))"
      ],
      "metadata": {
        "colab": {
          "base_uri": "https://localhost:8080/"
        },
        "id": "mN4JjPB__lTw",
        "outputId": "a3587cab-b25c-4a1a-9878-c30ca5f1f555"
      },
      "execution_count": 4,
      "outputs": [
        {
          "output_type": "stream",
          "name": "stdout",
          "text": [
            "True\n",
            "False\n",
            "True\n",
            "False\n"
          ]
        }
      ]
    }
  ]
}
