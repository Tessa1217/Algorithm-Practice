{
  "nbformat": 4,
  "nbformat_minor": 0,
  "metadata": {
    "colab": {
      "name": "algo_q17",
      "provenance": [],
      "collapsed_sections": [],
      "authorship_tag": "ABX9TyNpzKrufuKRvx0WTYLTjcxo"
    },
    "kernelspec": {
      "name": "python3",
      "display_name": "Python 3"
    },
    "language_info": {
      "name": "python"
    }
  },
  "cells": [
    {
      "cell_type": "markdown",
      "source": [
        "실패율\n",
        "(프로그래머스 Level 1)"
      ],
      "metadata": {
        "id": "2iOm_TL0vBJl"
      }
    },
    {
      "cell_type": "code",
      "execution_count": null,
      "metadata": {
        "colab": {
          "base_uri": "https://localhost:8080/"
        },
        "id": "oNWbHVIXUIiK",
        "outputId": "591ab287-5740-45c5-e234-5bdc4c6d3fd9"
      },
      "outputs": [
        {
          "output_type": "stream",
          "name": "stdout",
          "text": [
            "{1: 0.125, 2: 0.42857142857142855, 3: 0.5, 4: 0.5, 5: 0.0}\n",
            "[3, 4, 2, 1, 5]\n"
          ]
        }
      ],
      "source": [
        "# Test Case 1\n",
        "stages = [2, 1, 2, 6, 2, 4, 3, 3]\n",
        "N = 5\n",
        "stage_dict = {}\n",
        "for i in range(1, N+1):\n",
        "  stage_dict[i] = stages.count(i)/len([x for x in stages if x >= i])\n",
        "print(stage_dict)\n",
        "print([idk for idk, val in sorted(stage_dict.items(), key=lambda x:x[1], reverse=True)])  "
      ]
    },
    {
      "cell_type": "code",
      "source": [
        "# Test Case 2\n",
        "stages = [4, 4, 4, 4, 4]\n",
        "N = 4\n",
        "stage_dict = {}\n",
        "for i in range(1, N+1):\n",
        "  stage_dict[i] = stages.count(i)/len([x for x in stages if x >= i])\n",
        "print(stage_dict)\n",
        "print([idk for idk, val in sorted(stage_dict.items(), key=lambda x:x[1], reverse=True)]) "
      ],
      "metadata": {
        "colab": {
          "base_uri": "https://localhost:8080/"
        },
        "id": "iHO593NOvEoK",
        "outputId": "74f77332-0386-4024-8ad3-14f25a3e89e6"
      },
      "execution_count": null,
      "outputs": [
        {
          "output_type": "stream",
          "name": "stdout",
          "text": [
            "{1: 0.0, 2: 0.0, 3: 0.0, 4: 1.0}\n",
            "[4, 1, 2, 3]\n"
          ]
        }
      ]
    },
    {
      "cell_type": "code",
      "source": [
        "# First Try \n",
        "def solution(N, stages):\n",
        "  stage_dict = {}\n",
        "  for stage in range(1, N+1):\n",
        "    stage_dict[stage] = stages.count(stage)/len([s for s in stages if s >= stage])\n",
        "  return [i for i, v in sorted(stage_dict.items(), key=lambda x:x[1], reverse=True)]\n",
        "\n",
        "print(solution(4, [4, 4, 4, 4, 4]))\n",
        "print(solution(5, [2, 1, 2, 6, 2, 4, 3, 3]))\n",
        "\n",
        "# Runtime Error occurred \n",
        "# When stages.count = 0, fail rate = 0/len(stage) -> stage_dict[stage] will be 0"
      ],
      "metadata": {
        "colab": {
          "base_uri": "https://localhost:8080/"
        },
        "id": "8bJWhqBNvONV",
        "outputId": "3de5ea88-47e7-4799-ddaa-bee16916b778"
      },
      "execution_count": null,
      "outputs": [
        {
          "output_type": "stream",
          "name": "stdout",
          "text": [
            "[4, 1, 2, 3]\n",
            "[3, 4, 2, 1, 5]\n"
          ]
        }
      ]
    },
    {
      "cell_type": "code",
      "source": [
        "# Second Try\n",
        "\n",
        "def solution(N, stages):\n",
        "  stage_dict = {}\n",
        "  user_s = len(stages)\n",
        "\n",
        "  for s in range(1, N+1):\n",
        "    if stages.count(s) == 0:\n",
        "      stage_dict[s] = 0\n",
        "    else: \n",
        "      stage_dict[s] = stages.count(s)/user_s \n",
        "      user_s -= stages.count(s)\n",
        "\n",
        "  stage_dict = dict(sorted(stage_dict.items(), key=lambda x:x[1], reverse=True))\n",
        "  return list(stage_dict.keys())\n",
        "\n",
        "\n",
        "print(solution(4, [4, 4, 4, 4, 4]))\n",
        "print(solution(5, [2, 1, 2, 6, 2, 4, 3, 3]))"
      ],
      "metadata": {
        "colab": {
          "base_uri": "https://localhost:8080/"
        },
        "id": "8lRMR5HJyLpP",
        "outputId": "8bc313ae-638b-4492-d984-61d0bf205315"
      },
      "execution_count": null,
      "outputs": [
        {
          "output_type": "stream",
          "name": "stdout",
          "text": [
            "[4, 1, 2, 3]\n",
            "[3, 4, 2, 1, 5]\n"
          ]
        }
      ]
    }
  ]
}
