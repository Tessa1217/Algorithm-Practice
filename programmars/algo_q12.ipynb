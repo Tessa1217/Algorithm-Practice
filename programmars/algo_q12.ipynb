{
  "nbformat": 4,
  "nbformat_minor": 0,
  "metadata": {
    "colab": {
      "name": "algo_q12",
      "provenance": [],
      "collapsed_sections": [],
      "authorship_tag": "ABX9TyNVF6HHmckb6cqgjH+OvURW"
    },
    "kernelspec": {
      "name": "python3",
      "display_name": "Python 3"
    },
    "language_info": {
      "name": "python"
    }
  },
  "cells": [
    {
      "cell_type": "markdown",
      "source": [
        "약수의 개수와 덧셈\n",
        "(프로그래머스 Level1)"
      ],
      "metadata": {
        "id": "lHO0ZuEGiYUX"
      }
    },
    {
      "cell_type": "code",
      "execution_count": null,
      "metadata": {
        "colab": {
          "base_uri": "https://localhost:8080/"
        },
        "id": "NH4LnBa9iVBq",
        "outputId": "aac04a0b-51f5-40a6-9f08-a45d0b6a8834"
      },
      "outputs": [
        {
          "output_type": "stream",
          "name": "stdout",
          "text": [
            "43\n"
          ]
        }
      ],
      "source": [
        "# Test Case \n",
        "left = 13\n",
        "right = 17\n",
        "num = [i for i in range(left, right+1)]\n",
        "divisor = [y for x in num for y in range(1, x+1) if x%y == 0]\n",
        "cnt = 0\n",
        "for x in num: \n",
        "  answer = []\n",
        "  for y in range(1, x+1):\n",
        "    if x%y == 0:\n",
        "      answer.append(y)\n",
        "  if len(answer) % 2 == 0:\n",
        "    cnt += x\n",
        "  else:\n",
        "    cnt -= x\n",
        "print(cnt)"
      ]
    },
    {
      "cell_type": "code",
      "source": [
        "def solution(left, right):\n",
        "  cnt = 0\n",
        "  for num in range(left, right+1):\n",
        "    answer = []\n",
        "    for div in range(1, num+1):\n",
        "      if num%div == 0:\n",
        "        answer.append(div)\n",
        "    if len(answer)%2 == 0:\n",
        "      cnt += num \n",
        "    else:\n",
        "      cnt -= num\n",
        "  return cnt\n",
        "print(solution(13, 17))"
      ],
      "metadata": {
        "colab": {
          "base_uri": "https://localhost:8080/"
        },
        "id": "7kQ-sxyQkdEv",
        "outputId": "a7475397-1e37-419a-f2d9-727856b35c9b"
      },
      "execution_count": null,
      "outputs": [
        {
          "output_type": "stream",
          "name": "stdout",
          "text": [
            "43\n"
          ]
        }
      ]
    },
    {
      "cell_type": "code",
      "source": [
        ""
      ],
      "metadata": {
        "id": "XhKf4t5TqxIp"
      },
      "execution_count": null,
      "outputs": []
    }
  ]
}
