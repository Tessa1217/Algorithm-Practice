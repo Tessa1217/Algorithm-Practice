{
  "nbformat": 4,
  "nbformat_minor": 0,
  "metadata": {
    "colab": {
      "name": "algo_q26",
      "provenance": [],
      "authorship_tag": "ABX9TyPaMPNNILmSCQfJ4ZrvECDR"
    },
    "kernelspec": {
      "name": "python3",
      "display_name": "Python 3"
    },
    "language_info": {
      "name": "python"
    }
  },
  "cells": [
    {
      "cell_type": "markdown",
      "source": [
        " 가장 큰 수 - 정렬\n",
        " (프로그래머스 Level 2)\n"
      ],
      "metadata": {
        "id": "Do-4nsqOVhEf"
      }
    },
    {
      "cell_type": "markdown",
      "source": [
        "주어진 정수 리스트를 이어붙여 만들 수 있는 수 중 가장 큰 수 찾기\n",
        "* numbers의 길이는 1 <= numbers <= 100,000\n",
        "* numbers 원소 수는 0 <= numbers < 1,000\n",
        "* 정답은 문자열로 return"
      ],
      "metadata": {
        "id": "7VWefSuNVo0l"
      }
    },
    {
      "cell_type": "code",
      "execution_count": null,
      "metadata": {
        "colab": {
          "base_uri": "https://localhost:8080/"
        },
        "id": "XdHUpMsNVgx6",
        "outputId": "85e2e627-028d-41ec-8477-38bbfbf93728"
      },
      "outputs": [
        {
          "output_type": "stream",
          "name": "stdout",
          "text": [
            "6102\n",
            "6210\n",
            "1062\n",
            "1026\n",
            "2610\n",
            "2106\n",
            "6210\n"
          ]
        }
      ],
      "source": [
        "# Test Case\n",
        "\n",
        "from itertools import permutations\n",
        "\n",
        "numbers = [6, 10, 2] \n",
        "numbers = [str(i) for i in numbers]\n",
        "\n",
        "comb = list(permutations(map(str, numbers), 3))\n",
        "\n",
        "for i in comb:\n",
        "  print(int(''.join(i)))\n",
        "\n",
        "answer = []\n",
        "for j in comb:\n",
        "  answer.append(int(''.join(j)))\n",
        "print(str(max(answer)))"
      ]
    },
    {
      "cell_type": "code",
      "source": [
        "from itertools import permutations\n",
        "\n",
        "def solution(numbers):\n",
        "  comb = list(permutations(map(str, numbers), len(numbers)))\n",
        "  return str(max(list(int(''.join(i)) for i in comb)))\n",
        "\n",
        "print(solution([6, 10, 2]))\n",
        "print(solution([1, 2, 3, 4, 5]))\n",
        "print(solution([0, 0, 0, 0]))\n",
        "\n",
        "# 시간 초과 테스트 1~11"
      ],
      "metadata": {
        "colab": {
          "base_uri": "https://localhost:8080/"
        },
        "id": "zSy3x1IMYa0H",
        "outputId": "ef759c8b-a010-4370-e01c-90fb140ad674"
      },
      "execution_count": 1,
      "outputs": [
        {
          "output_type": "stream",
          "name": "stdout",
          "text": [
            "6210\n",
            "54321\n",
            "0\n"
          ]
        }
      ]
    },
    {
      "cell_type": "code",
      "source": [
        "from itertools import permutations\n",
        "\n",
        "def solution(numbers):\n",
        "  comb = list(permutations(map(str, numbers), len(numbers)))\n",
        "  num_list = list(int(''.join(i)) for i in comb)\n",
        "  n = len(num_list)\n",
        "  for i in range(1, n):\n",
        "    for j in range(i, 0, -1):\n",
        "      if num_list[j-1] > num_list[j]:\n",
        "        num_list[j-1], num_list[j] = num_list[j], num_list[j-1]\n",
        "  return str(num_list[-1])\n",
        "\n",
        "print(solution([6, 10, 2]))\n",
        "print(solution([1, 2, 3, 4, 5]))\n",
        "print(solution([0, 0, 0, 0]))\n",
        "\n",
        "# 시간 초과 테스트 1~11"
      ],
      "metadata": {
        "colab": {
          "base_uri": "https://localhost:8080/"
        },
        "id": "cZYglr9TUGbr",
        "outputId": "6fee6767-70e1-41ee-d85c-bfe007089b70"
      },
      "execution_count": null,
      "outputs": [
        {
          "output_type": "stream",
          "name": "stdout",
          "text": [
            "6210\n",
            "54321\n",
            "0\n"
          ]
        }
      ]
    }
  ]
}