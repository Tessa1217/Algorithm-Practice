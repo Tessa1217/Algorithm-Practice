{
  "nbformat": 4,
  "nbformat_minor": 0,
  "metadata": {
    "colab": {
      "name": "algo_q2",
      "provenance": [],
      "authorship_tag": "ABX9TyOzSgBZLKIMusnHo/e5CYw3"
    },
    "kernelspec": {
      "name": "python3",
      "display_name": "Python 3"
    },
    "language_info": {
      "name": "python"
    }
  },
  "cells": [
    {
      "cell_type": "markdown",
      "source": [
        "x만큼 간격이 있는 n개의 숫자\n",
        "(프로그래머스 Level1)"
      ],
      "metadata": {
        "id": "x9eo-C969d-a"
      }
    },
    {
      "cell_type": "code",
      "execution_count": 9,
      "metadata": {
        "colab": {
          "base_uri": "https://localhost:8080/"
        },
        "id": "h4Q5c0yM9RSX",
        "outputId": "a19a127a-61e1-454f-d5b4-f8fb260030ed"
      },
      "outputs": [
        {
          "output_type": "stream",
          "name": "stdout",
          "text": [
            "[2, 4, 6, 8, 10]\n",
            "[4, 8, 12]\n",
            "[-4, -8]\n",
            "[1, 2, 3, 4, 5]\n"
          ]
        }
      ],
      "source": [
        "# First Try\n",
        "\n",
        "def number(x, n):\n",
        "  answer = []\n",
        "  answer.append(x) \n",
        "  for i in range(n-1):\n",
        "    x = answer[i] + answer[0]\n",
        "    answer.append(x)\n",
        "  return answer\n",
        "\n",
        "print(number(2, 5))\n",
        "print(number(4, 3))\n",
        "print(number(-4, 2))\n",
        "print(number(1, 5))"
      ]
    },
    {
      "cell_type": "code",
      "source": [
        "# Second Try\n",
        "def number(x, n):\n",
        "  answer = []\n",
        "  for i in range(1, n+1):\n",
        "    answer.append(x*i)\n",
        "  return answer\n",
        "\n",
        "print(number(2, 5))\n",
        "print(number(4, 3))\n",
        "print(number(-4, 2))\n",
        "print(number(1, 5))"
      ],
      "metadata": {
        "colab": {
          "base_uri": "https://localhost:8080/"
        },
        "id": "BLsL-ESj935I",
        "outputId": "127cba47-113d-4870-ea33-1b2a20df3a72"
      },
      "execution_count": 11,
      "outputs": [
        {
          "output_type": "stream",
          "name": "stdout",
          "text": [
            "[2, 4, 6, 8, 10]\n",
            "[4, 8, 12]\n",
            "[-4, -8]\n",
            "[1, 2, 3, 4, 5]\n"
          ]
        }
      ]
    },
    {
      "cell_type": "code",
      "source": [
        "# Third Try\n",
        "def number(x, n):\n",
        "  return [x*(i+1) for i in range(n)]\n",
        "\n",
        "print(number(2, 5))\n",
        "print(number(4, 3))\n",
        "print(number(-4, 2))\n",
        "print(number(1, 5))"
      ],
      "metadata": {
        "colab": {
          "base_uri": "https://localhost:8080/"
        },
        "id": "H-NzTItV-XZe",
        "outputId": "affa8e55-6d6c-4f03-e180-5c2ff0585c94"
      },
      "execution_count": 10,
      "outputs": [
        {
          "output_type": "stream",
          "name": "stdout",
          "text": [
            "[2, 4, 6, 8, 10]\n",
            "[4, 8, 12]\n",
            "[-4, -8]\n",
            "[1, 2, 3, 4, 5]\n"
          ]
        }
      ]
    }
  ]
}
