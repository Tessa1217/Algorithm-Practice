{
  "nbformat": 4,
  "nbformat_minor": 0,
  "metadata": {
    "colab": {
      "name": "algo_q4",
      "provenance": [],
      "collapsed_sections": [],
      "authorship_tag": "ABX9TyM5JiZRFvMuV7KA88lSXVw2"
    },
    "kernelspec": {
      "name": "python3",
      "display_name": "Python 3"
    },
    "language_info": {
      "name": "python"
    }
  },
  "cells": [
    {
      "cell_type": "markdown",
      "source": [
        "최대공약수와 최소공배수 구하기\n",
        "(프로그래머스 Level1)"
      ],
      "metadata": {
        "id": "lJfZTrM_AYRF"
      }
    },
    {
      "cell_type": "code",
      "execution_count": 7,
      "metadata": {
        "colab": {
          "base_uri": "https://localhost:8080/"
        },
        "id": "E1ouNIt7AV9G",
        "outputId": "2aba54a6-fd96-4146-c260-ac2cf2244dbc"
      },
      "outputs": [
        {
          "output_type": "stream",
          "name": "stdout",
          "text": [
            "[1, 2, 3, 4, 6, 12]\n",
            "[1, 2, 3, 6, 9, 18]\n",
            "[1, 2, 3, 6]\n",
            "6\n"
          ]
        }
      ],
      "source": [
        "# 최대공약수\n",
        "\n",
        "def comfac(x):\n",
        "  com_fac = []\n",
        "  for i in range(1, x+1):\n",
        "    if x%i == 0:\n",
        "      com_fac.append(i)\n",
        "  return com_fac\n",
        "\n",
        "com_fac1 = comfac(12)\n",
        "print(com_fac1)\n",
        "com_fac2 = comfac(18)\n",
        "print(com_fac2)\n",
        "\n",
        "com_fac3 = []\n",
        "for i in com_fac1:\n",
        "  for j in com_fac2:\n",
        "    if i==j:\n",
        "      com_fac3.append(i)\n",
        "print(com_fac3)\n",
        "print(max(com_fac3)) # 최대공약수\n"
      ]
    },
    {
      "cell_type": "code",
      "source": [
        "def greatcf(x, y):\n",
        "  gcf = []\n",
        "  for i in list(j for j in range(1, x+1) if x%j==0):\n",
        "    for j in list(q for q in range(1, y+1) if y%q==0):\n",
        "      if i==j:\n",
        "        gcf.append(i)\n",
        "  return max(gcf)\n",
        "\n",
        "print(greatcf(12, 18))\n",
        "\n",
        "# 최대공약수 최소공배수\n",
        "def leastcmf(x, y):\n",
        "  cf = []\n",
        "  for i in list(j for j in range(1, x+1) if x%j==0):\n",
        "    for j in list(q for q in range(1, y+1) if y%q==0):\n",
        "      if i==j:\n",
        "        cf.append(i)\n",
        "  gcf = max(cf)\n",
        "  lcm = int((x*y)/gcf)\n",
        "  answer = []\n",
        "  answer.append(gcf)\n",
        "  answer.append(lcm)\n",
        "  return answer\n",
        "\n",
        "print(leastcmf(12, 18))"
      ],
      "metadata": {
        "colab": {
          "base_uri": "https://localhost:8080/"
        },
        "id": "C9dpuZCWB9--",
        "outputId": "77abbeb8-fb9e-4eeb-ceb1-097f930b912a"
      },
      "execution_count": 38,
      "outputs": [
        {
          "output_type": "stream",
          "name": "stdout",
          "text": [
            "6\n",
            "[6, 36]\n"
          ]
        }
      ]
    },
    {
      "cell_type": "code",
      "source": [
        "# [최대공약수, 최소공배수]\n",
        "def common(x, y):\n",
        "  answer = []\n",
        "  commonfactor = [i for i in [j for j in range(1, x+1) if x%j==0] \\\n",
        "                  for j in [q for q in range(1, y+1) if y%q==0] if i==j]\n",
        "  answer.append(max(commonfactor))\n",
        "  answer.append(int((x*y)/max(commonfactor)))\n",
        "  return answer\n",
        "\n",
        "print(common(12, 18))\n",
        "print(common(3, 12))\n",
        "print(common(2, 5))"
      ],
      "metadata": {
        "colab": {
          "base_uri": "https://localhost:8080/"
        },
        "id": "tQ6KuPYmDCbt",
        "outputId": "cde843de-966d-4215-972c-2823bcdab4e3"
      },
      "execution_count": 45,
      "outputs": [
        {
          "output_type": "stream",
          "name": "stdout",
          "text": [
            "[6, 36]\n",
            "[3, 12]\n",
            "[1, 10]\n"
          ]
        }
      ]
    }
  ]
}
