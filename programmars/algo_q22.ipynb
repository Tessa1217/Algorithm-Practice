{
  "nbformat": 4,
  "nbformat_minor": 0,
  "metadata": {
    "colab": {
      "name": "algo_q22",
      "provenance": [],
      "collapsed_sections": [],
      "authorship_tag": "ABX9TyM3qYqVSnjteckGo65p1TgK"
    },
    "kernelspec": {
      "name": "python3",
      "display_name": "Python 3"
    },
    "language_info": {
      "name": "python"
    }
  },
  "cells": [
    {
      "cell_type": "markdown",
      "source": [
        "로또의 최고 순위와 최저 순위\n",
        "(프로그래머스 Level 1)"
      ],
      "metadata": {
        "id": "6om5e05sZIb1"
      }
    },
    {
      "cell_type": "markdown",
      "source": [
        "1. 6개 번호 모두 일치\n",
        "2. 5개\n",
        "3. 4개\n",
        "4. 3개\n",
        "5. 2개\n",
        "6. 그 외"
      ],
      "metadata": {
        "id": "LBNfGSSUZMOd"
      }
    },
    {
      "cell_type": "code",
      "execution_count": null,
      "metadata": {
        "colab": {
          "base_uri": "https://localhost:8080/"
        },
        "id": "oPuAXzqyYJ63",
        "outputId": "fc08b786-8a1b-43c8-fcc8-5aa50ed430ee"
      },
      "outputs": [
        {
          "output_type": "stream",
          "name": "stdout",
          "text": [
            "5\n"
          ]
        }
      ],
      "source": [
        "# Lottos - lowest rank\n",
        "lottos = [44, 1, 0, 0, 31, 25]\n",
        "win_nums = [31, 10, 45, 1, 6, 19]\n",
        "rank = {1:6, 2:5, 3:4, 4:3, 5:2, 6:[1,0]}\n",
        "lottos_low = [i for i in lottos if i in win_nums]\n",
        "lottos_rank_low = len(lottos_low)\n",
        "for idk, val in rank.items():\n",
        "  if lottos_rank_low == val:\n",
        "    print(idk)"
      ]
    },
    {
      "cell_type": "code",
      "source": [
        "# Lottos - highest rank \n",
        "lottos = [44, 1, 0, 0, 31, 25]\n",
        "win_nums = [31, 10, 45, 1, 6, 9]\n",
        "rank = {1:6, 2:5, 3:4, 4:3, 5:2, 6:[1,0]}\n",
        "lottos_low = [i for i in lottos if i in win_nums]\n",
        "lottos_rank_high = len(lottos_low) + lottos.count(0)\n",
        "for idk, val in rank.items():\n",
        "  if lottos_rank_high == val:\n",
        "    print(idk)"
      ],
      "metadata": {
        "colab": {
          "base_uri": "https://localhost:8080/"
        },
        "id": "rdy5Vf82mHj6",
        "outputId": "2da87895-187e-4aed-962c-068154fb1719"
      },
      "execution_count": null,
      "outputs": [
        {
          "output_type": "stream",
          "name": "stdout",
          "text": [
            "3\n"
          ]
        }
      ]
    },
    {
      "cell_type": "code",
      "source": [
        "def solution(lottos, win_nums):\n",
        "  rank = {1:6, 2:5, 3:4, 4:3, 5:2}\n",
        "  l_match = [i for i in lottos if i in win_nums]\n",
        "  l_low = len(l_match)\n",
        "  l_high = len(l_match) + lottos.count(0)\n",
        "  for idk, val in rank.items():\n",
        "    if l_low <= 1:\n",
        "      low = 6\n",
        "    else:\n",
        "      if l_low == val:\n",
        "        low = idk\n",
        "    if l_high <= 1:\n",
        "      high = 6\n",
        "    else:\n",
        "      if l_high == val:\n",
        "        high = idk \n",
        "  return [high, low]\n",
        "\n",
        "lottos1 = [44, 1, 0, 0, 31, 25]\n",
        "win_nums1 = [31, 10, 45, 1, 6, 19]\n",
        "print(solution(lottos1, win_nums1))\n",
        "\n",
        "lottos2 = [0, 0, 0, 0, 0, 0]\n",
        "win_nums2 = [38, 19, 20, 40, 15, 25]\n",
        "print(solution(lottos2, win_nums2))\n",
        "\n",
        "lottos3 = [45, 4, 35, 20, 3, 9]\n",
        "win_nums3 = [20, 9, 3, 45, 4, 35]\n",
        "print(solution(lottos3, win_nums3))"
      ],
      "metadata": {
        "colab": {
          "base_uri": "https://localhost:8080/"
        },
        "id": "LUMUjdOmnlkT",
        "outputId": "d67ddf25-91f2-44d1-94ae-c73434d961bb"
      },
      "execution_count": 1,
      "outputs": [
        {
          "output_type": "stream",
          "name": "stdout",
          "text": [
            "[3, 5]\n",
            "[1, 6]\n",
            "[1, 1]\n"
          ]
        }
      ]
    },
    {
      "cell_type": "code",
      "source": [
        "def solution(lottos, win_nums):\n",
        "  rank = [6, 6, 5, 4, 3, 2, 1]\n",
        "  l_match = [i for i in lottos if i in win_nums]\n",
        "  l_low = len(l_match)\n",
        "  l_high = len(l_match) + lottos.count(0)\n",
        "  lotto_rank = []\n",
        "  for r in range(len(rank)):\n",
        "    if l_low == r:\n",
        "      lotto_rank.append(rank[r])\n",
        "    if l_high == r:\n",
        "      lotto_rank.append(rank[r])\n",
        "  lotto_rank.sort()\n",
        "  return lotto_rank\n",
        "\n",
        "lottos1 = [44, 1, 0, 0, 31, 25]\n",
        "win_nums1 = [31, 10, 45, 1, 6, 19]\n",
        "print(solution(lottos1, win_nums1))\n",
        "\n",
        "lottos2 = [0, 0, 0, 0, 0, 0]\n",
        "win_nums2 = [38, 19, 20, 40, 15, 25]\n",
        "print(solution(lottos2, win_nums2))\n",
        "\n",
        "lottos3 = [45, 4, 35, 20, 3, 9]\n",
        "win_nums3 = [20, 9, 3, 45, 4, 35]\n",
        "print(solution(lottos3, win_nums3))"
      ],
      "metadata": {
        "colab": {
          "base_uri": "https://localhost:8080/"
        },
        "id": "rMLGGQop-kpj",
        "outputId": "8deefc5a-16e2-44ff-cc71-f55acf1cd15a"
      },
      "execution_count": 7,
      "outputs": [
        {
          "output_type": "stream",
          "name": "stdout",
          "text": [
            "[3, 5]\n",
            "[1, 6]\n",
            "[1, 1]\n"
          ]
        }
      ]
    }
  ]
}
