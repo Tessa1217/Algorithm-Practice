{
  "nbformat": 4,
  "nbformat_minor": 0,
  "metadata": {
    "colab": {
      "name": "algo_q8",
      "provenance": [],
      "collapsed_sections": [],
      "authorship_tag": "ABX9TyPlsUreKzqbYWR8/0MgYish"
    },
    "kernelspec": {
      "name": "python3",
      "display_name": "Python 3"
    },
    "language_info": {
      "name": "python"
    }
  },
  "cells": [
    {
      "cell_type": "markdown",
      "source": [
        "부족한 금액 계산하기\n",
        "(프로그래머스 Level 1)"
      ],
      "metadata": {
        "id": "h-9cf323d1yV"
      }
    },
    {
      "cell_type": "code",
      "execution_count": 1,
      "metadata": {
        "colab": {
          "base_uri": "https://localhost:8080/"
        },
        "id": "pQ5FEZGdddvL",
        "outputId": "860f23cb-e42c-46b0-a436-e8818581ad34"
      },
      "outputs": [
        {
          "output_type": "stream",
          "name": "stdout",
          "text": [
            "120\n",
            "30\n"
          ]
        }
      ],
      "source": [
        "def factorial(x):\n",
        "  if x == 1:\n",
        "    return 1\n",
        "  return x * factorial(x-1)\n",
        "\n",
        "print(factorial(5))\n",
        "\n",
        "def fee(price, count):\n",
        "  if count == 1:\n",
        "    return price\n",
        "  return count * price + fee(price, count-1)\n",
        "\n",
        "print(fee(3, 4))"
      ]
    },
    {
      "cell_type": "code",
      "source": [
        "def solution(price, money, count):\n",
        "  moneyneed = sum([price*c for c in range(1, count+1)])\n",
        "  return abs(money - moneyneed) if money < moneyneed else 0\n",
        "\n",
        "print(solution(3, 20, 4))\n",
        "print(solution(3, 20, 2))"
      ],
      "metadata": {
        "colab": {
          "base_uri": "https://localhost:8080/"
        },
        "id": "K1TP4FnbgKWV",
        "outputId": "28aabcf6-2eab-4fb3-edea-dbd98076fa30"
      },
      "execution_count": null,
      "outputs": [
        {
          "output_type": "stream",
          "name": "stdout",
          "text": [
            "10\n",
            "0\n"
          ]
        }
      ]
    }
  ]
}