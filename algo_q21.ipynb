{
  "nbformat": 4,
  "nbformat_minor": 0,
  "metadata": {
    "colab": {
      "name": "algo_q21",
      "provenance": [],
      "collapsed_sections": [],
      "authorship_tag": "ABX9TyNoovC2QltPc5bE66RkXRyJ"
    },
    "kernelspec": {
      "name": "python3",
      "display_name": "Python 3"
    },
    "language_info": {
      "name": "python"
    }
  },
  "cells": [
    {
      "cell_type": "markdown",
      "source": [
        "신규 아이디 추천\n",
        "(프로그래머스 Level 1)"
      ],
      "metadata": {
        "id": "bdPNIrv5amrj"
      }
    },
    {
      "cell_type": "markdown",
      "source": [
        "1.   1단계 new_id의 모든 대문자를 대응되는 소문자로 치환합니다.\n",
        "2.   2단계 new_id에서 알파벳 소문자, 숫자, 빼기(-), 밑줄(_), 마침표(.)를 제외한 모든 문자를 제거합니다.\n",
        "3.   3단계 new_id에서 마침표(.)가 2번 이상 연속된 부분을 하나의 마침표(.)로 치환합니다.\n",
        "4.   4단계 new_id에서 마침표(.)가 처음이나 끝에 위치한다면 제거합니다.\n",
        "5.   5단계 new_id가 빈 문자열이라면, new_id에 \"a\"를 대입합니다.\n",
        "6.   6단계 new_id의 길이가 16자 이상이면, new_id의 첫 15개의 문자를 제외한 나머지 문자들을 모두 제거합니다.\n",
        "7.   7단계 new_id의 길이가 2자 이하라면, new_id의 마지막 문자를 new_id의 길이가 3이 될 때까지 반복해서 끝에 붙입니다.\n",
        "\n"
      ],
      "metadata": {
        "id": "o-FxcDEfaqbD"
      }
    },
    {
      "cell_type": "code",
      "execution_count": 1,
      "metadata": {
        "colab": {
          "base_uri": "https://localhost:8080/"
        },
        "id": "nC76PbLlZfbP",
        "outputId": "9bf887b6-af84-4c9c-b313-79cf1c842448"
      },
      "outputs": [
        {
          "output_type": "stream",
          "name": "stdout",
          "text": [
            "bat.y.abcdefghi\n",
            "z--\n",
            "aaa\n",
            "123_.def\n",
            "abcdefghijklmn\n",
            "aabccdd\n"
          ]
        }
      ],
      "source": [
        "import re \n",
        "\n",
        "def solution(new_id):\n",
        "  # 1단계\n",
        "  new_id = new_id.lower()\n",
        "\n",
        "  # 2단계\n",
        "  new = ''\n",
        "  for i in new_id:\n",
        "    if i.isalnum() or i in '-_.':\n",
        "      new += i\n",
        "  \n",
        "  #3단계\n",
        "  while '..' in new:\n",
        "    new = new.replace('..', '.')\n",
        "  \n",
        "  #4단계 \n",
        "  new = new.strip('.')\n",
        "  \n",
        "  #5단계\n",
        "  if len(new) == 0:\n",
        "    new = 'a'\n",
        "  \n",
        "  #6단계\n",
        "  if len(new) >= 16:\n",
        "    new = new[:15]\n",
        "    if new[-1] == '.':\n",
        "      new = new[:-1]\n",
        "\n",
        "  #7단계\n",
        "  while len(new) < 3:\n",
        "    new += new[-1] \n",
        "\n",
        "  return new\n",
        "  \n",
        "new_id = '...!@BaT#*..y.abcdefghijklm'\n",
        "print(solution(new_id))\n",
        "new_id2 = 'z-+.^.'\n",
        "print(solution(new_id2))\n",
        "new_id3 = '=.='\n",
        "print(solution(new_id3))\n",
        "new_id4 = '123_.def'\n",
        "print(solution(new_id4))\n",
        "new_id5 = 'abcdefghijklmn.p'\n",
        "print(solution(new_id5))\n",
        "new_id6 = \"AABccdD\"\n",
        "print(solution(new_id6))"
      ]
    }
  ]
}