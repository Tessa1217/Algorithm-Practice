{
  "nbformat": 4,
  "nbformat_minor": 0,
  "metadata": {
    "colab": {
      "name": "bj_2108",
      "provenance": [],
      "collapsed_sections": [],
      "authorship_tag": "ABX9TyM3AxbtmJjq0RQhlSoYi92x"
    },
    "kernelspec": {
      "name": "python3",
      "display_name": "Python 3"
    },
    "language_info": {
      "name": "python"
    }
  },
  "cells": [
    {
      "cell_type": "markdown",
      "source": [
        "통계학\n",
        "\n",
        "* 산술평균 (Average)\n",
        "* 중간값 (Median)\n",
        "* 최빈값 (Mode)\n",
        "* 범위 (Range)"
      ],
      "metadata": {
        "id": "udlqwY3Tl7h7"
      }
    },
    {
      "cell_type": "code",
      "source": [
        "# Test Case 1\n",
        "\n",
        "N = int(input())\n",
        "nums = []\n",
        "for _ in range(N):\n",
        "  num = int(input())\n",
        "  nums.append(num)\n",
        "\n",
        "# Average\n",
        "print(sum(nums)//len(nums))\n",
        "\n",
        "# Median\n",
        "nums.sort()\n",
        "print(nums[len(nums)//2])\n",
        "\n",
        "# Mode\n",
        "dic = {}\n",
        "for n in nums:\n",
        "  dic[n] = nums.count(n)\n",
        "cnt = 0\n",
        "for k, v in dic.items():\n",
        "  if v == max(dic.values()):\n",
        "    cnt += 1\n",
        "keys = list(set([k for k, v in dic.items() if v == max(dic.values())]))\n",
        "if cnt == 1:\n",
        "  print(keys[0])\n",
        "else:\n",
        "  print(keys[1])\n",
        "\n",
        "# Range\n",
        "print(max(nums) - min(nums))\n",
        "\n",
        "# 시간 초과 발생\n",
        "# 오류: 같은 숫자 있을 경우 (ex - 1, 1, 2, ...) 반드시 두번째로 작은 숫자가 나오지 않음 -> list - set - list로 형변환 이뤄져야 함"
      ],
      "metadata": {
        "colab": {
          "base_uri": "https://localhost:8080/"
        },
        "id": "qmpowABsUW6y",
        "outputId": "6d039ea9-3916-412f-de46-699e31553e35"
      },
      "execution_count": 3,
      "outputs": [
        {
          "output_type": "stream",
          "name": "stdout",
          "text": [
            "5\n",
            "1\n",
            "3\n",
            "2\n",
            "2\n",
            "1\n",
            "1\n",
            "2\n",
            "2\n",
            "2\n"
          ]
        }
      ]
    },
    {
      "cell_type": "code",
      "source": [
        "# Counter 사용\n",
        "\n",
        "from collections import Counter \n",
        "import sys\n",
        "\n",
        "N = int(sys.stdin.readline())\n",
        "nums = []\n",
        "for _ in range(N):\n",
        "    nums.append(int(sys.stdin.readline()))\n",
        "\n",
        "nums.sort()\n",
        "\n",
        "# Average\n",
        "print(round(sum(nums)/N))\n",
        "\n",
        "# Median\n",
        "print(nums[N//2])\n",
        "\n",
        "# Mode\n",
        "count = Counter(nums).most_common()\n",
        "if len(count) > 1:\n",
        "    if count[0][1] == count[1][1]:\n",
        "        print(count[1][0])\n",
        "    else:\n",
        "        print(count[0][0])\n",
        "else:\n",
        "    print(count[0][0])\n",
        "\n",
        "# Range\n",
        "# print(max(nums) - min(nums))\n",
        "print(nums[-1] - nums[0])"
      ],
      "metadata": {
        "colab": {
          "base_uri": "https://localhost:8080/"
        },
        "id": "QinOI30nbqKS",
        "outputId": "f58bf271-5694-4f02-fe8d-91c9d7723377"
      },
      "execution_count": null,
      "outputs": [
        {
          "output_type": "stream",
          "name": "stdout",
          "text": [
            "1\n",
            "2\n",
            "[(1, 2), (2, 2), (3, 1)]\n",
            "3\n",
            "2\n",
            "2\n"
          ]
        }
      ]
    }
  ]
}