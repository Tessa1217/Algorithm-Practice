{
  "nbformat": 4,
  "nbformat_minor": 0,
  "metadata": {
    "colab": {
      "name": "sorting1",
      "provenance": [],
      "collapsed_sections": [],
      "authorship_tag": "ABX9TyMRaT8V5UZWztGNomqEnul1"
    },
    "kernelspec": {
      "name": "python3",
      "display_name": "Python 3"
    },
    "language_info": {
      "name": "python"
    }
  },
  "cells": [
    {
      "cell_type": "code",
      "source": [
        "# Sorting numbers\n",
        "n = int(input())\n",
        "s = list(map(int, input().split()))\n",
        "s.sort()\n",
        "for i in range(n):\n",
        "  print(s[i])"
      ],
      "metadata": {
        "id": "ervQnmdqAMHA"
      },
      "execution_count": null,
      "outputs": []
    },
    {
      "cell_type": "code",
      "source": [
        "n = int(input())\n",
        "num_list = []\n",
        "for i in range(n):\n",
        "  num = int(input())\n",
        "  num_list.append(num)\n",
        "num_list.sort()\n",
        "for i in range(n):\n",
        "  print(num_list[i])"
      ],
      "metadata": {
        "id": "8SUEUr1CDeDG"
      },
      "execution_count": null,
      "outputs": []
    },
    {
      "cell_type": "code",
      "execution_count": null,
      "metadata": {
        "id": "feqDISJ55YN_"
      },
      "outputs": [],
      "source": [
        "# 11399: ATM\n",
        "n = int(input())\n",
        "s = list(map(int, input().split()))\n",
        "time = 0\n",
        "\n",
        "s.sort() \n",
        "\n",
        "for i in range(n):\n",
        "  for x in range(i+1):\n",
        "    time += s[x]\n",
        "print(time)"
      ]
    },
    {
      "cell_type": "code",
      "source": [
        "# 1427 (reverse sort)\n",
        "\n",
        "n = int(input())\n",
        "n = list(str(n))\n",
        "\n",
        "n.sort(reverse=True)\n",
        "\n",
        "for i in n:\n",
        "  print(i, end='')"
      ],
      "metadata": {
        "id": "PzB597O1AtNv"
      },
      "execution_count": null,
      "outputs": []
    }
  ]
}