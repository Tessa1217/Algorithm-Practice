{
  "nbformat": 4,
  "nbformat_minor": 0,
  "metadata": {
    "colab": {
      "name": "bj_8958",
      "provenance": [],
      "authorship_tag": "ABX9TyNUjl8qGVyTckK9VNlHHtUi"
    },
    "kernelspec": {
      "name": "python3",
      "display_name": "Python 3"
    },
    "language_info": {
      "name": "python"
    }
  },
  "cells": [
    {
      "cell_type": "markdown",
      "source": [
        "OX퀴즈\n",
        "* O일 경우 1점을 추가\n",
        "* O가 연속될 경우 그 문제의 점수는 그 문제까지 연속된 O의 개수\n",
        "* ex) 'OOXXO' = 1 + 2 + 0 + 0 + 1"
      ],
      "metadata": {
        "id": "KnugchD9_pg0"
      }
    },
    {
      "cell_type": "code",
      "source": [
        "case = int(input())\n",
        "for c in range(case):\n",
        "  test = str(input())\n",
        "  score = 0\n",
        "  count = 0\n",
        "  for t in test:\n",
        "    if t == 'O':\n",
        "      count += 1\n",
        "      score += (1*count)\n",
        "    elif t == 'X':\n",
        "      count = 0\n",
        "  print(score)"
      ],
      "metadata": {
        "colab": {
          "base_uri": "https://localhost:8080/"
        },
        "id": "A7OeBXWN_nsT",
        "outputId": "88f7bb4d-34f2-4904-afc8-49a5e5d5710e"
      },
      "execution_count": 6,
      "outputs": [
        {
          "output_type": "stream",
          "name": "stdout",
          "text": [
            "5\n",
            "OOXXOXXOOO\n",
            "10\n",
            "OOXXOOXXOO\n",
            "9\n",
            "OXOXOXOXOXOXOX\n",
            "7\n",
            "OOOOOOOOOO\n",
            "55\n",
            "OOOOXOOOOXOOOOX\n",
            "30\n"
          ]
        }
      ]
    },
    {
      "cell_type": "code",
      "source": [
        "# Test Case 1 \n",
        "# Expected answer: 10\n",
        "\n",
        "s1 = 'OOXXOXXOOO'\n",
        "score = 0\n",
        "count = 0\n",
        "for i in s1:\n",
        "  if i == 'O':\n",
        "    count += 1\n",
        "    score += (1 * count)\n",
        "  elif i == 'X':\n",
        "    count = 0\n",
        "print(score)"
      ],
      "metadata": {
        "colab": {
          "base_uri": "https://localhost:8080/"
        },
        "id": "3-BkTTHtaQf3",
        "outputId": "719bac05-4a72-4c4e-e57e-66c1791d1623"
      },
      "execution_count": 1,
      "outputs": [
        {
          "output_type": "stream",
          "name": "stdout",
          "text": [
            "10\n"
          ]
        }
      ]
    },
    {
      "cell_type": "code",
      "source": [
        "# Test Case 2\n",
        "# Expected answer: 9\n",
        "s2 = 'OOXXOOXXOO'\n",
        "score = 0\n",
        "count = 0\n",
        "for i in s2:\n",
        "  if i == 'O':\n",
        "    count += 1\n",
        "    score += (1 * count)\n",
        "  elif i == 'X':\n",
        "    count = 0\n",
        "print(score)\n"
      ],
      "metadata": {
        "colab": {
          "base_uri": "https://localhost:8080/"
        },
        "id": "aGl_e-eM-2r6",
        "outputId": "4c99acbe-ee54-4da4-805a-6ace97f52079"
      },
      "execution_count": 2,
      "outputs": [
        {
          "output_type": "stream",
          "name": "stdout",
          "text": [
            "9\n"
          ]
        }
      ]
    },
    {
      "cell_type": "code",
      "source": [
        "# Test Case 3\n",
        "# Expected answer: 7\n",
        "s3 = 'OXOXOXOXOXOXOX'\n",
        "s1 = 'OOXXOXXOOO'\n",
        "score = 0\n",
        "count = 0\n",
        "for i in s3:\n",
        "  if i == 'O':\n",
        "    count += 1\n",
        "    score += (1 * count)\n",
        "  elif i == 'X':\n",
        "    count = 0\n",
        "print(score)"
      ],
      "metadata": {
        "colab": {
          "base_uri": "https://localhost:8080/"
        },
        "id": "vJtmcrQ8_C8a",
        "outputId": "543872e7-dd22-4584-f8f5-abce5c1fa8c5"
      },
      "execution_count": 3,
      "outputs": [
        {
          "output_type": "stream",
          "name": "stdout",
          "text": [
            "7\n"
          ]
        }
      ]
    },
    {
      "cell_type": "code",
      "source": [
        "# Test Case 4\n",
        "# Expected answer: 55\n",
        "s4 = 'OOOOOOOOOO'\n",
        "s1 = 'OOXXOXXOOO'\n",
        "score = 0\n",
        "count = 0\n",
        "for i in s4:\n",
        "  if i == 'O':\n",
        "    count += 1\n",
        "    score += (1 * count)\n",
        "  elif i == 'X':\n",
        "    count = 0\n",
        "print(score)"
      ],
      "metadata": {
        "colab": {
          "base_uri": "https://localhost:8080/"
        },
        "id": "zcSc8PTq_Dha",
        "outputId": "4a1e7dfd-e01a-417b-bed0-f0981b26dcf7"
      },
      "execution_count": 4,
      "outputs": [
        {
          "output_type": "stream",
          "name": "stdout",
          "text": [
            "55\n"
          ]
        }
      ]
    },
    {
      "cell_type": "code",
      "source": [
        "# Test Case 5\n",
        "# Expected answer: 30\n",
        "s5 = 'OOOOXOOOOXOOOOX'\n",
        "score = 0\n",
        "count = 0\n",
        "for i in s5:\n",
        "  if i == 'O':\n",
        "    count += 1\n",
        "    score += (1 * count)\n",
        "  elif i == 'X':\n",
        "    count = 0\n",
        "print(score)"
      ],
      "metadata": {
        "colab": {
          "base_uri": "https://localhost:8080/"
        },
        "id": "wKykRt3Z_DsC",
        "outputId": "3867d1c6-b680-4e2f-839d-f458ef7d23a4"
      },
      "execution_count": 5,
      "outputs": [
        {
          "output_type": "stream",
          "name": "stdout",
          "text": [
            "30\n"
          ]
        }
      ]
    }
  ]
}