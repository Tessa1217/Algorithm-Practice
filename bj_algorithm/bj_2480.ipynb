{
  "nbformat": 4,
  "nbformat_minor": 0,
  "metadata": {
    "colab": {
      "name": "bj_2480",
      "provenance": [],
      "authorship_tag": "ABX9TyP4pRN6E49oJckbn+y4ZCIi"
    },
    "kernelspec": {
      "name": "python3",
      "display_name": "Python 3"
    },
    "language_info": {
      "name": "python"
    }
  },
  "cells": [
    {
      "cell_type": "markdown",
      "source": [
        "주사위 세 개 \n",
        "* a, b, c = 주사위 눈 세 개\n",
        "* if a = b = c : 10000 + 같은 눈 * 1000\n",
        "* if 같은 눈이 두 개라면 : 1000 + 같은 눈 * 100\n",
        "* if 다 다른 눈이라면 : a, b, c 중 가장 큰 눈의 값 * 100"
      ],
      "metadata": {
        "id": "xLRZx0ZFSvwL"
      }
    },
    {
      "cell_type": "code",
      "source": [
        "a, b, c = map(int, input().split())\n",
        "three = [a, b, c]\n",
        "\n",
        "dice = [0 for i in range(1, 7)]\n",
        "\n",
        "for i in three:\n",
        "    dice[i-1] += 1\n",
        "\n",
        "if 3 in dice:\n",
        "    print(10000+(dice.index(3)+1)*1000)\n",
        "elif 2 in dice:\n",
        "    print(1000+(dice.index(2)+1)*100)\n",
        "else:\n",
        "    idx_list = [i for i in range(len(dice)) if dice[i]==1]\n",
        "    print(100*(max(idx_list)+1))"
      ],
      "metadata": {
        "colab": {
          "base_uri": "https://localhost:8080/"
        },
        "id": "rkEwHw01ShWs",
        "outputId": "8ef94844-b079-4530-ffac-473bcd96c2d7"
      },
      "execution_count": 14,
      "outputs": [
        {
          "output_type": "stream",
          "name": "stdout",
          "text": [
            "2 3 4\n",
            "400\n"
          ]
        }
      ]
    },
    {
      "cell_type": "code",
      "execution_count": 8,
      "metadata": {
        "colab": {
          "base_uri": "https://localhost:8080/"
        },
        "id": "93aGj8pMOunq",
        "outputId": "52716645-9940-45b1-d55e-dd1b94952e08"
      },
      "outputs": [
        {
          "output_type": "stream",
          "name": "stdout",
          "text": [
            "1300\n"
          ]
        }
      ],
      "source": [
        "# Test Case 1\n",
        "a, b, c = 3, 3, 6\n",
        "three = [a, b, c]\n",
        "\n",
        "dice = [0 for i in range(1, 7)]\n",
        "for i in three:\n",
        "  dice[i-1] += 1\n",
        "if 3 in dice:\n",
        "  print(10000+(dice.index(3)+1)*1000)\n",
        "elif 2 in dice:\n",
        "  print(1000+(dice.index(2)+1)*100)\n",
        "else:\n",
        "  idx_list = [i for i in range(len(dice)) if dice[i] == 1]\n",
        "  print(100*(max(idx_list)+1))"
      ]
    },
    {
      "cell_type": "code",
      "source": [
        "# Test Case 2\n",
        "a, b, c = 2, 2, 2\n",
        "three = [a, b, c]\n",
        "\n",
        "dice = [0 for i in range(1, 7)]\n",
        "for i in three:\n",
        "  dice[i-1] += 1\n",
        "if 3 in dice:\n",
        "  print(10000+(dice.index(3)+1)*1000)\n",
        "elif 2 in dice:\n",
        "  print(1000+(dice.index(2)+1)*100)\n",
        "else:\n",
        "  idx_list = [i for i in range(len(dice)) if dice[i] == 1]\n",
        "  print(100*(max(idx_list)+1))"
      ],
      "metadata": {
        "colab": {
          "base_uri": "https://localhost:8080/"
        },
        "id": "tEvjFr-KRkw0",
        "outputId": "c0a94dac-7fcf-43b5-a400-89971dca363e"
      },
      "execution_count": 9,
      "outputs": [
        {
          "output_type": "stream",
          "name": "stdout",
          "text": [
            "12000\n"
          ]
        }
      ]
    },
    {
      "cell_type": "code",
      "source": [
        "# Test Case 3\n",
        "a, b, c = 6, 2, 5\n",
        "three = [a, b, c]\n",
        "\n",
        "dice = [0 for i in range(1, 7)]\n",
        "for i in three:\n",
        "  dice[i-1] += 1\n",
        "if 3 in dice:\n",
        "  print(10000+(dice.index(3)+1)*1000)\n",
        "elif 2 in dice:\n",
        "  print(1000+(dice.index(2)+1)*100)\n",
        "else:\n",
        "  idx_list = [i for i in range(len(dice)) if dice[i] == 1]\n",
        "  print(100*(max(idx_list)+1))"
      ],
      "metadata": {
        "colab": {
          "base_uri": "https://localhost:8080/"
        },
        "id": "mU3WUnCFRm47",
        "outputId": "74b5d801-2ecd-4f71-d90b-d10cb2917a49"
      },
      "execution_count": 15,
      "outputs": [
        {
          "output_type": "stream",
          "name": "stdout",
          "text": [
            "600\n"
          ]
        }
      ]
    }
  ]
}