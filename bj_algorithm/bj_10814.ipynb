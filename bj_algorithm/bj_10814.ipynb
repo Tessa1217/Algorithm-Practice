{
  "nbformat": 4,
  "nbformat_minor": 0,
  "metadata": {
    "colab": {
      "name": "bj_10814",
      "provenance": [],
      "collapsed_sections": [],
      "authorship_tag": "ABX9TyNl29i4bzHGeeB9ZY4cwgiE"
    },
    "kernelspec": {
      "name": "python3",
      "display_name": "Python 3"
    },
    "language_info": {
      "name": "python"
    }
  },
  "cells": [
    {
      "cell_type": "markdown",
      "source": [
        "나이순 정렬\n",
        "* 나이가 정렬의 기준\n",
        "* 나이가 같을 시 먼저 추가된 기준으로 정렬"
      ],
      "metadata": {
        "id": "ECG04844CqIv"
      }
    },
    {
      "cell_type": "code",
      "execution_count": null,
      "metadata": {
        "colab": {
          "base_uri": "https://localhost:8080/"
        },
        "id": "wGh9zVHMClpy",
        "outputId": "29cd4580-59e0-4e4a-ae12-45b1dcdf65da"
      },
      "outputs": [
        {
          "output_type": "stream",
          "name": "stdout",
          "text": [
            "3\n",
            "21 Junkyu\n",
            "21 Dohyun\n",
            "20 Sunyoung\n",
            "20 Sunyoung\n",
            "21 Junkyu\n",
            "21 Dohyun\n"
          ]
        }
      ],
      "source": [
        "N = int(input())\n",
        "member = []\n",
        "for _ in range(N):\n",
        "  age, name = map(str, input().split())\n",
        "  age = int(age)\n",
        "  member.append((age, name))\n",
        "member.sort(key = lambda x:x[0])\n",
        "for i in member:\n",
        "  print(i[0], i[1])"
      ]
    }
  ]
}