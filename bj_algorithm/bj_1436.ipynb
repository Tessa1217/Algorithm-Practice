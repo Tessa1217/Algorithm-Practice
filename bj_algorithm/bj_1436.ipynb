{
  "nbformat": 4,
  "nbformat_minor": 0,
  "metadata": {
    "colab": {
      "name": "bj_1436",
      "provenance": [],
      "authorship_tag": "ABX9TyMm0XV2x10ZIwWCVG1fDfdX"
    },
    "kernelspec": {
      "name": "python3",
      "display_name": "Python 3"
    },
    "language_info": {
      "name": "python"
    }
  },
  "cells": [
    {
      "cell_type": "markdown",
      "source": [
        "영화감독 숌 - 부르트 포스"
      ],
      "metadata": {
        "id": "hmcXFt1t9nlu"
      }
    },
    {
      "cell_type": "code",
      "source": [
        "n = int(input())\n",
        "cnt = 0\n",
        "movie = 666\n",
        "while True: \n",
        "  if '666' in str(movie):\n",
        "    cnt += 1\n",
        "  if cnt == n:\n",
        "    print(movie)\n",
        "    break\n",
        "  movie += 1"
      ],
      "metadata": {
        "colab": {
          "base_uri": "https://localhost:8080/"
        },
        "id": "R2A59yuS--2I",
        "outputId": "c50523bb-7468-4f3f-b411-48ea34ac919e"
      },
      "execution_count": 9,
      "outputs": [
        {
          "output_type": "stream",
          "name": "stdout",
          "text": [
            "6\n",
            "5666\n"
          ]
        }
      ]
    },
    {
      "cell_type": "code",
      "source": [
        "# Test Case 2\n",
        "n = 2\n",
        "cnt = 0\n",
        "movie = 666\n",
        "while True:\n",
        "  if '666' in str(movie):\n",
        "    cnt += 1\n",
        "  if cnt == n:\n",
        "    print(movie)\n",
        "    break\n",
        "  movie += 1\n"
      ],
      "metadata": {
        "colab": {
          "base_uri": "https://localhost:8080/"
        },
        "id": "DWH4vRGp-ygq",
        "outputId": "5e95b299-6171-42c4-c2a1-e1c08856050b"
      },
      "execution_count": 8,
      "outputs": [
        {
          "output_type": "stream",
          "name": "stdout",
          "text": [
            "1666\n"
          ]
        }
      ]
    },
    {
      "cell_type": "code",
      "execution_count": 7,
      "metadata": {
        "colab": {
          "base_uri": "https://localhost:8080/"
        },
        "id": "QU1wqXi99liM",
        "outputId": "cf604a71-b8f6-49ea-9f9b-53ace2c75b4e"
      },
      "outputs": [
        {
          "output_type": "stream",
          "name": "stdout",
          "text": [
            "666\n"
          ]
        }
      ],
      "source": [
        "# Test Case 3\n",
        "n = 500\n",
        "cnt = 0\n",
        "movie = 666\n",
        "while True: \n",
        "  if '666' in str(movie):\n",
        "    cnt += 1\n",
        "  if cnt == n:\n",
        "    print(movie)\n",
        "    break\n",
        "  movie += 1\n"
      ]
    }
  ]
}