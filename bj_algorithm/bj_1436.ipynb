{
  "nbformat": 4,
  "nbformat_minor": 0,
  "metadata": {
    "colab": {
      "name": "bj_1436",
      "provenance": [],
      "authorship_tag": "ABX9TyOvzzX4NdvkTqaH/xYzhv6Y"
    },
    "kernelspec": {
      "name": "python3",
      "display_name": "Python 3"
    },
    "language_info": {
      "name": "python"
    }
  },
  "cells": [
    {
      "cell_type": "markdown",
      "source": [
        "영화감독 숌 - 부르트 포스"
      ],
      "metadata": {
        "id": "hmcXFt1t9nlu"
      }
    },
    {
      "cell_type": "markdown",
      "source": [
        "숌은 첫 번째 영화의 제목은 세상의 종말 666, 두 번째 영화의 제목은 세상의 종말 1666 이렇게 이름을 지을 것이다. \n",
        "* 일반화해서 생각하면, N번째 영화의 제목은 세상의 종말 (N번째로 작은 종말의 숫자) 와 같다."
      ],
      "metadata": {
        "id": "9CQl8zVkCTWG"
      }
    },
    {
      "cell_type": "code",
      "source": [
        "n = int(input())\n",
        "cnt = 0 \n",
        "movie = 666\n",
        "while True: \n",
        "  if '666' in str(movie): #if '666' in movie\n",
        "    cnt += 1 # count = count + 1\n",
        "  if cnt == n: \n",
        "    print(movie) \n",
        "    break\n",
        "  movie += 1 "
      ],
      "metadata": {
        "colab": {
          "base_uri": "https://localhost:8080/"
        },
        "id": "R2A59yuS--2I",
        "outputId": "c50523bb-7468-4f3f-b411-48ea34ac919e"
      },
      "execution_count": 9,
      "outputs": [
        {
          "output_type": "stream",
          "name": "stdout",
          "text": [
            "6\n",
            "5666\n"
          ]
        }
      ]
    },
    {
      "cell_type": "code",
      "source": [
        "n = int(input())\n",
        "movie = 1 \n",
        "while True: \n",
        "  movie += 1\n",
        "  if '666' in str(movie):\n",
        "    n -= 1\n",
        "  if n == 0:\n",
        "    print(movie)\n",
        "    break"
      ],
      "metadata": {
        "colab": {
          "base_uri": "https://localhost:8080/"
        },
        "id": "o-3FX4ENAVSI",
        "outputId": "882f3783-c3de-434f-8806-e2c1569c786b"
      },
      "execution_count": 15,
      "outputs": [
        {
          "output_type": "stream",
          "name": "stdout",
          "text": [
            "5\n",
            "4666\n"
          ]
        }
      ]
    },
    {
      "cell_type": "code",
      "source": [
        "n = int(input())\n",
        "movie = 666 # 666 = first title \n",
        "while True: \n",
        "  movie += 1 \n",
        "  if '666' in str(movie):\n",
        "    n -= 1\n",
        "    if n == 1: # started with '666'\n",
        "      print(movie)\n",
        "      break "
      ],
      "metadata": {
        "colab": {
          "base_uri": "https://localhost:8080/"
        },
        "id": "X0s9eLsvBgXc",
        "outputId": "1d77a2ef-896b-486b-c270-e1b36d04faae"
      },
      "execution_count": 17,
      "outputs": [
        {
          "output_type": "stream",
          "name": "stdout",
          "text": [
            "187\n",
            "66666\n"
          ]
        }
      ]
    },
    {
      "cell_type": "code",
      "source": [
        "# Test Case 2\n",
        "n = 2\n",
        "cnt = 0\n",
        "movie = 666\n",
        "while True:\n",
        "  if '666' in str(movie):\n",
        "    cnt += 1\n",
        "  if cnt == n:\n",
        "    print(movie)\n",
        "    break\n",
        "  movie += 1\n"
      ],
      "metadata": {
        "colab": {
          "base_uri": "https://localhost:8080/"
        },
        "id": "DWH4vRGp-ygq",
        "outputId": "5e95b299-6171-42c4-c2a1-e1c08856050b"
      },
      "execution_count": 8,
      "outputs": [
        {
          "output_type": "stream",
          "name": "stdout",
          "text": [
            "1666\n"
          ]
        }
      ]
    },
    {
      "cell_type": "code",
      "execution_count": 7,
      "metadata": {
        "colab": {
          "base_uri": "https://localhost:8080/"
        },
        "id": "QU1wqXi99liM",
        "outputId": "cf604a71-b8f6-49ea-9f9b-53ace2c75b4e"
      },
      "outputs": [
        {
          "output_type": "stream",
          "name": "stdout",
          "text": [
            "666\n"
          ]
        }
      ],
      "source": [
        "# Test Case 3\n",
        "n = 500\n",
        "cnt = 0\n",
        "movie = 666\n",
        "while True: \n",
        "  if '666' in str(movie):\n",
        "    cnt += 1\n",
        "  if cnt == n:\n",
        "    print(movie)\n",
        "    break\n",
        "  movie += 1\n"
      ]
    }
  ]
}