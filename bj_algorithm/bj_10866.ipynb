{
  "nbformat": 4,
  "nbformat_minor": 0,
  "metadata": {
    "colab": {
      "name": "bj_10866",
      "provenance": [],
      "collapsed_sections": [],
      "authorship_tag": "ABX9TyOe0feR8xtVleUJd//9PrAR"
    },
    "kernelspec": {
      "name": "python3",
      "display_name": "Python 3"
    },
    "language_info": {
      "name": "python"
    }
  },
  "cells": [
    {
      "cell_type": "markdown",
      "source": [
        "덱\n",
        "- 정수를 저장하는 덱을 구현한 다음 입력으로 주어지는 명령을 처리하는 프로그램을 작성하세요.\n"
      ],
      "metadata": {
        "id": "pYSgsZPNTgxe"
      }
    },
    {
      "cell_type": "code",
      "source": [
        "from collections import deque\n",
        "import sys\n",
        "\n",
        "n = int(sys.stdin.readline())\n",
        "q = deque([])\n",
        "\n",
        "for _ in range(n):\n",
        "    order = sys.stdin.readline().split()\n",
        "    \n",
        "    if order[0] == 'push_back':\n",
        "        q.append(order[1])\n",
        "    elif order[0] == 'push_front':\n",
        "        q.appendleft(order[1])\n",
        "    elif order[0] == 'pop_front':\n",
        "        print(q.popleft()) if len(q) > 0 else print(-1)\n",
        "    elif order[0] == 'pop_back':\n",
        "        print(q.pop()) if len(q) > 0 else print(-1)\n",
        "    elif order[0] == 'size':\n",
        "        print(len(q)) if len(q) > 0 else print(0)\n",
        "    elif order[0] == 'empty':\n",
        "        print(1) if len(q) == 0 else print(0)\n",
        "    elif order[0] == 'front':\n",
        "        print(q[0]) if len(q) > 0 else print(-1)\n",
        "    elif order[0] == 'back':\n",
        "        print(q[-1]) if len(q) > 0 else print(-1)"
      ],
      "metadata": {
        "id": "WmfkC53tWMGa"
      },
      "execution_count": null,
      "outputs": []
    },
    {
      "cell_type": "code",
      "execution_count": null,
      "metadata": {
        "colab": {
          "base_uri": "https://localhost:8080/"
        },
        "id": "K6lEAUb4TGWP",
        "outputId": "7d9205b1-2f10-4310-8ea8-c5c644c9cb66"
      },
      "outputs": [
        {
          "output_type": "stream",
          "name": "stdout",
          "text": [
            "15\n",
            "push_back 1\n",
            "push_front 2\n",
            "front\n",
            "2\n",
            "back\n",
            "1\n",
            "size\n",
            "2\n",
            "empty\n",
            "0\n",
            "pop_front\n",
            "2\n",
            "pop_back\n",
            "1\n",
            "pop_front\n",
            "-1\n",
            "size\n",
            "0\n",
            "empty\n",
            "1\n",
            "pop_back\n",
            "-1\n",
            "push_front 3\n",
            "empty\n",
            "0\n",
            "front\n",
            "3\n"
          ]
        }
      ],
      "source": [
        "from collections import deque\n",
        "n = int(input())\n",
        "q = deque([])\n",
        "for _ in range(n):\n",
        "  order = input().split()\n",
        "  if order[0] == 'push_back':\n",
        "    q.append(order[1])\n",
        "  elif order[0] == 'push_front':\n",
        "    q.appendleft(order[1])\n",
        "  elif order[0] == 'pop_front':\n",
        "    print(q.popleft()) if len(q) > 0 else print(-1)\n",
        "  elif order[0] == 'pop_back':\n",
        "    print(q.pop()) if len(q) > 0 else print(-1)\n",
        "  elif order[0] == 'size':\n",
        "    print(len(q)) if len(q) > 0 else print(0)\n",
        "  elif order[0] == 'empty':\n",
        "    print(1) if len(q) == 0 else print(0)\n",
        "  elif order[0] == 'front':\n",
        "    print(q[0]) if len(q) > 0 else print(-1)\n",
        "  elif order[0] == 'back':\n",
        "    print(q[-1]) if len(q) > 0 else print(-1)"
      ]
    }
  ]
}