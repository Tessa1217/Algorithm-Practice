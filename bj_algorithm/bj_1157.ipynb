{
  "nbformat": 4,
  "nbformat_minor": 0,
  "metadata": {
    "colab": {
      "name": "bj_1157 ",
      "provenance": [],
      "collapsed_sections": [],
      "authorship_tag": "ABX9TyNueFCap57c50hu5Re77RSh"
    },
    "kernelspec": {
      "name": "python3",
      "display_name": "Python 3"
    },
    "language_info": {
      "name": "python"
    }
  },
  "cells": [
    {
      "cell_type": "markdown",
      "source": [
        "단어 공부\n",
        "* 알파벳 대소문자로 된 단어가 주어지면, 이 단어에서 가장 많이 사용된 알파벳이 뭔지 알아내는 프로그램\n",
        "* 여러 개 존재할 경우는 '?' 출력하기"
      ],
      "metadata": {
        "id": "Mf7a0Rb3IgW2"
      }
    },
    {
      "cell_type": "code",
      "source": [
        "s = str(input())\n",
        "s = s.upper()\n",
        "\n",
        "if len(s) == 1:\n",
        "  print(s)\n",
        "\n",
        "else:\n",
        "  word_count = Counter(s).most_common()\n",
        "  if word_count[0][1] != word_count[1][1]:\n",
        "    print(word_count[0][0])\n",
        "  elif word_count[0][1] == word_count[1][1]:\n",
        "    print('?')"
      ],
      "metadata": {
        "id": "v2aG9b4DOfzw"
      },
      "execution_count": null,
      "outputs": []
    },
    {
      "cell_type": "code",
      "execution_count": null,
      "metadata": {
        "colab": {
          "base_uri": "https://localhost:8080/"
        },
        "id": "NFi2QT9yIYHx",
        "outputId": "6d6f385c-3ff0-409b-8178-876465120010"
      },
      "outputs": [
        {
          "output_type": "stream",
          "name": "stdout",
          "text": [
            "?\n"
          ]
        }
      ],
      "source": [
        "# Test Case 1 \n",
        "\n",
        "s = 'Mississipi'\n",
        "s = s.upper()\n",
        "\n",
        "dic = {}\n",
        "\n",
        "if len(s) == 1:\n",
        "  print(s)\n",
        "else:\n",
        "  for i in s: \n",
        "    dic[i] = s.count(i)\n",
        "max_count = [idx for idx, val in dic.items() if val == max(dic.values())]\n",
        "if len(max_count) == 1:\n",
        "  print(max_count[0])\n",
        "else:\n",
        "  print('?')\n",
        "\n",
        "# 시간 초과"
      ]
    },
    {
      "cell_type": "code",
      "source": [
        "# Test Case 2\n",
        "\n",
        "from collections import Counter \n",
        "s = 'Mississipi'\n",
        "s = s.upper()\n",
        "word_count = Counter(s).most_common()\n",
        "if word_count[0][1] != word_count[1][1]:\n",
        "  print(word_count[0][0])\n",
        "elif word_count[0][1] == word_count[1][1]:\n",
        "  print('?')"
      ],
      "metadata": {
        "colab": {
          "base_uri": "https://localhost:8080/"
        },
        "id": "CXEl296fMPyX",
        "outputId": "0f2568bf-472e-445b-9543-e7256643a3de"
      },
      "execution_count": null,
      "outputs": [
        {
          "output_type": "stream",
          "name": "stdout",
          "text": [
            "?\n"
          ]
        }
      ]
    },
    {
      "cell_type": "code",
      "source": [
        "# Test Case 3\n",
        "\n",
        "from collections import Counter \n",
        "s = 'zZa'\n",
        "s = s.upper()\n",
        "word_count = Counter(s).most_common()\n",
        "if word_count[0][1] != word_count[1][1]:\n",
        "  print(word_count[0][0])\n",
        "elif word_count[0][1] == word_count[1][1]:\n",
        "  print('?')"
      ],
      "metadata": {
        "colab": {
          "base_uri": "https://localhost:8080/"
        },
        "id": "5D0-jWXGNMq3",
        "outputId": "ebcad59e-75d8-47b6-bf15-75cced740ff5"
      },
      "execution_count": null,
      "outputs": [
        {
          "output_type": "stream",
          "name": "stdout",
          "text": [
            "Z\n"
          ]
        }
      ]
    },
    {
      "cell_type": "code",
      "source": [
        "# Test Case 4\n",
        "\n",
        "from collections import Counter \n",
        "\n",
        "# s = 'z'\n",
        "# s = s.upper()\n",
        "# word_count = Counter(s).most_common()\n",
        "# if word_count[0][1] != word_count[1][1]:\n",
        "#   print(word_count[0][0])\n",
        "# elif word_count[0][1] == word_count[1][1]:\n",
        "#   print('?')\n",
        "\n",
        "# Index Error when length of string == 1\n",
        "\n",
        "s = 'z'\n",
        "s = s.upper()\n",
        "\n",
        "if len(s) == 1:\n",
        "  print(s)\n",
        "\n",
        "else:\n",
        "  word_count = Counter(s).most_common()\n",
        "  if word_count[0][1] != word_count[1][1]:\n",
        "    print(word_count[0][0])\n",
        "  elif word_count[0][1] == word_count[1][1]:\n",
        "    print('?')"
      ],
      "metadata": {
        "colab": {
          "base_uri": "https://localhost:8080/"
        },
        "id": "mWzrMmZ6NO0m",
        "outputId": "89aba705-ecda-47df-c9ba-26e120bd8b8b"
      },
      "execution_count": null,
      "outputs": [
        {
          "output_type": "stream",
          "name": "stdout",
          "text": [
            "Z\n"
          ]
        }
      ]
    }
  ]
}