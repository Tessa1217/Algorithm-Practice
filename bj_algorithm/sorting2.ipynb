{
  "nbformat": 4,
  "nbformat_minor": 0,
  "metadata": {
    "colab": {
      "name": "sorting2",
      "provenance": [],
      "authorship_tag": "ABX9TyOI29hpUcjQhml1upYP0aev"
    },
    "kernelspec": {
      "name": "python3",
      "display_name": "Python 3"
    },
    "language_info": {
      "name": "python"
    }
  },
  "cells": [
    {
      "cell_type": "code",
      "execution_count": 11,
      "metadata": {
        "colab": {
          "base_uri": "https://localhost:8080/"
        },
        "id": "uvXkgqOMvFDI",
        "outputId": "184d57fa-c00d-4910-f60d-1ba964353f6b"
      },
      "outputs": [
        {
          "output_type": "stream",
          "name": "stdout",
          "text": [
            "['im', 'more', 'yours', 'no', 'wait', 'hesitate', 'but', 'cannot', 'wont', 'it', 'i']\n",
            "['but', 'cannot', 'hesitate', 'i', 'im', 'it', 'more', 'no', 'wait', 'wont', 'yours']\n",
            "i\n",
            "im\n",
            "it\n",
            "no\n",
            "but\n",
            "more\n",
            "wait\n",
            "wont\n",
            "yours\n",
            "cannot\n",
            "hesitate\n"
          ]
        }
      ],
      "source": [
        "# 1181\n",
        "\n",
        "#Test Case\n",
        "\n",
        "word_list = ['but', 'i', 'wont', 'hesitate', 'no', 'more', 'no', 'more', 'it', 'cannot', 'wait', 'im', 'yours']\n",
        "word_list = list(set(word_list))\n",
        "print(word_list) # 중복 제거\n",
        "word_list.sort() # 순서대로 정렬\n",
        "print(word_list)\n",
        "word_list.sort(key=len) # 길이별로 정렬\n",
        "for word in word_list:\n",
        "  print(word)"
      ]
    },
    {
      "cell_type": "code",
      "source": [
        "n = int(input())\n",
        "\n",
        "word_list = []\n",
        "for i in range(n):\n",
        "  word_list.append(input())\n",
        "\n",
        "word_list = list(set(word_list))\n",
        "\n",
        "word_list.sort()\n",
        "\n",
        "word_list.sort(key=len)\n",
        "\n",
        "for word in word_list:\n",
        "  print(word)"
      ],
      "metadata": {
        "colab": {
          "base_uri": "https://localhost:8080/"
        },
        "id": "LR40_K9CxRk2",
        "outputId": "385db228-1cef-47a4-ce2a-45bf0fc5bbd3"
      },
      "execution_count": 12,
      "outputs": [
        {
          "output_type": "stream",
          "name": "stdout",
          "text": [
            "13\n",
            "but\n",
            "i\n",
            "wont\n",
            "hesitate\n",
            "no\n",
            "more\n",
            "no\n",
            "more\n",
            "it\n",
            "cannot\n",
            "wait\n",
            "im\n",
            "yours\n",
            "i\n",
            "im\n",
            "it\n",
            "no\n",
            "but\n",
            "more\n",
            "wait\n",
            "wont\n",
            "yours\n",
            "cannot\n",
            "hesitate\n"
          ]
        }
      ]
    }
  ]
}
