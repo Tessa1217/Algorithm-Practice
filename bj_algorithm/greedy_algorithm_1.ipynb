{
  "nbformat": 4,
  "nbformat_minor": 0,
  "metadata": {
    "colab": {
      "name": "greedy_algorithm_1",
      "provenance": [],
      "authorship_tag": "ABX9TyOmNpgf78TiSR0ncp5D7Xt+"
    },
    "kernelspec": {
      "name": "python3",
      "display_name": "Python 3"
    },
    "language_info": {
      "name": "python"
    }
  },
  "cells": [
    {
      "cell_type": "code",
      "execution_count": 12,
      "metadata": {
        "colab": {
          "base_uri": "https://localhost:8080/"
        },
        "id": "w5FYiMWy0zUP",
        "outputId": "be7042eb-265e-4205-e166-25eb92e853fa"
      },
      "outputs": [
        {
          "output_type": "stream",
          "name": "stdout",
          "text": [
            "[500, 500, 100, 100, 100, 50, 5]\n"
          ]
        }
      ],
      "source": [
        "# Change - greedy approach \n",
        "\n",
        "coins = [500, 100, 50, 10, 5, 1] # List of coins \n",
        "\n",
        "def change(coins, value):\n",
        "\n",
        "  change_use = [] # List of coins used for change\n",
        "  change_total = 0 # Amount of change total \n",
        "\n",
        "  while 1:\n",
        "    coin = max(coins) \n",
        "    com = coin + change_total\n",
        "    if com > value:\n",
        "      coins.remove(coin)\n",
        "    else:\n",
        "      change_use.append(coin)\n",
        "      change_total += coin\n",
        "    if change_total == value:\n",
        "      break \n",
        "  return change_use\n",
        "  \n",
        "print(change(coins, 1355))\n",
        "\n"
      ]
    },
    {
      "cell_type": "code",
      "source": [
        "# Sugar delivery - greedy approach \n",
        "\n",
        "#Test Case 1\n",
        "\n",
        "sugar = 18 \n",
        "bag = 0 \n",
        "\n",
        "while sugar >= 0:\n",
        "  if sugar%5 == 0:\n",
        "    bag += (sugar//5)\n",
        "    print('Total bags >>>', bag)\n",
        "    break \n",
        "\n",
        "  sugar -= 3 \n",
        "  bag += 1\n",
        "\n",
        "else:\n",
        "  print(-1)\n",
        "\n",
        "#Test Case 2\n",
        "\n",
        "sugar = 4\n",
        "bag = 0 \n",
        "\n",
        "while sugar >= 0:\n",
        "  if sugar%5 == 0:\n",
        "    bag += (sugar//5)\n",
        "    print('Total bags >>>', bag)\n",
        "    break \n",
        "\n",
        "  sugar -= 3 \n",
        "  bag += 1\n",
        "\n",
        "else:\n",
        "  print(-1)\n",
        "\n",
        "sugar = int(input())\n",
        "bag = 0 \n",
        "\n",
        "while sugar >= 0:\n",
        "  if sugar%5 == 0:\n",
        "    bag += (sugar//5)\n",
        "    print('Total bags >>>', bag)\n",
        "    break \n",
        "\n",
        "  sugar -= 3 \n",
        "  bag += 1\n",
        "\n",
        "else:\n",
        "  print(-1)"
      ],
      "metadata": {
        "colab": {
          "base_uri": "https://localhost:8080/"
        },
        "id": "AE4OwzQe57FQ",
        "outputId": "f3d7ab34-e2a5-4eef-b768-8470d57041f1"
      },
      "execution_count": 18,
      "outputs": [
        {
          "output_type": "stream",
          "name": "stdout",
          "text": [
            "Total bags >>> 4\n",
            "-1\n",
            "11\n",
            "Total bags >>> 3\n"
          ]
        }
      ]
    }
  ]
}
