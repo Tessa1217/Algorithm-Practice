{
  "nbformat": 4,
  "nbformat_minor": 0,
  "metadata": {
    "colab": {
      "name": "String_algorithm_Q1",
      "provenance": [],
      "authorship_tag": "ABX9TyMmroVmO8zzwz99dxfN/T29"
    },
    "kernelspec": {
      "name": "python3",
      "display_name": "Python 3"
    },
    "language_info": {
      "name": "python"
    }
  },
  "cells": [
    {
      "cell_type": "markdown",
      "source": [
        "*Baekjoon 문제: 2675, 10809*"
      ],
      "metadata": {
        "id": "VeRFus1YeAA4"
      }
    },
    {
      "cell_type": "code",
      "execution_count": 42,
      "metadata": {
        "colab": {
          "base_uri": "https://localhost:8080/"
        },
        "id": "lRp4mwWxqjRD",
        "outputId": "3cd3baec-234b-485f-e2a7-073da1e2c572"
      },
      "outputs": [
        {
          "output_type": "stream",
          "name": "stdout",
          "text": [
            "['AAA', 'BBB', 'CCC']\n",
            "AAABBBCCC\n",
            "\\\\\\\\\\HHHHHTTTTTPPPPP\n",
            "2\n",
            "2 abcdf\n",
            "aabbccddff\n",
            "3 ***/\n",
            "*********///\n"
          ]
        }
      ],
      "source": [
        "# 2675\n",
        "\n",
        "# Test Case 1 - list\n",
        "\n",
        "r = 3\n",
        "s = 'ABC'\n",
        "p_list = []\n",
        "\n",
        "for i in s:\n",
        "  p_com = i * r\n",
        "  p_list.append(p_com)\n",
        "\n",
        "print(p_list)\n",
        "print(''.join(p_list))\n",
        "\n",
        "# Test Case 2\n",
        "r = 5\n",
        "s = '\\HTP'\n",
        "p = ''\n",
        "\n",
        "for i in s:\n",
        "  p += r * i\n",
        "print(p)\n",
        "\n",
        "\n",
        "# \n",
        "test = int(input())\n",
        "for t in range(test):\n",
        "  r, s = input().split() \n",
        "  text = ''\n",
        "  for i in s:\n",
        "    text += int(r) * i \n",
        "  print(text)"
      ]
    },
    {
      "cell_type": "code",
      "source": [
        "# 10809\n",
        "\n",
        "# Test Case 1\n",
        "import string \n",
        "\n",
        "s = 'baekjoon'\n",
        "\n",
        "x = []\n",
        "for i in string.ascii_lowercase:\n",
        "  if i in s:\n",
        "    x.append(s.index(i))\n",
        "  else:\n",
        "    x.append(-1)\n",
        "print(x)\n",
        "\n",
        "# Test Case 2 - 위치를 '공백'으로 구분해서 출력 \n",
        "import string \n",
        "\n",
        "s = input()\n",
        "\n",
        "for i in string.ascii_lowercase:\n",
        "  \n",
        "  if i in s:\n",
        "    print(s.index(i), end = ' ')\n",
        "\n",
        "  else:\n",
        "    print(-1, end = ' ')"
      ],
      "metadata": {
        "colab": {
          "base_uri": "https://localhost:8080/"
        },
        "id": "USjmINTTF9G3",
        "outputId": "a4c1b246-daea-4bab-fc2e-bd7f6c615ab6"
      },
      "execution_count": 59,
      "outputs": [
        {
          "output_type": "stream",
          "name": "stdout",
          "text": [
            "[1, 0, -1, -1, 2, -1, -1, -1, -1, 4, 3, -1, -1, 7, 5, -1, -1, -1, -1, -1, -1, -1, -1, -1, -1, -1]\n",
            "1 0 -1 -1 2 -1 -1 -1 -1 4 3 -1 -1 7 5 -1 -1 -1 -1 -1 -1 -1 -1 -1 -1 -1 "
          ]
        }
      ]
    }
  ]
}
