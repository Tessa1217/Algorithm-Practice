{
  "nbformat": 4,
  "nbformat_minor": 0,
  "metadata": {
    "colab": {
      "name": "bj_2581",
      "provenance": [],
      "collapsed_sections": [],
      "authorship_tag": "ABX9TyP7jboxpQAv35SIqKww67g+"
    },
    "kernelspec": {
      "name": "python3",
      "display_name": "Python 3"
    },
    "language_info": {
      "name": "python"
    }
  },
  "cells": [
    {
      "cell_type": "markdown",
      "source": [
        "소수\n",
        "* M과 N 사이 소수를 구한 후 소수의 합과 최솟값 찾기"
      ],
      "metadata": {
        "id": "oRsiCQt_wFfp"
      }
    },
    {
      "cell_type": "code",
      "execution_count": null,
      "metadata": {
        "colab": {
          "base_uri": "https://localhost:8080/"
        },
        "id": "PvTewBxTPkWv",
        "outputId": "3549cbf6-5a6c-489f-db99-1686199f76ae"
      },
      "outputs": [
        {
          "output_type": "stream",
          "name": "stdout",
          "text": [
            "2\n",
            "3\n",
            "5\n",
            "7\n",
            "11\n",
            "13\n",
            "17\n",
            "19\n",
            "23\n",
            "29\n",
            "31\n",
            "37\n",
            "41\n",
            "43\n",
            "47\n",
            "53\n",
            "59\n",
            "61\n",
            "67\n",
            "71\n",
            "73\n",
            "79\n",
            "83\n",
            "89\n",
            "97\n",
            "25\n"
          ]
        }
      ],
      "source": [
        "# Prime Number (소수)\n",
        "n = 100\n",
        "array = [True for i in range(n+1)]\n",
        "for i in range(2, int(n**0.5) + 1):\n",
        "  if array[i] == True:\n",
        "    j = 2\n",
        "    while i*j <= n:\n",
        "      array[i*j] = False\n",
        "      j += 1\n",
        "cnt = 0\n",
        "for i in range(2, n+1):\n",
        "  if array[i] == True:\n",
        "    print(i)\n",
        "    cnt += 1\n",
        "print(cnt)"
      ]
    },
    {
      "cell_type": "code",
      "source": [
        "M = int(input())\n",
        "N = int(input())\n",
        "prime = []\n",
        "for i in range(M, N+1):\n",
        "  cnt = 0 \n",
        "  if i > 1:\n",
        "    for j in range(2, int(i**0.5)+1):\n",
        "      if i%j == 0:\n",
        "        cnt += 1\n",
        "        if cnt > 1:\n",
        "          break\n",
        "    if cnt == 0:\n",
        "      prime.append(i)\n",
        "\n",
        "if len(prime) > 0:\n",
        "  print(sum(prime))\n",
        "  print(min(prime))\n",
        "else:\n",
        "  print(-1)"
      ],
      "metadata": {
        "colab": {
          "base_uri": "https://localhost:8080/"
        },
        "id": "UzwybunBl4Jo",
        "outputId": "f1b63f3e-211c-4fa4-e2f7-6b2b93658257"
      },
      "execution_count": 20,
      "outputs": [
        {
          "output_type": "stream",
          "name": "stdout",
          "text": [
            "60\n",
            "100\n",
            "620\n",
            "61\n"
          ]
        }
      ]
    }
  ]
}
