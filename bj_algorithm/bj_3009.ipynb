{
  "nbformat": 4,
  "nbformat_minor": 0,
  "metadata": {
    "colab": {
      "name": "bj_3009",
      "provenance": [],
      "authorship_tag": "ABX9TyNac0BXQxCMIgAXkXLWelRj"
    },
    "kernelspec": {
      "name": "python3",
      "display_name": "Python 3"
    },
    "language_info": {
      "name": "python"
    }
  },
  "cells": [
    {
      "cell_type": "markdown",
      "source": [
        "네 번째 점\n",
        "* 세 점이 주어졌을 때 직사각형을 만들기 위해 필요한 네 번째 점 찾기"
      ],
      "metadata": {
        "id": "Pl-NTZRFlMO4"
      }
    },
    {
      "cell_type": "code",
      "execution_count": 7,
      "metadata": {
        "colab": {
          "base_uri": "https://localhost:8080/"
        },
        "id": "w5I1073mifGF",
        "outputId": "850901bc-7ba7-4255-bc20-3822250062d2"
      },
      "outputs": [
        {
          "output_type": "stream",
          "name": "stdout",
          "text": [
            "5 5\n",
            "5 7\n",
            "7 5\n",
            "[5, 5, 7]\n",
            "[5, 7, 5]\n",
            "7 7\n"
          ]
        }
      ],
      "source": [
        "coord_x = []\n",
        "coord_y = []\n",
        "for i in range(3):\n",
        "  x, y = map(int, input().split())\n",
        "  coord_x.append(x)\n",
        "  coord_y.append(y)\n",
        "# print(coord_x)\n",
        "# print(coord_y)\n",
        "\n",
        "for i in range(3):\n",
        "  if coord_x.count(coord_x[i]) == 1:\n",
        "    x = coord_x[i]\n",
        "  if coord_y.count(coord_y[i]) == 1:\n",
        "    y = coord_y[i]\n",
        "print(x, y)\n"
      ]
    }
  ]
}