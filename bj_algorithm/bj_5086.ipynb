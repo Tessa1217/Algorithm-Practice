{
  "nbformat": 4,
  "nbformat_minor": 0,
  "metadata": {
    "colab": {
      "name": "bj_5086 ",
      "provenance": [],
      "collapsed_sections": [],
      "authorship_tag": "ABX9TyPAA5u/pfazZe0m8/g2zX9h"
    },
    "kernelspec": {
      "name": "python3",
      "display_name": "Python 3"
    },
    "language_info": {
      "name": "python"
    }
  },
  "cells": [
    {
      "cell_type": "markdown",
      "source": [
        "배수와 약수"
      ],
      "metadata": {
        "id": "LgGmsY77AE4y"
      }
    },
    {
      "cell_type": "markdown",
      "source": [
        "* 첫 번째 숫자가 두 번째 숫자의 약수 또는 배수 또는 약수, 배수 모두 아님을 판단하는 프로그램 작성\n",
        "* 여러 개의 테스트 케이크가 주어짐\n",
        "* 마지막 줄에는 0, 0이 주어짐"
      ],
      "metadata": {
        "id": "GKXKrq3DAGTC"
      }
    },
    {
      "cell_type": "code",
      "source": [
        "while True: \n",
        "  a, b = map(int, input().split())\n",
        "  if a == 0 & b == 0:\n",
        "    break \n",
        "  if a > b:\n",
        "    if a%b == 0:\n",
        "      print('multiple')\n",
        "    else:\n",
        "      print('neither')\n",
        "  elif a < b:\n",
        "    if b%a == 0:\n",
        "      print('factor')\n",
        "    else:\n",
        "      print('neither')"
      ],
      "metadata": {
        "colab": {
          "base_uri": "https://localhost:8080/"
        },
        "id": "4rn-Tdus5dja",
        "outputId": "476b260f-a2fa-4ecf-c906-ec62b3c8e0b1"
      },
      "execution_count": null,
      "outputs": [
        {
          "name": "stdout",
          "output_type": "stream",
          "text": [
            "8 16\n",
            "factor\n",
            "7 15\n",
            "neither\n",
            "32 4\n",
            "multiple\n",
            "0 0\n"
          ]
        }
      ]
    }
  ]
}