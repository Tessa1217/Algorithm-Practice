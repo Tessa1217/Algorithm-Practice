{
  "nbformat": 4,
  "nbformat_minor": 0,
  "metadata": {
    "colab": {
      "name": "bj_11653 ",
      "provenance": [],
      "authorship_tag": "ABX9TyMOJiC1wdun1BvizoPKYTHU"
    },
    "kernelspec": {
      "name": "python3",
      "display_name": "Python 3"
    },
    "language_info": {
      "name": "python"
    }
  },
  "cells": [
    {
      "cell_type": "markdown",
      "source": [
        "소인수분해(Integer Factorization)\n",
        "\n",
        "* 소인수분해 결과를 오름차순으로 출력\n",
        "\n"
      ],
      "metadata": {
        "id": "WR-dJmJn4E09"
      }
    },
    {
      "cell_type": "code",
      "source": [
        "N = int(input())\n",
        "i = 2\n",
        "\n",
        "while N != 1:\n",
        "  if N%i == 0:\n",
        "    N /= i\n",
        "    print(i)\n",
        "  else: i += 1"
      ],
      "metadata": {
        "colab": {
          "base_uri": "https://localhost:8080/"
        },
        "id": "Za8IPOvK3R6Y",
        "outputId": "f016fa27-2145-4f0f-d674-008bf86966f7"
      },
      "execution_count": null,
      "outputs": [
        {
          "output_type": "stream",
          "name": "stdout",
          "text": [
            "9991\n",
            "97\n",
            "103\n"
          ]
        }
      ]
    },
    {
      "cell_type": "code",
      "execution_count": null,
      "metadata": {
        "colab": {
          "base_uri": "https://localhost:8080/"
        },
        "id": "uikD_taE29gc",
        "outputId": "ec40b6ed-3d00-4467-8428-aae9be397ad0"
      },
      "outputs": [
        {
          "output_type": "stream",
          "name": "stdout",
          "text": [
            "2\n",
            "2\n",
            "2\n",
            "3\n",
            "3\n"
          ]
        }
      ],
      "source": [
        "a = 72\n",
        "i = 2\n",
        "while a != 1:\n",
        "  if a%i == 0:\n",
        "    a /= i\n",
        "    print(i)\n",
        "  else: i += 1"
      ]
    }
  ]
}