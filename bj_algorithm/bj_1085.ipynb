{
  "nbformat": 4,
  "nbformat_minor": 0,
  "metadata": {
    "colab": {
      "name": "bj_1085",
      "provenance": [],
      "authorship_tag": "ABX9TyNw40/r9brmpZNnG9HCjsiZ"
    },
    "kernelspec": {
      "name": "python3",
      "display_name": "Python 3"
    },
    "language_info": {
      "name": "python"
    }
  },
  "cells": [
    {
      "cell_type": "markdown",
      "source": [
        "직사각형에서 탈출 \n",
        "* 한수의 위치 (x, y)\n",
        "* 직사각형의 경계 (0, 0), (w, h)"
      ],
      "metadata": {
        "id": "Bg1Hcx0yTMVA"
      }
    },
    {
      "cell_type": "code",
      "source": [
        "x, y, w, h = map(int, input().split())\n",
        "distance = [x, y, (w-x), (h-y)]\n",
        "print(min(distance))"
      ],
      "metadata": {
        "colab": {
          "base_uri": "https://localhost:8080/"
        },
        "id": "EqZA5_5hVPkB",
        "outputId": "b03c4847-ddc9-4220-bd66-e5719df8ff38"
      },
      "execution_count": 7,
      "outputs": [
        {
          "output_type": "stream",
          "name": "stdout",
          "text": [
            "3 5 7 10\n",
            "3\n"
          ]
        }
      ]
    },
    {
      "cell_type": "code",
      "execution_count": 3,
      "metadata": {
        "colab": {
          "base_uri": "https://localhost:8080/"
        },
        "id": "gW8niCkoJydW",
        "outputId": "8201cb2b-ac25-4c21-8412-f1182938019d"
      },
      "outputs": [
        {
          "output_type": "stream",
          "name": "stdout",
          "text": [
            "1\n"
          ]
        }
      ],
      "source": [
        "# Test Case 1\n",
        "\n",
        "x, y = 6, 2\n",
        "w, h = 10, 3\n",
        "\n",
        "distance = [x, y, (w-x), (h-y)]\n",
        "print(min(distance))"
      ]
    },
    {
      "cell_type": "code",
      "source": [
        "# Test Case 2\n",
        "\n",
        "x, y = 1, 1\n",
        "w, h = 5, 5\n",
        "\n",
        "distance = [x, y, (w-x), (h-y)]\n",
        "print(min(distance))"
      ],
      "metadata": {
        "colab": {
          "base_uri": "https://localhost:8080/"
        },
        "id": "VldGOT9AUwRh",
        "outputId": "73f9611f-e507-4a67-9bc7-cf7c6007edd8"
      },
      "execution_count": 4,
      "outputs": [
        {
          "output_type": "stream",
          "name": "stdout",
          "text": [
            "1\n"
          ]
        }
      ]
    },
    {
      "cell_type": "code",
      "source": [
        "# Test Case 3\n",
        "\n",
        "x, y = 161, 181\n",
        "w, h = 762 , 375\n",
        "\n",
        "distance = [x, y, (w-x), (h-y)]\n",
        "print(min(distance))"
      ],
      "metadata": {
        "colab": {
          "base_uri": "https://localhost:8080/"
        },
        "id": "DaWdCbGlU3QX",
        "outputId": "437f6c8b-4265-4625-f5ca-e0e06f71e7af"
      },
      "execution_count": 6,
      "outputs": [
        {
          "output_type": "stream",
          "name": "stdout",
          "text": [
            "161\n"
          ]
        }
      ]
    },
    {
      "cell_type": "code",
      "source": [
        "# Test Case 4\n",
        "\n",
        "x, y = 653, 375\n",
        "w, h = 1000, 1000\n",
        "\n",
        "distance = [x, y, (w-x), (h-y)]\n",
        "print(min(distance))"
      ],
      "metadata": {
        "colab": {
          "base_uri": "https://localhost:8080/"
        },
        "id": "R0Z7zrl-U3eH",
        "outputId": "d95cd82a-1295-4d35-921c-a154d5788ffa"
      },
      "execution_count": 5,
      "outputs": [
        {
          "output_type": "stream",
          "name": "stdout",
          "text": [
            "347\n"
          ]
        }
      ]
    }
  ]
}