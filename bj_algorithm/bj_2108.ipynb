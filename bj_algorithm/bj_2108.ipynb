{
  "nbformat": 4,
  "nbformat_minor": 0,
  "metadata": {
    "colab": {
      "name": "bj_2108",
      "provenance": [],
      "authorship_tag": "ABX9TyOKIuU63jOOrkk+leUFidJf"
    },
    "kernelspec": {
      "name": "python3",
      "display_name": "Python 3"
    },
    "language_info": {
      "name": "python"
    }
  },
  "cells": [
    {
      "cell_type": "code",
      "execution_count": 30,
      "metadata": {
        "colab": {
          "base_uri": "https://localhost:8080/"
        },
        "id": "4fPwU49uOTfJ",
        "outputId": "ceb9f6a0-d3d9-4e81-fef3-7a4aaa8cf68e"
      },
      "outputs": [
        {
          "output_type": "stream",
          "name": "stdout",
          "text": [
            "4000\n",
            "4000\n",
            "4000\n",
            "0\n"
          ]
        }
      ],
      "source": [
        "# Test Case 1\n",
        "\n",
        "N = [4000]\n",
        "\n",
        "# Average\n",
        "print(sum(N)//len(N))\n",
        "\n",
        "# Median\n",
        "N.sort()\n",
        "print(N[len(N)//2])\n",
        "\n",
        "# Mode\n",
        "count_dict = {}\n",
        "for num in N:\n",
        "  count_dict[num] = N.count(num)\n",
        "cnt = 0\n",
        "for k, v in count_dict.items():\n",
        "  if v == max(count_dict.values()):\n",
        "    cnt += 1\n",
        "key_list = [k for k, v in count_dict.items() if v == max(count_dict.values())]\n",
        "if cnt > 1:\n",
        "  print(key_list[1])\n",
        "elif cnt == 1:\n",
        "  print(key_list[0])\n",
        "\n",
        "# Range\n",
        "print(max(N) - min(N))"
      ]
    },
    {
      "cell_type": "code",
      "source": [
        "N = int(input())\n",
        "nums = []\n",
        "for _ in range(N):\n",
        "  num = int(input())\n",
        "  nums.append(num)\n",
        "\n",
        "print(sum(nums)//len(nums))\n",
        "\n",
        "nums.sort()\n",
        "print(nums[len(nums)//2])\n",
        "\n",
        "dic = {}\n",
        "for n in nums:\n",
        "  dic[n] = nums.count(n)\n",
        "cnt = 0\n",
        "for k, v in dic.items():\n",
        "  if v == max(dic.values()):\n",
        "    cnt += 1\n",
        "keys = [k for k, v in dic.items() if v == max(dic.values())]\n",
        "if cnt == 1:\n",
        "  print(keys[0])\n",
        "else:\n",
        "  print(keys[1])\n",
        "\n",
        "print(max(nums) - min(nums))\n",
        "\n",
        "# 시간 초과 발생"
      ],
      "metadata": {
        "colab": {
          "base_uri": "https://localhost:8080/"
        },
        "id": "qmpowABsUW6y",
        "outputId": "4e1b4729-933b-471e-98da-1c3843093cea"
      },
      "execution_count": 32,
      "outputs": [
        {
          "output_type": "stream",
          "name": "stdout",
          "text": [
            "5\n",
            "-1\n",
            "-2\n",
            "-3\n",
            "-1\n",
            "-2\n",
            "-2\n",
            "-2\n",
            "-1\n",
            "2\n"
          ]
        }
      ]
    },
    {
      "cell_type": "code",
      "source": [
        "# Counter 사용\n",
        "\n",
        "from collections import Counter \n",
        "import sys\n",
        "\n",
        "N = int(sys.stdin.readline())\n",
        "nums = []\n",
        "for _ in range(N):\n",
        "    nums.append(int(sys.stdin.readline()))\n",
        "\n",
        "nums.sort()\n",
        "\n",
        "print(round(sum(nums)/N))\n",
        "\n",
        "print(nums[N//2])\n",
        "\n",
        "count = Counter(nums).most_common()\n",
        "if len(count) > 1:\n",
        "    if count[0][1] == count[1][1]:\n",
        "        print(count[1][0])\n",
        "    else:\n",
        "        print(count[0][0])\n",
        "else:\n",
        "    print(count[0][0])\n",
        "\n",
        "print(max(nums) - min(nums))"
      ],
      "metadata": {
        "colab": {
          "base_uri": "https://localhost:8080/"
        },
        "id": "QinOI30nbqKS",
        "outputId": "f58bf271-5694-4f02-fe8d-91c9d7723377"
      },
      "execution_count": 15,
      "outputs": [
        {
          "output_type": "stream",
          "name": "stdout",
          "text": [
            "1\n",
            "2\n",
            "[(1, 2), (2, 2), (3, 1)]\n",
            "3\n",
            "2\n",
            "2\n"
          ]
        }
      ]
    }
  ]
}