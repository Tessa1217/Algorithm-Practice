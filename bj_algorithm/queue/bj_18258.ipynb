{
  "nbformat": 4,
  "nbformat_minor": 0,
  "metadata": {
    "colab": {
      "name": "bj_18258 ",
      "provenance": [],
      "collapsed_sections": [],
      "authorship_tag": "ABX9TyNeeD/W6qk0v0twke+lWSWI"
    },
    "kernelspec": {
      "name": "python3",
      "display_name": "Python 3"
    },
    "language_info": {
      "name": "python"
    }
  },
  "cells": [
    {
      "cell_type": "markdown",
      "source": [
        "큐2\n",
        "- 큐 구현하기"
      ],
      "metadata": {
        "id": "HN048E53OuL3"
      }
    },
    {
      "cell_type": "code",
      "source": [
        "import sys\n",
        "from collections import deque\n",
        "n = int(sys.stdin.readline())\n",
        "queue = deque([])\n",
        "for _ in range(n):\n",
        "    order = sys.stdin.readline().split()\n",
        "    if order[0] == 'push':\n",
        "        queue.append(order[1])\n",
        "    elif order[0] == 'pop':\n",
        "        if len(queue) > 0:\n",
        "            print(queue.popleft())\n",
        "        else: print(-1)\n",
        "    elif order[0] == 'size':\n",
        "        if len(queue) > 0:\n",
        "            print(len(queue))\n",
        "        else: print(0)\n",
        "    elif order[0] == 'empty':\n",
        "        if len(queue) > 0:\n",
        "            print(0)\n",
        "        else: print(1)\n",
        "    elif order[0] == 'front':\n",
        "        if len(queue) > 0:\n",
        "            print(queue[0])\n",
        "        else: print(-1)\n",
        "    elif order[0] == 'back':\n",
        "        if len(queue) > 0:\n",
        "            print(queue[-1])\n",
        "        else: print(-1)"
      ],
      "metadata": {
        "id": "t7UExICxOplu"
      },
      "execution_count": null,
      "outputs": []
    },
    {
      "cell_type": "code",
      "source": [
        "from collections import deque\n",
        "n = int(input())\n",
        "queue = deque([])\n",
        "for _ in range(n):\n",
        "  order = input().split()\n",
        "  if order[0] == 'push':\n",
        "    queue.append(order[1])\n",
        "  elif order[0] == 'pop':\n",
        "    if len(queue) > 0:\n",
        "      print(queue.popleft())\n",
        "    else: print(-1)\n",
        "  elif order[0] == 'size':\n",
        "    if len(queue) > 0:\n",
        "      print(len(queue))\n",
        "    else: print(0)\n",
        "  elif order[0] == 'empty':\n",
        "    if len(queue) > 0:\n",
        "      print(0)\n",
        "    else: print(1)\n",
        "  elif order[0] == 'front':\n",
        "    if len(queue) > 0:\n",
        "      print(queue[0])\n",
        "    else: print(-1)\n",
        "  elif order[0] == 'back':\n",
        "    if len(queue) >0:\n",
        "      print(queue[-1])\n",
        "    else: print(-1)"
      ],
      "metadata": {
        "colab": {
          "base_uri": "https://localhost:8080/"
        },
        "id": "i2h1q3neNF5E",
        "outputId": "02f02e25-455a-4392-88a8-978ef2b9b871"
      },
      "execution_count": null,
      "outputs": [
        {
          "output_type": "stream",
          "name": "stdout",
          "text": [
            "15\n",
            "push 1\n",
            "push 2\n",
            "front\n",
            "1\n",
            "back\n",
            "2\n",
            "size\n",
            "2\n",
            "empty\n",
            "0\n",
            "pop\n",
            "1\n",
            "pop\n",
            "2\n",
            "pop\n",
            "-1\n",
            "size\n",
            "0\n",
            "empty\n",
            "1\n",
            "pop\n",
            "-1\n",
            "push 3\n",
            "empty\n",
            "0\n",
            "front\n",
            "3\n"
          ]
        }
      ]
    },
    {
      "cell_type": "markdown",
      "source": [
        "Python deque\n",
        "- from collections import deque\n",
        "- deque.append(e): add e to the right end side of the deque\n",
        "- deque.appendleft(e): add e to the left end side of the deque\n",
        "- deque.pop(): pop deque[-1]\n",
        "- deque.popleft(): pop deque[0]\n",
        "- deque.remove(e): remove e \n",
        "- deque.rotate(num): rotate deque 'num' times"
      ],
      "metadata": {
        "id": "_10CPlceNJdg"
      }
    },
    {
      "cell_type": "code",
      "execution_count": null,
      "metadata": {
        "colab": {
          "base_uri": "https://localhost:8080/"
        },
        "id": "eKBOcSgSHdO-",
        "outputId": "6bef2e88-3ac7-4748-d562-67c42481a0f7"
      },
      "outputs": [
        {
          "output_type": "stream",
          "name": "stdout",
          "text": [
            "15\n",
            "push 1\n",
            "push 2\n",
            "front\n",
            "1\n",
            "back\n",
            "2\n",
            "size\n",
            "2\n",
            "empty\n",
            "0\n",
            "pop\n",
            "1\n",
            "pop\n",
            "2\n",
            "pop\n",
            "-1\n",
            "size\n",
            "0\n",
            "empty\n",
            "1\n",
            "pop\n",
            "-1\n",
            "push 3\n",
            "empty\n",
            "0\n",
            "front\n",
            "3\n"
          ]
        }
      ],
      "source": [
        "n = int(input())\n",
        "queue = []\n",
        "for _ in range(n):\n",
        "  order = input().split()\n",
        "  if order[0] == 'push':\n",
        "    queue.append(order[1])\n",
        "  elif order[0] == 'pop':\n",
        "    if len(queue) > 0:\n",
        "      print(queue.pop(0))\n",
        "    else: print(-1)\n",
        "  elif order[0] == 'size':\n",
        "    if len(queue) > 0:\n",
        "      print(len(queue))\n",
        "    else: print(0)\n",
        "  elif order[0] == 'empty':\n",
        "    if len(queue) > 0:\n",
        "      print(0)\n",
        "    else: print(1)\n",
        "  elif order[0] == 'front':\n",
        "    if len(queue) > 0:\n",
        "      print(queue[0])\n",
        "    else: print(-1)\n",
        "  elif order[0] == 'back':\n",
        "    if len(queue) >0:\n",
        "      print(queue[-1])\n",
        "    else: print(-1)\n",
        "\n",
        "# Time Error"
      ]
    }
  ]
}
