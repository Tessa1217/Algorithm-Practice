{
  "nbformat": 4,
  "nbformat_minor": 0,
  "metadata": {
    "colab": {
      "name": "bj_2525 ",
      "provenance": [],
      "authorship_tag": "ABX9TyOJ4dWnovrJbIvrMxCfLpbl"
    },
    "kernelspec": {
      "name": "python3",
      "display_name": "Python 3"
    },
    "language_info": {
      "name": "python"
    }
  },
  "cells": [
    {
      "cell_type": "markdown",
      "source": [
        "오븐 시계\n",
        "* 오븐 구이에 필요한 시간이 분단위로 주여졌을 때 오븐구이가 끝나는 시간 계산하는 프로그램"
      ],
      "metadata": {
        "id": "T1UugQNRTd0E"
      }
    },
    {
      "cell_type": "code",
      "source": [
        "h, m = map(int, input().split())\n",
        "d = int(input())\n",
        "\n",
        "m += d \n",
        "\n",
        "if m >= 60:\n",
        "  h += m//60\n",
        "  m -= (m//60*60)\n",
        "\n",
        "if h >= 24:\n",
        "  h -= 24\n",
        "\n",
        "print(h, m)"
      ],
      "metadata": {
        "id": "QwinhexzHZhG"
      },
      "execution_count": null,
      "outputs": []
    },
    {
      "cell_type": "code",
      "execution_count": null,
      "metadata": {
        "colab": {
          "base_uri": "https://localhost:8080/"
        },
        "id": "dgR5SIixTb4h",
        "outputId": "4cbf7960-c326-488d-a349-61fe565e51a3"
      },
      "outputs": [
        {
          "output_type": "stream",
          "name": "stdout",
          "text": [
            "14 50\n"
          ]
        }
      ],
      "source": [
        "# Test Case 1\n",
        "\n",
        "h, m = 14, 30\n",
        "d = 20\n",
        "\n",
        "m += d \n",
        "\n",
        "if m >= 60:\n",
        "  h += m//60\n",
        "  m -= (m//60*60)\n",
        "\n",
        "if h >= 24:\n",
        "  h -= 24\n",
        "\n",
        "print(h, m)"
      ]
    },
    {
      "cell_type": "code",
      "source": [
        "# Test Case 2\n",
        "\n",
        "h, m = 17, 40\n",
        "d = 80\n",
        "\n",
        "m += d \n",
        "\n",
        "if m >= 60:\n",
        "  h += m//60\n",
        "  m -= (m//60*60)\n",
        "\n",
        "if h >= 24:\n",
        "  h -= 24\n",
        "\n",
        "print(h, m)"
      ],
      "metadata": {
        "colab": {
          "base_uri": "https://localhost:8080/"
        },
        "id": "P8DR946hHd1l",
        "outputId": "3a682fa1-d620-46d8-dae6-d68e9bf2d528"
      },
      "execution_count": null,
      "outputs": [
        {
          "output_type": "stream",
          "name": "stdout",
          "text": [
            "19 0\n"
          ]
        }
      ]
    },
    {
      "cell_type": "code",
      "source": [
        "# Test Case 3\n",
        "\n",
        "h, m = 23, 48\n",
        "d = 25\n",
        "\n",
        "m += d \n",
        "\n",
        "if m >= 60:\n",
        "  h += m//60\n",
        "  m -= (m//60*60)\n",
        "\n",
        "if h >= 24:\n",
        "  h -= 24\n",
        "\n",
        "print(h, m)"
      ],
      "metadata": {
        "colab": {
          "base_uri": "https://localhost:8080/"
        },
        "id": "1QmWvVI9Hd6t",
        "outputId": "c9829073-183f-40ce-e28b-337c369661d7"
      },
      "execution_count": null,
      "outputs": [
        {
          "output_type": "stream",
          "name": "stdout",
          "text": [
            "0 13\n"
          ]
        }
      ]
    }
  ]
}