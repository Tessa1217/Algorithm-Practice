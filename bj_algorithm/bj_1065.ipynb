{
  "nbformat": 4,
  "nbformat_minor": 0,
  "metadata": {
    "colab": {
      "name": "bj_1065.ipynb",
      "provenance": [],
      "authorship_tag": "ABX9TyPhhGrkQUNEJchR8QAPgk+F"
    },
    "kernelspec": {
      "name": "python3",
      "display_name": "Python 3"
    },
    "language_info": {
      "name": "python"
    }
  },
  "cells": [
    {
      "cell_type": "markdown",
      "source": [
        "한수\n",
        "* 만약 정수 x의 각 자리가 등차수열을 이룬다면 그 수를 한수라고 한다. 등차수열(Arithmetic progression)이란 연속된 두 개의 수의 차이가 일정한 수열을 말한다. \n",
        "* if x = 123 > 1, 2, 3 (등차수열)\n",
        "* if x = 135 > 1, 3, 5 (등차수열)\n",
        "* if x = 124 > 1, 2, 4 (등차수열 X)"
      ],
      "metadata": {
        "id": "QgN7B8d1l-mv"
      }
    },
    {
      "cell_type": "code",
      "execution_count": 7,
      "metadata": {
        "colab": {
          "base_uri": "https://localhost:8080/"
        },
        "id": "CqGRKBfJj9Z-",
        "outputId": "ed9534c6-c0ad-448f-be5d-adc9ff1b3aa8"
      },
      "outputs": [
        {
          "output_type": "stream",
          "name": "stdout",
          "text": [
            "105\n",
            "119\n",
            "144\n",
            "99\n"
          ]
        }
      ],
      "source": [
        "def progression(n):\n",
        "  cnt = 0\n",
        "\n",
        "  if n < 100: \n",
        "    cnt += n \n",
        "  if n >= 100: \n",
        "    cnt += 99\n",
        "    for i in range(100, n+1):\n",
        "      n_list = list(map(int, str(i)))\n",
        "      if n_list[0] - n_list[1] == n_list[1] - n_list[2]: \n",
        "        cnt += 1 \n",
        "  return cnt\n",
        "\n",
        "\n",
        "print(progression(210))\n",
        "print(progression(500))\n",
        "print(progression(1000))\n",
        "print(progression(110))"
      ]
    },
    {
      "cell_type": "markdown",
      "source": [
        "Explanation\n",
        "* 만약 x가 한 ~ 두 자릿수라면 등차수열을 이루는 비교대상이 없으므로 한수이다. (if n < 100: 한수의 개수는 n개)\n",
        "* 만약 x가 세 자릿수라면 첫번째와 두번째 자릿수 숫자의 차와 두번째 세번째 자릿수 숫자의 차가 동일하다면 등차수열이다. 따라서 cnt += 1을 하여 한수를 카운트한다."
      ],
      "metadata": {
        "id": "fm1Z-kx2nSVC"
      }
    }
  ]
}