{
  "nbformat": 4,
  "nbformat_minor": 0,
  "metadata": {
    "colab": {
      "name": "bj_4153 ",
      "provenance": [],
      "collapsed_sections": [],
      "authorship_tag": "ABX9TyN+zlx7zLqgIaX74kTP1vPn"
    },
    "kernelspec": {
      "name": "python3",
      "display_name": "Python 3"
    },
    "language_info": {
      "name": "python"
    }
  },
  "cells": [
    {
      "cell_type": "markdown",
      "source": [
        "직각삼각형\n",
        "* Pythagorean theorem "
      ],
      "metadata": {
        "id": "5lEf39ShzJaD"
      }
    },
    {
      "cell_type": "code",
      "source": [
        "while True: \n",
        "    sides = list(map(int, input().split()))\n",
        "    sides.sort()\n",
        "    if sum(sides) == 0:\n",
        "        break\n",
        "    s = sides[0]**2 + sides[1]**2\n",
        "    if s == sides[2]**2:\n",
        "        print('right')\n",
        "    else: print('wrong')"
      ],
      "metadata": {
        "colab": {
          "base_uri": "https://localhost:8080/"
        },
        "id": "J_pwaV1nwVvU",
        "outputId": "aa739abe-7000-4946-9920-97d4d3cc2c0f"
      },
      "execution_count": null,
      "outputs": [
        {
          "name": "stdout",
          "output_type": "stream",
          "text": [
            "3 4 5\n",
            "right\n",
            "6 8 10\n",
            "right\n",
            "25 60 52\n",
            "wrong\n",
            "13 12 5\n",
            "right\n",
            "0 0 0\n"
          ]
        }
      ]
    },
    {
      "cell_type": "code",
      "execution_count": null,
      "metadata": {
        "colab": {
          "base_uri": "https://localhost:8080/"
        },
        "id": "fWwEeWrpv0BK",
        "outputId": "e120adf4-8d1e-427e-8b83-6b2e770fae86"
      },
      "outputs": [
        {
          "output_type": "stream",
          "name": "stdout",
          "text": [
            "right\n"
          ]
        }
      ],
      "source": [
        "# Test Case 1\n",
        "x, y, z = 6, 8, 10\n",
        "\n",
        "s = x**2 + y**2\n",
        "\n",
        "if s == z**2:\n",
        "  print('right')\n",
        "else:\n",
        "  print('wrong')"
      ]
    }
  ]
}