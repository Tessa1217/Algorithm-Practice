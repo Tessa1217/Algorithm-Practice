{
  "nbformat": 4,
  "nbformat_minor": 0,
  "metadata": {
    "colab": {
      "name": "bj_18870",
      "provenance": [],
      "collapsed_sections": [],
      "authorship_tag": "ABX9TyNku6Xsi2JYyKFdqlAwoHbf"
    },
    "kernelspec": {
      "name": "python3",
      "display_name": "Python 3"
    },
    "language_info": {
      "name": "python"
    }
  },
  "cells": [
    {
      "cell_type": "markdown",
      "source": [
        "좌표 압축\n",
        "* N 개의 좌표가 있을 때 좌표 압축을 적용하여 대소 관계만을 출력"
      ],
      "metadata": {
        "id": "SN_n8bwTgH3p"
      }
    },
    {
      "cell_type": "code",
      "source": [
        "n = int(input())\n",
        "arr = list(map(int, input().split()))\n",
        "arr_sort = sorted(set(arr))\n",
        "dic = {arr_sort[i]:i for i in range(len(arr_sort))}\n",
        "for i in arr:\n",
        "  print(dic[i], end = ' ')\n",
        "\n",
        "# Success! Using Dictionary instead of list.index()"
      ],
      "metadata": {
        "colab": {
          "base_uri": "https://localhost:8080/"
        },
        "id": "YUSs6u4le16n",
        "outputId": "a03dd144-b696-4484-fea1-e6cdf5ba5fbc"
      },
      "execution_count": null,
      "outputs": [
        {
          "output_type": "stream",
          "name": "stdout",
          "text": [
            "5\n",
            "2 4 -10 4 -9\n",
            "2 3 0 3 1 "
          ]
        }
      ]
    },
    {
      "cell_type": "code",
      "source": [
        "n = int(input())\n",
        "arr = list(map(int, input().split()))\n",
        "arr_sort = sorted(set(arr))\n",
        "for i in arr:\n",
        "    print(arr_sort.index(i), end = ' ')\n",
        "\n",
        "# 시간 초과"
      ],
      "metadata": {
        "colab": {
          "base_uri": "https://localhost:8080/"
        },
        "id": "O78NjGVoeTlJ",
        "outputId": "b09d28fb-8366-4f07-a980-8b6a54e194dd"
      },
      "execution_count": null,
      "outputs": [
        {
          "output_type": "stream",
          "name": "stdout",
          "text": [
            "5\n",
            "2 4 -10 4 -9\n",
            "2 3 0 3 1 "
          ]
        }
      ]
    },
    {
      "cell_type": "code",
      "execution_count": null,
      "metadata": {
        "colab": {
          "base_uri": "https://localhost:8080/"
        },
        "id": "y9hTnrKlbBNZ",
        "outputId": "68377cad-5085-493e-d9b3-2cc4c0bb58a2"
      },
      "outputs": [
        {
          "output_type": "stream",
          "name": "stdout",
          "text": [
            "[2, 3, 0, 3, 1]\n",
            "{-10: 0, -9: 1, 2: 2, 4: 3}\n",
            "2 3 0 3 1 "
          ]
        }
      ],
      "source": [
        "# Test Case 1\n",
        "\n",
        "coord = [2, 4, -10, 4, -9]\n",
        "coord_sort = sorted(set(coord))\n",
        "idx = [coord_sort.index(i) for i in coord]\n",
        "print(idx)"
      ]
    },
    {
      "cell_type": "code",
      "source": [
        "# Test Case 2\n",
        "coord = [1000, 999, 1000, 999, 1000, 999]\n",
        "coord_sort = sorted(set(coord))\n",
        "idx = [coord_sort.index(i) for i in coord]\n",
        "print(idx)"
      ],
      "metadata": {
        "colab": {
          "base_uri": "https://localhost:8080/"
        },
        "id": "R2vIlixzdPBJ",
        "outputId": "cdbd04ac-cb9a-4b07-ad87-acdb0b782152"
      },
      "execution_count": null,
      "outputs": [
        {
          "output_type": "stream",
          "name": "stdout",
          "text": [
            "[1, 0, 1, 0, 1, 0]\n"
          ]
        }
      ]
    }
  ]
}