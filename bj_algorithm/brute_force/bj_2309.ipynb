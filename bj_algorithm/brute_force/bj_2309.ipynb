{
  "nbformat": 4,
  "nbformat_minor": 0,
  "metadata": {
    "colab": {
      "name": "brute_force_2",
      "provenance": [],
      "authorship_tag": "ABX9TyMJFmIchzOU0oJIuCeThsxA"
    },
    "kernelspec": {
      "name": "python3",
      "display_name": "Python 3"
    },
    "language_info": {
      "name": "python"
    }
  },
  "cells": [
    {
      "cell_type": "code",
      "execution_count": 3,
      "metadata": {
        "colab": {
          "base_uri": "https://localhost:8080/"
        },
        "id": "2DOwsgB0OGnn",
        "outputId": "47f9fae7-56d6-4da2-e779-ab61a8176c04"
      },
      "outputs": [
        {
          "output_type": "stream",
          "name": "stdout",
          "text": [
            "Snow White's Dwarf\n",
            " 7\n",
            "Snow White's Dwarf\n",
            " 8\n",
            "Snow White's Dwarf\n",
            " 10\n",
            "Snow White's Dwarf\n",
            " 13\n",
            "Snow White's Dwarf\n",
            " 19\n",
            "Snow White's Dwarf\n",
            " 20\n",
            "Snow White's Dwarf\n",
            " 23\n"
          ]
        }
      ],
      "source": [
        "# 일곱 난쟁이 \n",
        "\n",
        "from itertools import combinations\n",
        "\n",
        "#heights = [int(input()) for i in range(9)]\n",
        "heights = [20, 7, 23, 19, 10, 15, 25, 8, 13] # Test Case\n",
        "\n",
        "height_lists = list(combinations(heights, 7))\n",
        "\n",
        "for i in range(len(height_lists)):\n",
        "    if sum(height_lists[i]) == 100:\n",
        "        dwarfs = height_lists[i]\n",
        "        break\n",
        "\n",
        "dwarfs = sorted(dwarfs)\n",
        "\n",
        "for dwarf in dwarfs:\n",
        "    print(\"Snow White's Dwarf\\n\",\n",
        "          dwarf)"
      ]
    }
  ]
}
