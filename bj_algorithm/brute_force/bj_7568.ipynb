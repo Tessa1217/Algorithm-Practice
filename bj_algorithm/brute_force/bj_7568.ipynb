{
  "nbformat": 4,
  "nbformat_minor": 0,
  "metadata": {
    "colab": {
      "name": "bj_7568",
      "provenance": [],
      "collapsed_sections": [],
      "authorship_tag": "ABX9TyMte0SCMSrxsbsygoWQ0Nh7"
    },
    "kernelspec": {
      "name": "python3",
      "display_name": "Python 3"
    },
    "language_info": {
      "name": "python"
    }
  },
  "cells": [
    {
      "cell_type": "markdown",
      "source": [
        "덩치\n",
        "- 덩치 = (x kg, y cm)\n",
        "- 만약 두 사람의 덩치가 (x, y), (p, q)라고 가정할 때 x > p 그리고 y > q라면 덩치가 더 큼"
      ],
      "metadata": {
        "id": "xzcMaD4PJEY8"
      }
    },
    {
      "cell_type": "code",
      "execution_count": 2,
      "metadata": {
        "colab": {
          "base_uri": "https://localhost:8080/"
        },
        "id": "DmJKVtS2Gjhv",
        "outputId": "af0e38c3-a11e-42cd-842e-14227b753064"
      },
      "outputs": [
        {
          "output_type": "stream",
          "name": "stdout",
          "text": [
            "5\n",
            "55 185\n",
            "58 183\n",
            "88 186\n",
            "60 175\n",
            "46 155\n",
            "2 2 1 2 5 "
          ]
        }
      ],
      "source": [
        "n = int(input())\n",
        "weight_height = [list(map(int, input().split())) for i in range(n)]\n",
        "rank = [0 for i in range(n)]\n",
        "\n",
        "for i in range(n):\n",
        "  cnt = 1\n",
        "  for j in range(n):\n",
        "    if i == j:\n",
        "      continue \n",
        "    if weight_height[i][0] < weight_height[j][0] and weight_height [i][1] < weight_height[j][1]:\n",
        "      cnt += 1\n",
        "  rank[i] += cnt\n",
        "\n",
        "for i in rank:\n",
        "  print(i, end=' ')"
      ]
    }
  ]
}
