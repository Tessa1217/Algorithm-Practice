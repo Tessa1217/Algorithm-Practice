{
  "nbformat": 4,
  "nbformat_minor": 0,
  "metadata": {
    "colab": {
      "name": "bj_2231",
      "provenance": [],
      "collapsed_sections": [],
      "authorship_tag": "ABX9TyO6YyA3zgHOh+k+/pNSoAee"
    },
    "kernelspec": {
      "name": "python3",
      "display_name": "Python 3"
    },
    "language_info": {
      "name": "python"
    }
  },
  "cells": [
    {
      "cell_type": "markdown",
      "source": [
        "분해합\n",
        "- M의 분해합이 N인 경우 M은 N의 생성자\n",
        "- N = 256, M = 245\n",
        "- 256 + 2 + 4 + 5 = 256"
      ],
      "metadata": {
        "id": "XWUM9k0nEIJl"
      }
    },
    {
      "cell_type": "code",
      "source": [
        "n = int(input())\n",
        "g = 1\n",
        "while True: \n",
        "  if g + sum([int(x) for x in str(g)]) == n:\n",
        "    print(g)\n",
        "    break\n",
        "  if g == n:\n",
        "    print(0)\n",
        "    break\n",
        "  g += 1"
      ],
      "metadata": {
        "colab": {
          "base_uri": "https://localhost:8080/"
        },
        "id": "SUD9vEJCIZFk",
        "outputId": "a915953d-0491-4022-e3ce-928b96d9e7b5"
      },
      "execution_count": null,
      "outputs": [
        {
          "output_type": "stream",
          "name": "stdout",
          "text": [
            "1\n",
            "0\n"
          ]
        }
      ]
    },
    {
      "cell_type": "code",
      "source": [
        "# Test Case 2\n",
        "n = 216\n",
        "g = 1\n",
        "while True: \n",
        "  if g + sum([int(x) for x in str(g)]) == n:\n",
        "    print(g)\n",
        "    break\n",
        "  if g == n:\n",
        "    print(0)\n",
        "  g += 1"
      ],
      "metadata": {
        "colab": {
          "base_uri": "https://localhost:8080/"
        },
        "id": "yz3MAqVOFtWk",
        "outputId": "3d384af0-5c7f-4774-f25a-43807387f478"
      },
      "execution_count": null,
      "outputs": [
        {
          "output_type": "stream",
          "name": "stdout",
          "text": [
            "198\n"
          ]
        }
      ]
    },
    {
      "cell_type": "code",
      "execution_count": null,
      "metadata": {
        "colab": {
          "base_uri": "https://localhost:8080/"
        },
        "id": "61GQHwNCEGJ5",
        "outputId": "2ee05801-6829-4e12-c698-316c2117d1a6"
      },
      "outputs": [
        {
          "output_type": "stream",
          "name": "stdout",
          "text": [
            "198\n",
            "207\n"
          ]
        }
      ],
      "source": [
        "# Test Case 1\n",
        "N = 216\n",
        "for i in range(0, 10):\n",
        "  for j in range(0, 10):\n",
        "    for k in range(0, 10):\n",
        "      if int(str(i)+str(j)+str(k)) + i + j + k == N:\n",
        "        print(int(str(i)+str(j)+str(k)))"
      ]
    }
  ]
}
