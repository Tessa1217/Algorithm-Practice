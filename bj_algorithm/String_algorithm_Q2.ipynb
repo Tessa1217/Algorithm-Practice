{
  "nbformat": 4,
  "nbformat_minor": 0,
  "metadata": {
    "colab": {
      "name": "String_algorithm_Q2",
      "provenance": [],
      "authorship_tag": "ABX9TyPrypRfO++GOMQeorE7pCPk"
    },
    "kernelspec": {
      "name": "python3",
      "display_name": "Python 3"
    },
    "language_info": {
      "name": "python"
    }
  },
  "cells": [
    {
      "cell_type": "code",
      "execution_count": 7,
      "metadata": {
        "colab": {
          "base_uri": "https://localhost:8080/"
        },
        "id": "GTtKwWFbK8sQ",
        "outputId": "56dade99-1ed2-4075-eb94-1e6cf12f7459"
      },
      "outputs": [
        {
          "output_type": "stream",
          "name": "stdout",
          "text": [
            "780\n",
            "956.0\n",
            "1000\n",
            "780 956\n"
          ]
        }
      ],
      "source": [
        "# 20492\n",
        "\n",
        "n = int(input())\n",
        "p1 = int(n*(1-0.22))\n",
        "p2 = int((n*(0.8)) + (n*0.2*(1-0.22)))\n",
        "print(p1, p2)"
      ]
    },
    {
      "cell_type": "code",
      "source": [
        "# 2908\n",
        "a, b = map(int, input().split())\n",
        "a = str(a)[::-1]\n",
        "b = str(b)[::-1]\n",
        "if int(a) > int(b):\n",
        "  print(a)\n",
        "else:\n",
        "  print(b)"
      ],
      "metadata": {
        "colab": {
          "base_uri": "https://localhost:8080/"
        },
        "id": "6P1LoiJAOSYb",
        "outputId": "e5f1583f-cd34-4d5e-8d07-24b4f0cbdbaa"
      },
      "execution_count": 12,
      "outputs": [
        {
          "output_type": "stream",
          "name": "stdout",
          "text": [
            "734 893\n",
            "437\n"
          ]
        }
      ]
    },
    {
      "cell_type": "code",
      "source": [
        "#2941\n",
        "croatia = ['c=', 'c-', 'dz=', 'd-', 'lj', 'nj', 's=', 'z=']\n",
        "word = input()\n",
        "for c in croatia:\n",
        "  word = word.replace(c, '-')\n",
        "print(len(word))"
      ],
      "metadata": {
        "colab": {
          "base_uri": "https://localhost:8080/"
        },
        "id": "Uiy1OZ-FRHQD",
        "outputId": "4de50b61-451a-4978-cb29-45b497df1f72"
      },
      "execution_count": 37,
      "outputs": [
        {
          "output_type": "stream",
          "name": "stdout",
          "text": [
            "ddz=dz=\n",
            "2\n"
          ]
        }
      ]
    }
  ]
}
