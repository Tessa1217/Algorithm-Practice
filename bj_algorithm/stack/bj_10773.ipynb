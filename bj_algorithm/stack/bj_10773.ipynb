{
  "nbformat": 4,
  "nbformat_minor": 0,
  "metadata": {
    "colab": {
      "name": "bj_10773",
      "provenance": [],
      "collapsed_sections": [],
      "authorship_tag": "ABX9TyORxQtJmlyCQYx8MTfDmpFK"
    },
    "kernelspec": {
      "name": "python3",
      "display_name": "Python 3"
    },
    "language_info": {
      "name": "python"
    }
  },
  "cells": [
    {
      "cell_type": "markdown",
      "source": [
        "제로\n",
        "* if number == 0: delete the latest number (there's always a number to remove when number == 0)\n",
        "* if number != 0: sum += number \n",
        "* print(sum(number))"
      ],
      "metadata": {
        "id": "bWgyA-DZGz_0"
      }
    },
    {
      "cell_type": "code",
      "source": [
        "import sys\n",
        "sums = 0\n",
        "money = []\n",
        "n = int(sys.stdin.readline())\n",
        "for _ in range(n):\n",
        "  a = int(sys.stdin.readline())\n",
        "  if a == 0:\n",
        "    sums -= money.pop(-1)\n",
        "  else:\n",
        "    money.append(a)\n",
        "    sums += a\n",
        "print(sums)\n",
        "\n",
        "# Time = 124 ms"
      ],
      "metadata": {
        "id": "pCKKgl98Gtn8"
      },
      "execution_count": null,
      "outputs": []
    },
    {
      "cell_type": "code",
      "source": [
        "import sys\n",
        "money = []\n",
        "n = int(sys.stdin.readline())\n",
        "for _ in range(n):\n",
        "  a = int(sys.stdin.readline())\n",
        "  if a == 0:\n",
        "    money.pop(-1)\n",
        "  else:\n",
        "    money.append(a)\n",
        "print(sum(money))\n",
        "\n",
        "# Time = 128ms"
      ],
      "metadata": {
        "id": "vXQHo-n9Fotx"
      },
      "execution_count": null,
      "outputs": []
    },
    {
      "cell_type": "code",
      "source": [
        "sums = 0\n",
        "money = []\n",
        "n = int(input())\n",
        "for _ in range(n):\n",
        "  a = int(input())\n",
        "  if a == 0:\n",
        "    sums -= money.pop(-1)\n",
        "  else:\n",
        "    money.append(a)\n",
        "    sums += a\n",
        "print(sums)"
      ],
      "metadata": {
        "colab": {
          "base_uri": "https://localhost:8080/"
        },
        "id": "C4IWlFKQGBig",
        "outputId": "c6cba027-1392-468a-f26d-3aa45d753aa3"
      },
      "execution_count": null,
      "outputs": [
        {
          "output_type": "stream",
          "name": "stdout",
          "text": [
            "10\n",
            "1\n",
            "3\n",
            "5\n",
            "4\n",
            "0\n",
            "0\n",
            "7\n",
            "0\n",
            "0\n",
            "6\n",
            "7\n"
          ]
        }
      ]
    },
    {
      "cell_type": "code",
      "execution_count": null,
      "metadata": {
        "colab": {
          "base_uri": "https://localhost:8080/"
        },
        "id": "TZ5baFq0EBsm",
        "outputId": "4a4cbf61-569f-4437-e244-2b257e970d7d"
      },
      "outputs": [
        {
          "output_type": "stream",
          "name": "stdout",
          "text": [
            "10\n",
            "1\n",
            "3\n",
            "5\n",
            "4\n",
            "0\n",
            "0\n",
            "7\n",
            "0\n",
            "0\n",
            "6\n",
            "7\n"
          ]
        }
      ],
      "source": [
        "money = []\n",
        "n = int(input())\n",
        "for _ in range(n):\n",
        "  a = int(input())\n",
        "  if a == 0:\n",
        "    money.pop(-1)\n",
        "  else:\n",
        "    money.append(a)\n",
        "print(sum(money))\n",
        "\n",
        "# Time = 3996 ms"
      ]
    }
  ]
}
