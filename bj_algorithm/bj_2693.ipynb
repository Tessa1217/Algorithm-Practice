{
  "nbformat": 4,
  "nbformat_minor": 0,
  "metadata": {
    "colab": {
      "name": "bj_2693",
      "provenance": [],
      "collapsed_sections": [],
      "authorship_tag": "ABX9TyOdN3U7pRLenm2hq7m3zJSp"
    },
    "kernelspec": {
      "name": "python3",
      "display_name": "Python 3"
    },
    "language_info": {
      "name": "python"
    }
  },
  "cells": [
    {
      "cell_type": "markdown",
      "source": [
        "N번째 큰 수\n",
        "* 배열 A가 주어짐. 크기는 항상 10번째.\n",
        "* N이 주어지고 배열 A에서 N번째 큰 값을 출력. N은 항상 3이다."
      ],
      "metadata": {
        "id": "yMz8xkn8ihiW"
      }
    },
    {
      "cell_type": "code",
      "execution_count": null,
      "metadata": {
        "id": "uFzfh7uZifDz"
      },
      "outputs": [],
      "source": [
        "test_case = int(input())\n",
        "for test in range(test_case):\n",
        "  array = list(map(int, input().split()))\n",
        "  array.sort()\n",
        "  print(array[-3])"
      ]
    }
  ]
}