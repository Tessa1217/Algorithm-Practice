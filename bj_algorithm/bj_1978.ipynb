{
  "nbformat": 4,
  "nbformat_minor": 0,
  "metadata": {
    "colab": {
      "name": "bj_1978",
      "provenance": [],
      "authorship_tag": "ABX9TyMcDh5Jtn8iYLZ8dGBnmb4c"
    },
    "kernelspec": {
      "name": "python3",
      "display_name": "Python 3"
    },
    "language_info": {
      "name": "python"
    }
  },
  "cells": [
    {
      "cell_type": "code",
      "execution_count": 13,
      "metadata": {
        "colab": {
          "base_uri": "https://localhost:8080/"
        },
        "id": "BAwMHDBfwhA4",
        "outputId": "326679b4-495c-412d-8aaa-1c4724ec177e"
      },
      "outputs": [
        {
          "output_type": "stream",
          "name": "stdout",
          "text": [
            "True\n",
            "False\n",
            "True\n",
            "False\n"
          ]
        }
      ],
      "source": [
        "# Prime Number - 소수 판별법\n",
        "\n",
        "n = 3\n",
        "\n",
        "def prime(n):\n",
        "  if n == 1:\n",
        "    return False\n",
        "  for i in range(2, int(n**0.5)+1):\n",
        "    if n%i == 0:\n",
        "      return False \n",
        "  return True\n",
        "\n",
        "n1 = 3\n",
        "print(prime(n))\n",
        "\n",
        "n2 = 4\n",
        "print(prime(n2))\n",
        "\n",
        "n3 = 2\n",
        "print(prime(n3))\n",
        "\n",
        "n4 = 1\n",
        "print(prime(n4))"
      ]
    },
    {
      "cell_type": "code",
      "source": [
        "N = int(input())\n",
        "numbers = map(int, input().split())\n",
        "prime = []\n",
        "\n",
        "for num in numbers:\n",
        "  cnt = 0\n",
        "  if num > 1:\n",
        "    for i in range(2, int(num**0.5)+1):\n",
        "      if num%i == 0:\n",
        "        cnt += 1 \n",
        "    if cnt == 0:\n",
        "      prime.append(num)\n",
        "print(prime)"
      ],
      "metadata": {
        "colab": {
          "base_uri": "https://localhost:8080/"
        },
        "id": "wrR_2cMhy-tB",
        "outputId": "a0401ea9-c8a2-4cec-8984-640c15850cad"
      },
      "execution_count": 18,
      "outputs": [
        {
          "output_type": "stream",
          "name": "stdout",
          "text": [
            "4\n",
            "1 2 3 4\n",
            "[2, 3]\n"
          ]
        }
      ]
    }
  ]
}