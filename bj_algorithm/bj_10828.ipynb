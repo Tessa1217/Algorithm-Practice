{
  "nbformat": 4,
  "nbformat_minor": 0,
  "metadata": {
    "colab": {
      "name": "bj_10828",
      "provenance": [],
      "collapsed_sections": [],
      "authorship_tag": "ABX9TyPrN8/PtewL9XqJI37pcy3L"
    },
    "kernelspec": {
      "name": "python3",
      "display_name": "Python 3"
    },
    "language_info": {
      "name": "python"
    }
  },
  "cells": [
    {
      "cell_type": "markdown",
      "source": [
        "스택\n",
        "* 스택 구현하기"
      ],
      "metadata": {
        "id": "zUpFOzncC7Kh"
      }
    },
    {
      "cell_type": "code",
      "source": [
        "import sys\n",
        "stk = []\n",
        "n = int(sys.stdin.readline())\n",
        "for _ in range(n):\n",
        "  order = sys.stdin.readline().split()\n",
        "  if order[0] == 'push':\n",
        "    stk.append(order[1])\n",
        "  elif order[0] == 'top':\n",
        "    if len(stk) > 0:\n",
        "      print(stk[-1])\n",
        "    else:\n",
        "      print(-1)\n",
        "  elif order[0] == 'size':\n",
        "    if len(stk) <= 0:\n",
        "      print(0)\n",
        "    else:\n",
        "      print(len(stk))\n",
        "  elif order[0] == 'pop':\n",
        "    if len(stk) > 0:\n",
        "      print(stk.pop(-1))\n",
        "    else:\n",
        "      print(-1)\n",
        "  elif order[0] == 'empty':\n",
        "    if len(stk) != 0:\n",
        "      print(0)\n",
        "    else: \n",
        "      print(1)"
      ],
      "metadata": {
        "id": "8y0jxq1yCK8R"
      },
      "execution_count": null,
      "outputs": []
    },
    {
      "cell_type": "code",
      "execution_count": null,
      "metadata": {
        "colab": {
          "base_uri": "https://localhost:8080/"
        },
        "id": "XVWTnqvL78DH",
        "outputId": "37d172e2-9cca-4255-8b51-eebc69b23437"
      },
      "outputs": [
        {
          "output_type": "stream",
          "name": "stdout",
          "text": [
            "14\n",
            "push 1\n",
            "push 2\n",
            "top\n",
            "2\n",
            "size\n",
            "2\n",
            "empty\n",
            "0\n",
            "pop\n",
            "2\n",
            "pop\n",
            "1\n",
            "pop\n",
            "-1\n",
            "size\n",
            "0\n",
            "empty\n",
            "1\n",
            "pop\n",
            "-1\n",
            "push 3\n",
            "empty\n",
            "0\n",
            "top\n",
            "3\n"
          ]
        }
      ],
      "source": [
        "import re\n",
        "stk = []\n",
        "n = int(input())\n",
        "for _ in range(n):\n",
        "  order = str(input())\n",
        "  if 'push' in order:\n",
        "    stk.append(re.sub(r'[^0-9]','',order)) # push number\n",
        "  elif 'top' in order: # print the latest(last number in) number\n",
        "    if len(stk) > 0:\n",
        "      print(stk[-1])\n",
        "    else:\n",
        "      print(-1) # if the stack is empty, print -1\n",
        "  elif 'size' in order: # print the size of stack\n",
        "    if len(stk) <= 0:\n",
        "      print(0) # if the stack is empty, print 0\n",
        "    else:\n",
        "      print(len(stk))\n",
        "  elif 'pop' in order: # pop the latest number\n",
        "    if len(stk) > 0: \n",
        "      print(stk.pop(-1)) \n",
        "    else: \n",
        "      print(-1) # if the stack is empty, print -1\n",
        "  elif 'empty' in order: # whether the stack is empty or not\n",
        "    if len(stk) != 0: # if the stack is not empty, print 'False'\n",
        "      print(0) \n",
        "    else:\n",
        "      print(1) # if the stack is empty, print 'True'\n",
        "\n",
        "# 시간초과"
      ]
    },
    {
      "cell_type": "code",
      "source": [
        "import re\n",
        "stk = []\n",
        "n = int(input())\n",
        "for _ in range(n):\n",
        "  order = str(input())\n",
        "  if 'push' in order:\n",
        "    stk.append(re.sub(r'[^0-9]','',order))\n",
        "  elif 'top' in order:\n",
        "    if len(stk) > 0:\n",
        "      print(stk[-1])\n",
        "    else:\n",
        "      print(-1)\n",
        "  elif 'size' in order:\n",
        "    if len(stk) <= 0:\n",
        "      print(0)\n",
        "    else:\n",
        "      print(len(stk))\n",
        "  elif 'pop' in order: \n",
        "    if len(stk) > 0: \n",
        "      print(stk.pop(-1))\n",
        "    else: \n",
        "      print(-1)\n",
        "  elif 'empty' in order:\n",
        "    if len(stk) != 0: \n",
        "      print(0)\n",
        "    else:\n",
        "      print(1)"
      ],
      "metadata": {
        "colab": {
          "base_uri": "https://localhost:8080/"
        },
        "id": "I2RGkh-tCxXL",
        "outputId": "46b73b9b-76ad-4bed-8726-633941091798"
      },
      "execution_count": null,
      "outputs": [
        {
          "output_type": "stream",
          "name": "stdout",
          "text": [
            "7\n",
            "pop\n",
            "-1\n",
            "top\n",
            "-1\n",
            "push 123\n",
            "top\n",
            "123\n",
            "pop\n",
            "123\n",
            "top\n",
            "-1\n",
            "pop\n",
            "-1\n"
          ]
        }
      ]
    }
  ]
}