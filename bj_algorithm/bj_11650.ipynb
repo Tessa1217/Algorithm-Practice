{
  "nbformat": 4,
  "nbformat_minor": 0,
  "metadata": {
    "colab": {
      "name": "bj_11650",
      "provenance": [],
      "collapsed_sections": [],
      "authorship_tag": "ABX9TyM20MWtgzon+TtygP1Vozn8"
    },
    "kernelspec": {
      "name": "python3",
      "display_name": "Python 3"
    },
    "language_info": {
      "name": "python"
    }
  },
  "cells": [
    {
      "cell_type": "markdown",
      "source": [
        "좌표 정렬하기\n",
        "* x를 기준으로 순차적으로 정렬하기"
      ],
      "metadata": {
        "id": "ZfxFKTavMe0I"
      }
    },
    {
      "cell_type": "code",
      "execution_count": 1,
      "metadata": {
        "id": "dZdrVvCIMcne",
        "colab": {
          "base_uri": "https://localhost:8080/"
        },
        "outputId": "e9700b5b-ed5c-45f1-d9d8-d1c77b45e28c"
      },
      "outputs": [
        {
          "output_type": "stream",
          "name": "stdout",
          "text": [
            "5\n",
            "3 4\n",
            "1 1\n",
            "1 -1\n",
            "2 2\n",
            "3 3\n",
            "1 -1\n",
            "1 1\n",
            "2 2\n",
            "3 3\n",
            "3 4\n"
          ]
        }
      ],
      "source": [
        "# x를 기준으로 \n",
        "N = int(input())\n",
        "q = []\n",
        "for _ in range(N):\n",
        "  x, y = map(int, input().split())\n",
        "  q.append((x, y))\n",
        "q.sort()\n",
        "for i in q:\n",
        "  print(i[0], i[1])"
      ]
    }
  ]
}