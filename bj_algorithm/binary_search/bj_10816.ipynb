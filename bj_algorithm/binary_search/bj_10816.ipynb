{
  "nbformat": 4,
  "nbformat_minor": 0,
  "metadata": {
    "colab": {
      "name": "bj_10816",
      "provenance": [],
      "collapsed_sections": [],
      "authorship_tag": "ABX9TyPa0Xr5bLzdgCeGfOEcq8oA"
    },
    "kernelspec": {
      "name": "python3",
      "display_name": "Python 3"
    },
    "language_info": {
      "name": "python"
    }
  },
  "cells": [
    {
      "cell_type": "markdown",
      "source": [
        "숫자 카드 2\n",
        "- 첫째 줄에 A가 가지고 있는 카드가, 둘째 줄에는 A가 몇 개 가지고 있는 숫자 카드인지 구해야 하는 카드가 주어질 때 각 수가 적힌 숫자 카드를 상근이가 몇 개 가지고 있는지를 공백으로 구분해 출력한다. \n",
        "- 중복값이 존재한다 -> 같은 값이 많을 경우 이분 탐색으로 탐색하였을 때 최악의 경우 전체 탐색을 하게되어 시간복잡도가 크게 증가한다. (N * logN)에서 N의 수가 굉장히 클 경우 시간복잡도가 크게 증가한다.\n",
        "- 따라서 N을 1회 선형탐색하여 딕셔너리에 저장해놓고, target을 키 값으로 인덱싱할 경우 O(1)의 시간복잡도가 된다. "
      ],
      "metadata": {
        "id": "Led7p-d6mAIB"
      }
    },
    {
      "cell_type": "code",
      "source": [
        "n = int(input())\n",
        "n_list = list(map(int, input().split()))\n",
        "m = int(input())\n",
        "m_list = list(map(int, input().split()))\n",
        "dic = {}\n",
        "\n",
        "for i in n_list:\n",
        "  if i in dic:\n",
        "    dic[i] += 1\n",
        "  else: dic[i] = 1\n",
        "\n",
        "for i in m_list: \n",
        "  if i in dic: \n",
        "    print(dic[i], end = ' ')\n",
        "  else: print(0, end = ' ')"
      ],
      "metadata": {
        "colab": {
          "base_uri": "https://localhost:8080/"
        },
        "id": "ag1fme9Hkx2C",
        "outputId": "c45cf4a6-2bb5-4302-ae02-48a52819ef6e"
      },
      "execution_count": null,
      "outputs": [
        {
          "output_type": "stream",
          "name": "stdout",
          "text": [
            "10\n",
            "6 3 2 10 10 10 -10 -10 7 3\n",
            "8\n",
            "10 9 -5 2 3 4 5 -10\n",
            "3 0 0 1 2 0 0 2 "
          ]
        }
      ]
    },
    {
      "cell_type": "code",
      "execution_count": null,
      "metadata": {
        "colab": {
          "base_uri": "https://localhost:8080/"
        },
        "id": "BcvfaZJt6y77",
        "outputId": "185b372b-0706-4876-bd83-421ddab48a3b"
      },
      "outputs": [
        {
          "output_type": "stream",
          "name": "stdout",
          "text": [
            "10\n",
            "6 3 2 10 10 10 -10 -10 7 3\n",
            "8\n",
            "10 9 -5 2 3 4 5 -10\n",
            "3 0 0 1 2 0 0 2 "
          ]
        }
      ],
      "source": [
        "n = int(input())\n",
        "n_list = list(map(int, input().split()))\n",
        "n_list.sort()\n",
        "m = int(input())\n",
        "m_list = list(map(int, input().split()))\n",
        "\n",
        "def bin(target, num_list, left = 0, right = None):\n",
        "  if right == None:\n",
        "    right = len(num_list) - 1\n",
        "  if left > right:\n",
        "    return 0\n",
        "  \n",
        "  mid = (left+right)//2\n",
        "\n",
        "  if target == num_list[mid]:\n",
        "    x, y = 1, 1\n",
        "    while mid - x >= left: \n",
        "      if num_list[mid-x] != num_list[mid]:\n",
        "        break \n",
        "      else: x += 1\n",
        "    while mid + y <= right:\n",
        "      if num_list[mid+y] != num_list[mid]:\n",
        "        break\n",
        "      else: y += 1\n",
        "    return x + y - 1\n",
        "  elif target < num_list[mid]:\n",
        "    right = mid - 1\n",
        "  else: left = mid + 1\n",
        "  return bin(target, num_list, left, right)\n",
        "\n",
        "for i in m_list:\n",
        "  print(bin(i, n_list), end = ' ')"
      ]
    }
  ]
}