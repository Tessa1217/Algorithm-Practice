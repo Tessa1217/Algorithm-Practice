{
  "nbformat": 4,
  "nbformat_minor": 0,
  "metadata": {
    "colab": {
      "name": "bj_1654",
      "provenance": [],
      "authorship_tag": "ABX9TyOI2ULBztl02b7fghehcV/d"
    },
    "kernelspec": {
      "name": "python3",
      "display_name": "Python 3"
    },
    "language_info": {
      "name": "python"
    }
  },
  "cells": [
    {
      "cell_type": "markdown",
      "source": [
        "랜선 자르기\n",
        "\n",
        "* parametric search algorithm"
      ],
      "metadata": {
        "id": "LyBwoHuz2c3c"
      }
    },
    {
      "cell_type": "code",
      "source": [
        "k, n = map(int, input().split())\n",
        "data = [int(input()) for i in range(k)]\n",
        "\n",
        "left, right = 1, max(data)\n",
        "\n",
        "while left <= right:\n",
        "  mid = (left+right)//2\n",
        "  total = 0\n",
        "\n",
        "  for i in data:\n",
        "    total += i//mid \n",
        "  \n",
        "  if total >= n:\n",
        "    left = mid + 1\n",
        "    result = mid\n",
        "  \n",
        "  else: \n",
        "    right = mid - 1 \n",
        "\n",
        "print(result)"
      ],
      "metadata": {
        "colab": {
          "base_uri": "https://localhost:8080/"
        },
        "id": "dGQ_grou2vsX",
        "outputId": "f522134c-d690-46e6-c75a-e05c8ac9b201"
      },
      "execution_count": 2,
      "outputs": [
        {
          "output_type": "stream",
          "name": "stdout",
          "text": [
            "4 11\n",
            "802\n",
            "743\n",
            "457\n",
            "539\n",
            "200\n"
          ]
        }
      ]
    },
    {
      "cell_type": "code",
      "execution_count": 1,
      "metadata": {
        "colab": {
          "base_uri": "https://localhost:8080/"
        },
        "id": "lhd7BXgF2cDX",
        "outputId": "ed8cea07-3b0a-4b7c-9d62-8f19bfc85802"
      },
      "outputs": [
        {
          "output_type": "stream",
          "name": "stdout",
          "text": [
            "200\n"
          ]
        }
      ],
      "source": [
        "# Test Case 1\n",
        "\n",
        "k, n = 4, 11\n",
        "data = [802, 743, 457, 539]\n",
        "\n",
        "left, right = 1, max(data)\n",
        "result = 0\n",
        "\n",
        "while left <= right:\n",
        "  mid = (left+right)//2\n",
        "  total = 0\n",
        "\n",
        "  for i in data:\n",
        "    total += i//mid\n",
        "  \n",
        "  if total >= n:\n",
        "    left = mid + 1\n",
        "    result = mid\n",
        "  \n",
        "  else:\n",
        "    right = mid - 1\n",
        "\n",
        "print(result)"
      ]
    }
  ]
}
