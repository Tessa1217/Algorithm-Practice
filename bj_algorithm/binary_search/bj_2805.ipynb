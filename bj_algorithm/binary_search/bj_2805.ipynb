{
  "nbformat": 4,
  "nbformat_minor": 0,
  "metadata": {
    "colab": {
      "name": "bj_2805 ",
      "provenance": [],
      "collapsed_sections": [],
      "authorship_tag": "ABX9TyNY3ty61uXZbXqDC7rNKikP"
    },
    "kernelspec": {
      "name": "python3",
      "display_name": "Python 3"
    },
    "language_info": {
      "name": "python"
    }
  },
  "cells": [
    {
      "cell_type": "markdown",
      "source": [
        "나무 자르기\n",
        "* parametric search "
      ],
      "metadata": {
        "id": "fgWoD4ZY-QO8"
      }
    },
    {
      "cell_type": "code",
      "execution_count": null,
      "metadata": {
        "colab": {
          "base_uri": "https://localhost:8080/"
        },
        "id": "i-bMegTu9vO-",
        "outputId": "da037eae-1ba7-4e16-951e-b2e972f42ba7"
      },
      "outputs": [
        {
          "output_type": "stream",
          "name": "stdout",
          "text": [
            "4 7\n",
            "20 15 10 17\n",
            "15\n"
          ]
        }
      ],
      "source": [
        "n, m = map(int, input().split())\n",
        "tree = list(map(int, input().split()))\n",
        "\n",
        "left, right = 1, max(tree)\n",
        "t_max = 0\n",
        "\n",
        "while left <= right:\n",
        "  total = 0\n",
        "  mid = (left+right)//2\n",
        "\n",
        "  for i in tree:\n",
        "    if i >= mid:\n",
        "      total += (i-mid)\n",
        "  \n",
        "  if total >= m:\n",
        "    left = mid + 1\n",
        "    t_max = mid\n",
        "  \n",
        "  else:\n",
        "    right = mid - 1\n",
        "\n",
        "print(t_max)"
      ]
    },
    {
      "cell_type": "code",
      "source": [
        "# Test Case 1\n",
        "\n",
        "n, m = 5, 20\n",
        "tree = [4, 42, 40, 26, 46]\n",
        "\n",
        "left, right = 1, max(tree)\n",
        "t_max = 0\n",
        "\n",
        "while left <= right:\n",
        "    total = 0\n",
        "    mid = (left+right)//2\n",
        "\n",
        "    for i in tree:\n",
        "        if i >= mid: \n",
        "            total += (i - mid) \n",
        "    \n",
        "    if total >= m:\n",
        "        left = mid + 1\n",
        "        t_max = mid \n",
        "    else:\n",
        "        right = mid - 1\n",
        "\n",
        "print(t_max)"
      ],
      "metadata": {
        "colab": {
          "base_uri": "https://localhost:8080/"
        },
        "id": "AHCYq3sn-ADk",
        "outputId": "ddcdeaf4-80b7-45cc-e66a-4d31c8437b25"
      },
      "execution_count": null,
      "outputs": [
        {
          "output_type": "stream",
          "name": "stdout",
          "text": [
            "36\n"
          ]
        }
      ]
    }
  ]
}