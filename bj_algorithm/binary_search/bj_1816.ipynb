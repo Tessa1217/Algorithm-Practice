{
  "nbformat": 4,
  "nbformat_minor": 0,
  "metadata": {
    "colab": {
      "name": "bj_1816 ",
      "provenance": [],
      "authorship_tag": "ABX9TyON6lOhto55wpjKcYgaYfbh"
    },
    "kernelspec": {
      "name": "python3",
      "display_name": "Python 3"
    },
    "language_info": {
      "name": "python"
    }
  },
  "cells": [
    {
      "cell_type": "markdown",
      "source": [
        "수 찾기\n",
        "*   N과 M이 주어지고 N, M개만큼 요소가 주어진다.\n",
        "*   M 리스트의 요소가 N 리스트 안에 있을 경우 1을, 없을 경우 0을 출력한다"
      ],
      "metadata": {
        "id": "VCg-t5SF2goL"
      }
    },
    {
      "cell_type": "code",
      "source": [
        "# Binary Search \n",
        "\n",
        "N = int(input())\n",
        "n = list(map(int, input().split()))\n",
        "n.sort()\n",
        "M = int(input())\n",
        "m = list(map(int, input().split()))\n",
        "\n",
        "def bin(target, num_list, left = 0, right = None):\n",
        "\n",
        "    if right == None:\n",
        "        right = len(num_list) - 1\n",
        "    if left > right:\n",
        "        return 0\n",
        "\n",
        "    mid = (left+right)//2\n",
        "    \n",
        "    if num_list[mid] == target:\n",
        "        return 1\n",
        "    elif num_list[mid] > target:\n",
        "        right = mid - 1\n",
        "    else: left = mid + 1\n",
        "\n",
        "    return bin(target, num_list, left, right)\n",
        "\n",
        "for i in m:\n",
        "    print(bin(i, n))"
      ],
      "metadata": {
        "colab": {
          "base_uri": "https://localhost:8080/"
        },
        "id": "h8wV__UOyUAB",
        "outputId": "4ce84523-3b0e-4557-dba7-124c2a337948"
      },
      "execution_count": 14,
      "outputs": [
        {
          "output_type": "stream",
          "name": "stdout",
          "text": [
            "5\n",
            "4 1 5 2 3\n",
            "5\n",
            "1 3 7 9 5\n",
            "1\n",
            "1\n",
            "0\n",
            "0\n",
            "1\n"
          ]
        }
      ]
    },
    {
      "cell_type": "code",
      "execution_count": 3,
      "metadata": {
        "colab": {
          "base_uri": "https://localhost:8080/"
        },
        "id": "AZ1U_vsok0Vt",
        "outputId": "a466f100-6245-42c0-cd64-bbc7bb9cbc19"
      },
      "outputs": [
        {
          "output_type": "stream",
          "name": "stdout",
          "text": [
            "[1, 1, 0, 0, 1]\n"
          ]
        }
      ],
      "source": [
        "# Test Case 1\n",
        "A = [4, 1, 5, 2, 3]\n",
        "B = [1, 3, 7, 9, 5]\n",
        "C = [0 for i in range(len(A))]\n",
        "for i in range(len(B)): \n",
        "  if B[i] in A:\n",
        "    C[i] += 1\n",
        "\n",
        "print(C) "
      ]
    },
    {
      "cell_type": "code",
      "source": [
        "N = int(input())\n",
        "n = list(map(int, input().split()))\n",
        "n.sort()\n",
        "M = int(input())\n",
        "m = list(map(int, input().split()))\n",
        "m.sort()\n",
        "\n",
        "C = [0 for i in range(len(m))]\n",
        "for i in range(len(m)):\n",
        "  if M[i] in N:\n",
        "    C[i] += 1\n",
        "\n",
        "for i in C:\n",
        "  print(i)\n",
        "\n",
        "# 시간 초과"
      ],
      "metadata": {
        "colab": {
          "base_uri": "https://localhost:8080/"
        },
        "id": "llS692ermuEs",
        "outputId": "21cf2af2-850b-4596-99e1-a9d556fce1b7"
      },
      "execution_count": 9,
      "outputs": [
        {
          "output_type": "stream",
          "name": "stdout",
          "text": [
            "5\n",
            "4 1 5 2 3\n",
            "5\n",
            "1 3 7 9 5\n",
            "[1, 3, 5, 7, 9]\n"
          ]
        }
      ]
    }
  ]
}