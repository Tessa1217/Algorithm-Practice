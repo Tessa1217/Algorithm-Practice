{
  "nbformat": 4,
  "nbformat_minor": 0,
  "metadata": {
    "colab": {
      "name": "bj_10815 ",
      "provenance": [],
      "collapsed_sections": [],
      "authorship_tag": "ABX9TyNU+rZfXKq6saSO/qmnuR8a"
    },
    "kernelspec": {
      "name": "python3",
      "display_name": "Python 3"
    },
    "language_info": {
      "name": "python"
    }
  },
  "cells": [
    {
      "cell_type": "markdown",
      "source": [
        "숫자 카드\n",
        "\n",
        "* A가 가진 카드 리스트(n)와 A가 가지고 있는 숫자 카드인지 아닌지를 구해야 할 카드 리스트(m)가 주어졌을 때 가지는 경우 1을, 아니면 0을 공백으로 구분해 출력한다. "
      ],
      "metadata": {
        "id": "5CK5jLER6eQz"
      }
    },
    {
      "cell_type": "code",
      "execution_count": null,
      "metadata": {
        "colab": {
          "base_uri": "https://localhost:8080/"
        },
        "id": "eE18-VrJ3hnd",
        "outputId": "0c2fb01c-f70f-4922-9e50-d40e1f16edb9"
      },
      "outputs": [
        {
          "output_type": "stream",
          "name": "stdout",
          "text": [
            "5\n",
            "6 3 2 10 -10\n",
            "8\n",
            "10 9 -5 2 3 4 5 -10\n",
            "1 0 0 1 1 0 0 1 "
          ]
        }
      ],
      "source": [
        "N = int(input())\n",
        "n = list(map(int, input().split()))\n",
        "n.sort()\n",
        "M = int(input())\n",
        "m = list(map(int, input().split()))\n",
        "\n",
        "def bin(target, num_list, left = 0, right = None):\n",
        "    if right == None:\n",
        "        right = len(num_list) - 1\n",
        "    if left > right:\n",
        "        return 0\n",
        "    mid = (left+right)//2\n",
        "    \n",
        "    if num_list[mid] == target:\n",
        "        return 1\n",
        "    elif num_list[mid] > target:\n",
        "        right = mid - 1\n",
        "    else: left = mid + 1\n",
        "    return bin(target, num_list, left, right)\n",
        "\n",
        "for i in m:\n",
        "    print(bin(i, n), end = ' ')"
      ]
    }
  ]
}
