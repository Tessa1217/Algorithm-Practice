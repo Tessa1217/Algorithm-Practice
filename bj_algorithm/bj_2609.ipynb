{
  "nbformat": 4,
  "nbformat_minor": 0,
  "metadata": {
    "colab": {
      "name": "bj_2609",
      "provenance": [],
      "collapsed_sections": [],
      "authorship_tag": "ABX9TyObS6HTzcbz0W9uI1ugZ6hE"
    },
    "kernelspec": {
      "name": "python3",
      "display_name": "Python 3"
    },
    "language_info": {
      "name": "python"
    }
  },
  "cells": [
    {
      "cell_type": "markdown",
      "source": [
        "최대공약수와 최소공배수"
      ],
      "metadata": {
        "id": "ImUF9MpvW7zL"
      }
    },
    {
      "cell_type": "code",
      "execution_count": null,
      "metadata": {
        "colab": {
          "base_uri": "https://localhost:8080/"
        },
        "id": "G-bDMqCMWgQR",
        "outputId": "17e21b07-76cd-40a2-d670-48d3c81fd3c6"
      },
      "outputs": [
        {
          "output_type": "stream",
          "name": "stdout",
          "text": [
            "6\n",
            "24\n"
          ]
        }
      ],
      "source": [
        "# Test Case 1\n",
        "\n",
        "a = 24\n",
        "b = 6\n",
        "\n",
        "def gcd(a, b):\n",
        "  while b > 0:\n",
        "    a, b = b, a%b \n",
        "  return a \n",
        "\n",
        "print(gcd(a, b))\n",
        "\n",
        "def lcm(a, b):\n",
        "  return int(a * b / gcd(a, b))\n",
        "\n",
        "print(lcm(a, b))"
      ]
    },
    {
      "cell_type": "code",
      "source": [
        "a, b = map(int, input().split(' '))\n",
        "\n",
        "mul = a * b \n",
        "\n",
        "while b > 0: \n",
        "  a, b = b, a%b\n",
        "\n",
        "print(a) #gcf\n",
        "\n",
        "print(int(mul/a)) # lcm"
      ],
      "metadata": {
        "colab": {
          "base_uri": "https://localhost:8080/"
        },
        "id": "ubHHGo4Fg1zt",
        "outputId": "d6b386f6-e374-4ffd-bef9-40a5b616a560"
      },
      "execution_count": null,
      "outputs": [
        {
          "output_type": "stream",
          "name": "stdout",
          "text": [
            "24 18\n",
            "6\n",
            "72\n"
          ]
        }
      ]
    }
  ]
}