{
  "nbformat": 4,
  "nbformat_minor": 0,
  "metadata": {
    "colab": {
      "name": "bj_2164 ",
      "provenance": [],
      "collapsed_sections": [],
      "authorship_tag": "ABX9TyP4JxywJgJPbB4zxweLtMJ0"
    },
    "kernelspec": {
      "name": "python3",
      "display_name": "Python 3"
    },
    "language_info": {
      "name": "python"
    }
  },
  "cells": [
    {
      "cell_type": "markdown",
      "source": [
        "카드2\n",
        "- 1~N까지의 카드가 있을 때 제일 위에 있는 카드를 버리고, 그 다음 제일 위에 있는 카드를 제일 아래에 있는 카드 밑으로 옮기는 것을 반복하여 제일 마지막에 남게 되는 카드를 구하는 프로그램을 작성하세요. \n",
        "- ex: N = 4\n",
        "- card = 1234\n",
        "- pass 1 = 234, move 2 to the bottom -> 342\n",
        "- pass 2 = 42, move 4 to the bottom -> 24\n",
        "- pass 3 = 4\n",
        "- 마지막 카드 = 4"
      ],
      "metadata": {
        "id": "EVicFo32SkQ5"
      }
    },
    {
      "cell_type": "code",
      "source": [
        "from collections import deque\n",
        "import sys\n",
        "n = int(sys.stdin.readline())\n",
        "card = deque([i for i in range(1, n+1)])\n",
        "while len(card) > 1:\n",
        "  card.popleft()\n",
        "  card.rotate(-1)\n",
        "print(card[0])"
      ],
      "metadata": {
        "id": "mBB7sBJESOOh"
      },
      "execution_count": null,
      "outputs": []
    },
    {
      "cell_type": "code",
      "execution_count": null,
      "metadata": {
        "colab": {
          "base_uri": "https://localhost:8080/"
        },
        "id": "s14qPUMWPHNY",
        "outputId": "e17d3d40-9428-4cd1-fec3-bc4ccdecc60f"
      },
      "outputs": [
        {
          "output_type": "stream",
          "name": "stdout",
          "text": [
            "deque([2, 3, 4])\n",
            "deque([3, 4, 2])\n",
            "deque([4, 2])\n",
            "deque([2, 4])\n",
            "deque([4])\n",
            "deque([4])\n",
            "4\n"
          ]
        }
      ],
      "source": [
        "# Test Case 1\n",
        "from collections import deque\n",
        "n = 4\n",
        "card = deque([i for i in range(1, n+1)])\n",
        "# print(card)\n",
        "while len(card) > 1:\n",
        "  card.popleft()\n",
        "  print(card)\n",
        "  card.rotate(-1)\n",
        "  print(card)\n",
        "print(card[0])"
      ]
    },
    {
      "cell_type": "code",
      "source": [
        "# Test Case 2\n",
        "from collections import deque\n",
        "n = 6\n",
        "card = deque([i for i in range(1, n+1)])\n",
        "# print(card)\n",
        "while len(card) > 1:\n",
        "  card.popleft()\n",
        "  print(card)\n",
        "  card.rotate(-1)\n",
        "  print(card)\n",
        "print(card[0])"
      ],
      "metadata": {
        "colab": {
          "base_uri": "https://localhost:8080/"
        },
        "id": "ZQXKIdGhScYV",
        "outputId": "4b7b98d6-e89c-41ed-80f1-6789b2d398bd"
      },
      "execution_count": null,
      "outputs": [
        {
          "output_type": "stream",
          "name": "stdout",
          "text": [
            "deque([2, 3, 4, 5, 6])\n",
            "deque([3, 4, 5, 6, 2])\n",
            "deque([4, 5, 6, 2])\n",
            "deque([5, 6, 2, 4])\n",
            "deque([6, 2, 4])\n",
            "deque([2, 4, 6])\n",
            "deque([4, 6])\n",
            "deque([6, 4])\n",
            "deque([4])\n",
            "deque([4])\n",
            "4\n"
          ]
        }
      ]
    },
    {
      "cell_type": "code",
      "source": [
        "# deque.rotate\n",
        "from collections import deque\n",
        "n = 4\n",
        "card = deque([i for i in range(1, n+1)])\n",
        "print(card)\n",
        "card.rotate(-1)\n",
        "print(card)"
      ],
      "metadata": {
        "colab": {
          "base_uri": "https://localhost:8080/"
        },
        "id": "LzuGSJNLPhEO",
        "outputId": "6ca8667b-3223-4286-d686-c7f363795796"
      },
      "execution_count": null,
      "outputs": [
        {
          "output_type": "stream",
          "name": "stdout",
          "text": [
            "deque([1, 2, 3, 4])\n",
            "deque([2, 3, 4, 1])\n"
          ]
        }
      ]
    }
  ]
}