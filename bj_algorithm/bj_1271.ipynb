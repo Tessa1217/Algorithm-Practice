{
  "nbformat": 4,
  "nbformat_minor": 0,
  "metadata": {
    "colab": {
      "name": "bj_1271",
      "provenance": [],
      "collapsed_sections": [],
      "authorship_tag": "ABX9TyNTn5WXIKo5MuDDhOt6d9HB"
    },
    "kernelspec": {
      "name": "python3",
      "display_name": "Python 3"
    },
    "language_info": {
      "name": "python"
    }
  },
  "cells": [
    {
      "cell_type": "markdown",
      "source": [
        "엄청난 부자2"
      ],
      "metadata": {
        "id": "89Mt4jUI3y1c"
      }
    },
    {
      "cell_type": "markdown",
      "source": [
        "* n = 가진 돈의 수 \n",
        "* m = 돈을 받으러 온 생명체의 수\n",
        "* 1) 생명체 하나에게 돌아가는 돈의 양과 2) 1원씩 분배할 수 없는 남는 돈을 출력한다."
      ],
      "metadata": {
        "id": "GVeHe6C-30M7"
      }
    },
    {
      "cell_type": "code",
      "execution_count": null,
      "metadata": {
        "colab": {
          "base_uri": "https://localhost:8080/"
        },
        "id": "iG0qXy722rMU",
        "outputId": "b3cb0be3-7ce0-4b13-f176-67b969512c6d"
      },
      "outputs": [
        {
          "output_type": "stream",
          "name": "stdout",
          "text": [
            "903 47\n",
            "903\n",
            "47\n",
            "19\n",
            "10\n"
          ]
        }
      ],
      "source": [
        "n, m = map(int, input().split())\n",
        "print(n)\n",
        "print(m)\n",
        "\n",
        "print(n//m)\n",
        "print(n%m)"
      ]
    },
    {
      "cell_type": "code",
      "source": [
        "n, m = map(int, input().split())\n",
        "print(n)\n",
        "print(m)\n",
        "\n",
        "print(n//m)\n",
        "print(n%m)"
      ],
      "metadata": {
        "id": "yqb_GVFC3_cb",
        "outputId": "1daa2e59-d9d3-4440-a51a-09514b3e49ce",
        "colab": {
          "base_uri": "https://localhost:8080/"
        }
      },
      "execution_count": null,
      "outputs": [
        {
          "output_type": "stream",
          "name": "stdout",
          "text": [
            "1000 100\n",
            "1000\n",
            "100\n",
            "10\n",
            "0\n"
          ]
        }
      ]
    }
  ]
}