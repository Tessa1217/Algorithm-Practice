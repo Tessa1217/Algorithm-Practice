{
  "nbformat": 4,
  "nbformat_minor": 0,
  "metadata": {
    "colab": {
      "name": "bj_4673",
      "provenance": [],
      "collapsed_sections": [],
      "authorship_tag": "ABX9TyNevbT780ZqbwXNFO5zCudV"
    },
    "kernelspec": {
      "name": "python3",
      "display_name": "Python 3"
    },
    "language_info": {
      "name": "python"
    }
  },
  "cells": [
    {
      "cell_type": "markdown",
      "source": [
        "Self Number\n",
        "\n",
        "* d(n) = n + n의 각 자리수\n",
        "* d(75) = 75 + 7 + 5 = 87\n",
        "* self number = d(n), 즉 생성자가 없는 숫자를 셀프 넘버라고 한다."
      ],
      "metadata": {
        "id": "fDebSLUmQIlw"
      }
    },
    {
      "cell_type": "code",
      "execution_count": null,
      "metadata": {
        "colab": {
          "base_uri": "https://localhost:8080/"
        },
        "id": "JDFQDZQfQG_x",
        "outputId": "e80ce512-5661-4457-8626-7f9bcabc6fd7"
      },
      "outputs": [
        {
          "output_type": "stream",
          "name": "stdout",
          "text": [
            "87\n"
          ]
        }
      ],
      "source": [
        "# Test Case - d(n)\n",
        "\n",
        "n = 75\n",
        "\n",
        "def self(n):\n",
        "  sums = sum([int(i) for i in str(n)])\n",
        "  return n + sums\n",
        "\n",
        "print(self(n))"
      ]
    },
    {
      "cell_type": "code",
      "source": [
        "# Test Case - self number under 100\n",
        "num = 100\n",
        "\n",
        "def self(number):\n",
        "  numbers = []\n",
        "  for n in range(1, 101):\n",
        "    d = sum([int(i) for i in str(n)]) + n\n",
        "    if d not in numbers:\n",
        "      numbers.append(d)\n",
        "  return [x for x in range(1, 101) if x not in numbers]\n",
        "\n",
        "print(self(num))"
      ],
      "metadata": {
        "colab": {
          "base_uri": "https://localhost:8080/"
        },
        "id": "daU-6hmaREbh",
        "outputId": "75274f43-4ae9-4c33-9463-7fd599bfca3e"
      },
      "execution_count": null,
      "outputs": [
        {
          "output_type": "stream",
          "name": "stdout",
          "text": [
            "[1, 3, 5, 7, 9, 20, 31, 42, 53, 64, 75, 86, 97]\n"
          ]
        }
      ]
    },
    {
      "cell_type": "code",
      "source": [
        "num = 10000\n",
        "\n",
        "numbers = []\n",
        "for n in range(1, 10001):\n",
        "  d = sum([int(i) for i in str(n)]) + n\n",
        "  if d not in numbers:\n",
        "    numbers.append(d) \n",
        "self_num = [s for s in range(1, 10001) if s not in numbers] \n",
        "\n",
        "for s in self_num:\n",
        "  print(s)"
      ],
      "metadata": {
        "id": "aEGoVhZTSOTB"
      },
      "execution_count": null,
      "outputs": []
    },
    {
      "cell_type": "code",
      "source": [
        "# Set로 풀기\n",
        "\n",
        "num = 10000\n",
        "\n",
        "numbers = []\n",
        "for n in range(1, 10001):\n",
        "  d = sum([int(i) for i in str(n)]) + n\n",
        "  numbers.append(d)\n",
        "self_num = list(set([s for s in range(1, 10001)]) - set(numbers))\n",
        "self_num.sort()\n",
        "\n",
        "for s in self_num:\n",
        "  print(s)"
      ],
      "metadata": {
        "id": "5b7x_hRhUxJR"
      },
      "execution_count": null,
      "outputs": []
    }
  ]
}