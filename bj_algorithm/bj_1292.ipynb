{
  "nbformat": 4,
  "nbformat_minor": 0,
  "metadata": {
    "colab": {
      "name": "bj_1292",
      "provenance": [],
      "collapsed_sections": [],
      "authorship_tag": "ABX9TyPDVPXJzS12Vj1ow+rO2FVr"
    },
    "kernelspec": {
      "name": "python3",
      "display_name": "Python 3"
    },
    "language_info": {
      "name": "python"
    }
  },
  "cells": [
    {
      "cell_type": "markdown",
      "source": [
        "쉽게 푸는 문제\n",
        "\n",
        "1을 한 번, 2를 두 번, 3을 세 번 -> 1 2 2 3 3 3 4 4 4 4 5 ..."
      ],
      "metadata": {
        "id": "qK6RpN_l6C85"
      }
    },
    {
      "cell_type": "code",
      "execution_count": null,
      "metadata": {
        "colab": {
          "base_uri": "https://localhost:8080/"
        },
        "id": "IpOhALznj5Oe",
        "outputId": "f358216d-d9fb-4934-8fdf-8a0e695b84c1"
      },
      "outputs": [
        {
          "output_type": "stream",
          "name": "stdout",
          "text": [
            "15\n"
          ]
        }
      ],
      "source": [
        "# Test Case 1 \n",
        "\n",
        "i = 1\n",
        "seq = []\n",
        "while len(seq) <= 100:\n",
        "  for x in range(i):\n",
        "    seq.append(i)\n",
        "  i += 1\n",
        "a = 3\n",
        "b = 7\n",
        "print(sum(seq[a-1: b]))"
      ]
    },
    {
      "cell_type": "code",
      "source": [
        "a, b = map(int, input().split())\n",
        "i = 1\n",
        "seq = []\n",
        "while len(seq) <= 1000:\n",
        "  for x in range(i):\n",
        "    seq.append(i)\n",
        "  i += 1\n",
        "print(sum(seq[a-1:b]))"
      ],
      "metadata": {
        "colab": {
          "base_uri": "https://localhost:8080/"
        },
        "id": "UZu8HY_pnsWo",
        "outputId": "0c287f74-05c0-4f2c-9670-012d277607c9"
      },
      "execution_count": null,
      "outputs": [
        {
          "output_type": "stream",
          "name": "stdout",
          "text": [
            "3 7\n",
            "15\n"
          ]
        }
      ]
    },
    {
      "cell_type": "code",
      "source": [
        "a, b = map(int, input().split())\n",
        "i = 1\n",
        "seq = []\n",
        "while len(seq) <= b:\n",
        "  for x in range(i):\n",
        "    seq.append(i)\n",
        "  i += 1\n",
        "print(sum(seq[a-1:b]))"
      ],
      "metadata": {
        "colab": {
          "base_uri": "https://localhost:8080/"
        },
        "id": "v6P9VwwxoWyf",
        "outputId": "23346494-3366-4638-fb73-b325083e008c"
      },
      "execution_count": null,
      "outputs": [
        {
          "output_type": "stream",
          "name": "stdout",
          "text": [
            "3 7\n",
            "15\n"
          ]
        }
      ]
    }
  ]
}