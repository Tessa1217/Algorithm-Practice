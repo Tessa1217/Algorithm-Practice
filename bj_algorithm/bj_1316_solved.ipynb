{
  "nbformat": 4,
  "nbformat_minor": 0,
  "metadata": {
    "colab": {
      "name": "bj_1316 - solved",
      "provenance": [],
      "collapsed_sections": [],
      "authorship_tag": "ABX9TyP+24ELTsp0+ghZztEfNYOb"
    },
    "kernelspec": {
      "name": "python3",
      "display_name": "Python 3"
    },
    "language_info": {
      "name": "python"
    }
  },
  "cells": [
    {
      "cell_type": "markdown",
      "source": [
        "그룹 단어 체커"
      ],
      "metadata": {
        "id": "ETnlqfVoiDSq"
      }
    },
    {
      "cell_type": "code",
      "source": [
        "n = int(input())\n",
        "result = n\n",
        "for i in range(n):\n",
        "  word = input()\n",
        "  for j in range(0, len(word)-1):\n",
        "    if word[j] == word[j+1]:\n",
        "      pass\n",
        "    elif word[j] in word[j+1:]:\n",
        "      result -= 1\n",
        "      break\n",
        "print(result)"
      ],
      "metadata": {
        "colab": {
          "base_uri": "https://localhost:8080/"
        },
        "id": "ZQWOnI9dhFia",
        "outputId": "f50906b8-0734-4783-9bf5-2f5ce76783e7"
      },
      "execution_count": null,
      "outputs": [
        {
          "output_type": "stream",
          "name": "stdout",
          "text": [
            "5\n",
            "ab\n",
            "aa\n",
            "aca\n",
            "ba\n",
            "bb\n",
            "4\n"
          ]
        }
      ]
    },
    {
      "cell_type": "code",
      "source": [
        "# Test Case 1\n",
        "string = 'happy'\n",
        "result = 1\n",
        "for i in range(0, len(string)-1):\n",
        "  if string[i] == string[i+1]:\n",
        "    pass\n",
        "  elif string[i] in string[i+1:]:\n",
        "    result -= 1\n",
        "    break\n",
        "print(result) "
      ],
      "metadata": {
        "colab": {
          "base_uri": "https://localhost:8080/"
        },
        "id": "WC2VfOv0fLMW",
        "outputId": "4ebd4f38-e944-43d9-bf3f-67dd6a3fdf72"
      },
      "execution_count": null,
      "outputs": [
        {
          "output_type": "stream",
          "name": "stdout",
          "text": [
            "1\n"
          ]
        }
      ]
    },
    {
      "cell_type": "code",
      "source": [
        "# Test Case 2\n",
        "string = 'aba'\n",
        "result = 1\n",
        "for i in range(0, len(string)-1):\n",
        "  if string[i] == string[i+1]:\n",
        "    pass\n",
        "  elif string[i] in string[i+1:]:\n",
        "    result -= 1\n",
        "    break\n",
        "print(result) "
      ],
      "metadata": {
        "colab": {
          "base_uri": "https://localhost:8080/"
        },
        "id": "WZaEcdM-iOGZ",
        "outputId": "31f1b57c-1239-4933-d629-f2b9a34a680a"
      },
      "execution_count": null,
      "outputs": [
        {
          "output_type": "stream",
          "name": "stdout",
          "text": [
            "0\n"
          ]
        }
      ]
    }
  ]
}