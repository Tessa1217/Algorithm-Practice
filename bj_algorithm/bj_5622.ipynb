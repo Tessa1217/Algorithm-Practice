{
  "nbformat": 4,
  "nbformat_minor": 0,
  "metadata": {
    "colab": {
      "name": "bj_5622",
      "provenance": [],
      "authorship_tag": "ABX9TyOa8z/ahSUfTvr6hhSrufRJ"
    },
    "kernelspec": {
      "name": "python3",
      "display_name": "Python 3"
    },
    "language_info": {
      "name": "python"
    }
  },
  "cells": [
    {
      "cell_type": "markdown",
      "source": [
        "다이얼\n",
        "\n",
        "- 숫자 1을 걸려면 총 2초가 필요하고 1보다 더 큰 수를 거는데 걸리는 시간은 +1 초씩 증가 "
      ],
      "metadata": {
        "id": "8Ansms-6YOZm"
      }
    },
    {
      "cell_type": "code",
      "execution_count": 4,
      "metadata": {
        "colab": {
          "base_uri": "https://localhost:8080/"
        },
        "id": "4YBExteBWLkP",
        "outputId": "b9378486-2d62-41d4-ee76-0ba2a7e150b5"
      },
      "outputs": [
        {
          "output_type": "stream",
          "name": "stdout",
          "text": [
            "WA\n",
            "13\n"
          ]
        }
      ],
      "source": [
        "dial = str(input())\n",
        "cnt = 0\n",
        "for i in dial:\n",
        "  if i in 'ABC':\n",
        "    cnt += 3\n",
        "  elif i in 'DEF':\n",
        "    cnt += 4\n",
        "  elif i in 'GHI':\n",
        "    cnt += 5\n",
        "  elif i in 'JKL':\n",
        "    cnt += 6\n",
        "  elif i in 'MNO':\n",
        "    cnt += 7\n",
        "  elif i in 'PQRS':\n",
        "    cnt += 8\n",
        "  elif i in 'TUV':\n",
        "    cnt += 9\n",
        "  elif i in 'WXYZ':\n",
        "    cnt += 10\n",
        "\n",
        "print(cnt)\n"
      ]
    },
    {
      "cell_type": "code",
      "source": [
        "dial = str(input())\n",
        "cnt = 0\n",
        "for i in dial:\n",
        "  if i in 'ABC':\n",
        "    cnt += 3\n",
        "  elif i in 'DEF':\n",
        "    cnt += 4\n",
        "  elif i in 'GHI':\n",
        "    cnt += 5\n",
        "  elif i in 'JKL':\n",
        "    cnt += 6\n",
        "  elif i in 'MNO':\n",
        "    cnt += 7\n",
        "  elif i in 'PQRS':\n",
        "    cnt += 8\n",
        "  elif i in 'TUV':\n",
        "    cnt += 9\n",
        "  elif i in 'WXYZ':\n",
        "    cnt += 10\n",
        "\n",
        "print(cnt)"
      ],
      "metadata": {
        "colab": {
          "base_uri": "https://localhost:8080/"
        },
        "id": "smgitS9vX82e",
        "outputId": "bcd55f96-d65d-408c-af37-58831fb9dd8e"
      },
      "execution_count": 5,
      "outputs": [
        {
          "output_type": "stream",
          "name": "stdout",
          "text": [
            "UNUCIC\n",
            "36\n"
          ]
        }
      ]
    },
    {
      "cell_type": "code",
      "source": [
        "word_dial = str(input())\n",
        "\n",
        "dial = ['ABC', 'DEF', 'GHI', 'JKL', 'MNO', 'PQRS', 'TUV', 'WXYZ']\n",
        "cnt = 0\n",
        "\n",
        "for i in range(len(dial)):\n",
        "  for j in word_dial:\n",
        "    if j in dial[i]:\n",
        "      cnt += (i+3)\n",
        "\n",
        "print(cnt)"
      ],
      "metadata": {
        "colab": {
          "base_uri": "https://localhost:8080/"
        },
        "id": "jVCb9s_sYg7_",
        "outputId": "c9c2dcae-82e3-49ba-9978-a5d7d99457b5"
      },
      "execution_count": 6,
      "outputs": [
        {
          "output_type": "stream",
          "name": "stdout",
          "text": [
            "WA\n",
            "13\n"
          ]
        }
      ]
    },
    {
      "cell_type": "code",
      "source": [
        "word_dial = str(input())\n",
        "\n",
        "dial = ['ABC', 'DEF', 'GHI', 'JKL', 'MNO', 'PQRS', 'TUV', 'WXYZ']\n",
        "cnt = 0\n",
        "\n",
        "for i in range(len(dial)):\n",
        "  for j in word_dial:\n",
        "    if j in dial[i]:\n",
        "      cnt += (i+3)\n",
        "\n",
        "print(cnt)"
      ],
      "metadata": {
        "colab": {
          "base_uri": "https://localhost:8080/"
        },
        "id": "VY3JfBR5Y-xH",
        "outputId": "2f175c6f-b6a2-4fac-a4ad-d5a6eb915850"
      },
      "execution_count": 7,
      "outputs": [
        {
          "output_type": "stream",
          "name": "stdout",
          "text": [
            "UNUCIC\n",
            "36\n"
          ]
        }
      ]
    }
  ]
}