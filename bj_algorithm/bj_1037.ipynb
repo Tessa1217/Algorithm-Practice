{
  "nbformat": 4,
  "nbformat_minor": 0,
  "metadata": {
    "colab": {
      "name": "bj_1037",
      "provenance": [],
      "authorship_tag": "ABX9TyPa0jLYuRyML5a/tv+xMK1Y"
    },
    "kernelspec": {
      "name": "python3",
      "display_name": "Python 3"
    },
    "language_info": {
      "name": "python"
    }
  },
  "cells": [
    {
      "cell_type": "markdown",
      "source": [
        "약수\n",
        "- N의 약수 구하기 \n",
        "- n = 약수의 개수"
      ],
      "metadata": {
        "id": "Q0ZtDI_2xPEK"
      }
    },
    {
      "cell_type": "code",
      "execution_count": 13,
      "metadata": {
        "colab": {
          "base_uri": "https://localhost:8080/"
        },
        "id": "fqQ7b53Mur_y",
        "outputId": "4cb2c425-485b-44da-84f8-fa9930eab02d"
      },
      "outputs": [
        {
          "output_type": "stream",
          "name": "stdout",
          "text": [
            "14\n",
            "14 26456 2 28 13228 3307 7 23149 8 6614 46298 56 4 92596\n",
            "185192\n"
          ]
        }
      ],
      "source": [
        "n = int(input())\n",
        "factors = list(map(int, input().split()))\n",
        "factors.sort()\n",
        "print(factors[0]*factors[-1])"
      ]
    },
    {
      "cell_type": "code",
      "source": [
        "# Test Case 1\n",
        "a_f, b_f = 4, 2\n",
        "print(a_f * b_f)"
      ],
      "metadata": {
        "colab": {
          "base_uri": "https://localhost:8080/"
        },
        "id": "qIneAztixZpw",
        "outputId": "886aaaa9-7369-4018-a828-5ad26bba660e"
      },
      "execution_count": 14,
      "outputs": [
        {
          "output_type": "stream",
          "name": "stdout",
          "text": [
            "8\n"
          ]
        }
      ]
    },
    {
      "cell_type": "code",
      "source": [
        "# Test Case 2\n",
        "factors = [3, 4, 2, 12, 6, 8]\n",
        "print(min(factors)*max(factors))"
      ],
      "metadata": {
        "colab": {
          "base_uri": "https://localhost:8080/"
        },
        "id": "OBS-TFb-xiHM",
        "outputId": "d8a9fd4b-b09d-40cf-c7ce-98508a14e3fd"
      },
      "execution_count": 15,
      "outputs": [
        {
          "output_type": "stream",
          "name": "stdout",
          "text": [
            "24\n"
          ]
        }
      ]
    }
  ]
}