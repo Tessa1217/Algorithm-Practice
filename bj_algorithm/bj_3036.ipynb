{
  "nbformat": 4,
  "nbformat_minor": 0,
  "metadata": {
    "colab": {
      "name": "bj_3036",
      "provenance": [],
      "collapsed_sections": [],
      "authorship_tag": "ABX9TyOr/sjLseKAgpVlXhQXS9/Z"
    },
    "kernelspec": {
      "name": "python3",
      "display_name": "Python 3"
    },
    "language_info": {
      "name": "python"
    }
  },
  "cells": [
    {
      "cell_type": "markdown",
      "source": [
        "링 \n",
        "* N개의 링이 있을 때 첫번째 링이 돌면 나머지는 몇 번 도는지 구하시오. "
      ],
      "metadata": {
        "id": "0Zb4HeU24N4A"
      }
    },
    {
      "cell_type": "code",
      "source": [
        "import fractions\n",
        "n = int(input())\n",
        "radius = list(map(int, input().split()))\n",
        "for i in range(1, len(radius)):\n",
        "  r = fractions.Fraction(radius[0], radius[i])\n",
        "  print(str(r.numerator)+'/'+str(r.denominator))"
      ],
      "metadata": {
        "colab": {
          "base_uri": "https://localhost:8080/"
        },
        "id": "7LKOTynU6ci5",
        "outputId": "02824400-d004-4377-9954-19bc81288f84"
      },
      "execution_count": null,
      "outputs": [
        {
          "output_type": "stream",
          "name": "stdout",
          "text": [
            "4\n",
            "12 3 8 4\n",
            "4/1\n",
            "3/2\n",
            "3/1\n"
          ]
        }
      ]
    },
    {
      "cell_type": "code",
      "execution_count": null,
      "metadata": {
        "colab": {
          "base_uri": "https://localhost:8080/"
        },
        "id": "ukYxaS5S4LiT",
        "outputId": "549f88a3-1b29-4f58-9271-ca762bb82d66"
      },
      "outputs": [
        {
          "output_type": "stream",
          "name": "stdout",
          "text": [
            "2/1\n",
            "4/1\n"
          ]
        }
      ],
      "source": [
        "# Test Case 1\n",
        "import fractions\n",
        "a, b, c = 8, 4, 2\n",
        "ring_list = [a, b, c]\n",
        "for i in range(1, len(ring_list)): \n",
        "  a = fractions.Fraction(ring_list[0], ring_list[i])\n",
        "  print(str(a.numerator)+'/'+str(a.denominator))"
      ]
    },
    {
      "cell_type": "code",
      "source": [
        "# fractions module\n",
        "import fractions\n",
        "a = fractions.Fraction(12, 8)\n",
        "print(a.numerator) # 분자\n",
        "print(a.denominator) # 분모"
      ],
      "metadata": {
        "colab": {
          "base_uri": "https://localhost:8080/"
        },
        "id": "ijbLpD374yOU",
        "outputId": "807e51d2-74da-4c30-c2ee-1e8a32634747"
      },
      "execution_count": null,
      "outputs": [
        {
          "output_type": "stream",
          "name": "stdout",
          "text": [
            "3\n",
            "2\n"
          ]
        }
      ]
    }
  ]
}