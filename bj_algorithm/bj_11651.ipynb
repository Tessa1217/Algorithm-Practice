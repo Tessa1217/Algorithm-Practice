{
  "nbformat": 4,
  "nbformat_minor": 0,
  "metadata": {
    "colab": {
      "name": "bj_11651",
      "provenance": [],
      "authorship_tag": "ABX9TyMPKej9025Mdgz9VIEs0HuH"
    },
    "kernelspec": {
      "name": "python3",
      "display_name": "Python 3"
    },
    "language_info": {
      "name": "python"
    }
  },
  "cells": [
    {
      "cell_type": "markdown",
      "source": [
        "좌표 정렬하기 2\n",
        "\n",
        " * y를 기준하여 순서 출력"
      ],
      "metadata": {
        "id": "INZCfKMeNrqk"
      }
    },
    {
      "cell_type": "code",
      "execution_count": 1,
      "metadata": {
        "colab": {
          "base_uri": "https://localhost:8080/"
        },
        "id": "B6pPd9KZNm_j",
        "outputId": "ba70e843-d29c-4ae4-89b8-015338443895"
      },
      "outputs": [
        {
          "output_type": "stream",
          "name": "stdout",
          "text": [
            "5\n",
            "0 4\n",
            "1 2\n",
            "1 -1\n",
            "2 2\n",
            "3 3\n",
            "1 -1\n",
            "1 2\n",
            "2 2\n",
            "3 3\n",
            "0 4\n"
          ]
        }
      ],
      "source": [
        "# y를 기준으로\n",
        "N = int(input())\n",
        "q = []\n",
        "for _ in range(N):\n",
        "  x, y = map(int, input().split())\n",
        "  q.append((y, x))\n",
        "q.sort()\n",
        "for point in q:\n",
        "  print(point[1], point[0])"
      ]
    }
  ]
}