{
  "nbformat": 4,
  "nbformat_minor": 0,
  "metadata": {
    "colab": {
      "name": "algo_q1",
      "provenance": [],
      "authorship_tag": "ABX9TyOFcSbelM3ss+qpclDOtOZc"
    },
    "kernelspec": {
      "name": "python3",
      "display_name": "Python 3"
    },
    "language_info": {
      "name": "python"
    }
  },
  "cells": [
    {
      "cell_type": "markdown",
      "source": [
        "자연수 뒤집어서 배열 만들기\n",
        "(프로그래머스 Level 1)"
      ],
      "metadata": {
        "id": "m9RpJ0MO7_1Z"
      }
    },
    {
      "cell_type": "code",
      "execution_count": 2,
      "metadata": {
        "colab": {
          "base_uri": "https://localhost:8080/"
        },
        "id": "xDUdXSiC7sem",
        "outputId": "0e8f4ae5-9d85-40de-fe66-9af8fb7663e2"
      },
      "outputs": [
        {
          "output_type": "stream",
          "name": "stdout",
          "text": [
            "[5, 4, 3, 2, 1]\n"
          ]
        }
      ],
      "source": [
        "# First Try\n",
        "\n",
        "def makearray(n):\n",
        "  num = str(n)[::-1] # integer to string, reverse the string\n",
        "  num_list = [] # make a new array \n",
        "  for n in num:\n",
        "    num_list.append(int(n)) # append n as an element of array num_list\n",
        "  return num_list\n",
        "\n",
        "print(makearray(12345))"
      ]
    },
    {
      "cell_type": "code",
      "source": [
        "# Second Try\n",
        "\n",
        "def makearray(n):\n",
        "  num = str(n)[::-1]\n",
        "  num_list = [int(n) for n in num]\n",
        "  return num_list \n",
        "\n",
        "print(makearray(12345))"
      ],
      "metadata": {
        "colab": {
          "base_uri": "https://localhost:8080/"
        },
        "id": "rai0ba6k8mmy",
        "outputId": "258f4a97-4e29-46e7-e660-261727cdcafd"
      },
      "execution_count": 3,
      "outputs": [
        {
          "output_type": "stream",
          "name": "stdout",
          "text": [
            "[5, 4, 3, 2, 1]\n"
          ]
        }
      ]
    },
    {
      "cell_type": "code",
      "source": [
        "# Third Try\n",
        "\n",
        "def makearray(n):\n",
        "  return [int(num) for num in str(n)[::-1]]\n",
        "\n",
        "print(makearray(12345))"
      ],
      "metadata": {
        "colab": {
          "base_uri": "https://localhost:8080/"
        },
        "id": "t_mMHKiH84f2",
        "outputId": "76a639af-40db-4a63-c7d6-60d19f455557"
      },
      "execution_count": 4,
      "outputs": [
        {
          "output_type": "stream",
          "name": "stdout",
          "text": [
            "[5, 4, 3, 2, 1]\n"
          ]
        }
      ]
    }
  ]
}