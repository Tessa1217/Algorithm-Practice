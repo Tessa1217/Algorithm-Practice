{
  "nbformat": 4,
  "nbformat_minor": 0,
  "metadata": {
    "colab": {
      "name": "algo_q13",
      "provenance": [],
      "authorship_tag": "ABX9TyM8rMd3GM41cyeXFi77wuPR"
    },
    "kernelspec": {
      "name": "python3",
      "display_name": "Python 3"
    },
    "language_info": {
      "name": "python"
    }
  },
  "cells": [
    {
      "cell_type": "markdown",
      "source": [
        "모의고사\n",
        "(프로그래머스 Level1)"
      ],
      "metadata": {
        "id": "weCXQIHR3DI2"
      }
    },
    {
      "cell_type": "code",
      "source": [
        "def repeatlist(arr, num):\n",
        "  a, n = divmod(num, len(arr))\n",
        "  return a * arr + arr[:n]\n",
        "\n",
        "arr = [1, 2, 3, 4, 5]\n",
        "num = 10\n",
        "\n",
        "print(repeatlist(arr, num))"
      ],
      "metadata": {
        "colab": {
          "base_uri": "https://localhost:8080/"
        },
        "id": "eegDDUFCguzl",
        "outputId": "6c2e025e-50c1-4fc6-a2b2-1103d8fcc20e"
      },
      "execution_count": 15,
      "outputs": [
        {
          "output_type": "stream",
          "name": "stdout",
          "text": [
            "[1, 2, 3, 4, 5, 1, 2, 3, 4, 5]\n"
          ]
        }
      ]
    },
    {
      "cell_type": "code",
      "execution_count": 20,
      "metadata": {
        "colab": {
          "base_uri": "https://localhost:8080/"
        },
        "id": "ZAnCI_ylcH8E",
        "outputId": "0d349c04-2d63-4cbe-8fe6-43bc6b74983d"
      },
      "outputs": [
        {
          "output_type": "stream",
          "name": "stdout",
          "text": [
            "5\n",
            "0\n",
            "0\n"
          ]
        }
      ],
      "source": [
        "# Test Case 1\n",
        "\n",
        "math1 = [1, 2, 3, 4, 5]\n",
        "math2 = [2, 1, 2, 3, 2, 4, 2, 5]\n",
        "math3 = [3, 3, 1, 1, 2, 2, 4, 4, 5, 5]\n",
        "\n",
        "answers = [1, 2, 3, 4, 5]\n",
        "\n",
        "def num(ans, m_arr):\n",
        "  x, y = divmod(len(ans), len(m_arr))\n",
        "  math_ans = x * m_arr + m_arr[:y] \n",
        "  cnt = 0\n",
        "  for i in range(len(math_ans)):\n",
        "    if math_ans[i] == ans[i]:\n",
        "      cnt += 1\n",
        "      i += 1\n",
        "  return cnt\n",
        "\n",
        "print(num(answers, math1))\n",
        "print(num(answers, math2))\n",
        "print(num(answers, math3))"
      ]
    },
    {
      "cell_type": "code",
      "source": [
        "# Test Case 2\n",
        "\n",
        "math1 = [1, 2, 3, 4, 5]\n",
        "math2 = [2, 1, 2, 3, 2, 4, 2, 5]\n",
        "math3 = [3, 3, 1, 1, 2, 2, 4, 4, 5, 5]\n",
        "\n",
        "answers = [1, 3, 2, 4, 2]\n",
        "\n",
        "def num(ans, m_arr):\n",
        "  x, y = divmod(len(ans), len(m_arr))\n",
        "  math_ans = x * m_arr + m_arr[:y] \n",
        "  cnt = 0\n",
        "  for i in range(len(math_ans)):\n",
        "    if math_ans[i] == ans[i]:\n",
        "      cnt += 1\n",
        "      i += 1\n",
        "  return cnt\n",
        "\n",
        "print(num(answers, math1))\n",
        "print(num(answers, math2))\n",
        "print(num(answers, math3))"
      ],
      "metadata": {
        "colab": {
          "base_uri": "https://localhost:8080/"
        },
        "id": "Lyo9g9EbiDjf",
        "outputId": "9c78c97a-e2ed-49f8-af33-8488f3695ef7"
      },
      "execution_count": 21,
      "outputs": [
        {
          "output_type": "stream",
          "name": "stdout",
          "text": [
            "2\n",
            "2\n",
            "2\n"
          ]
        }
      ]
    },
    {
      "cell_type": "code",
      "source": [
        "# Answer\n",
        "\n",
        "math_giveup = {0:[1, 2, 3, 4, 5], 1:[2, 1, 2, 3, 2, 4, 2, 5], 2:[3, 3, 1, 1, 2, 2, 4, 4, 5, 5]}\n",
        "def highest_score(answer, math_answers = math_giveup):\n",
        "  \n",
        "  score = [0, 0, 0]\n",
        "  highest = []\n",
        "  \n",
        "  '''\n",
        "  making the length of (students') lists \n",
        "  equal to the length of answer\n",
        "  '''\n",
        "  for index, value in math_answers.items():\n",
        "    i, j = divmod(len(answer), len(value))\n",
        "    math_answers[index] = i * value + value[:j]\n",
        "\n",
        "\n",
        "  '''\n",
        "  compare each student's answer to the answer key\n",
        "  '''\n",
        "  for idx, val in enumerate(answer):\n",
        "    for index, value in math_answers.items():\n",
        "      if answer[idx] == math_answers[index][idx]:\n",
        "        score[index] += 1\n",
        "\n",
        "  '''\n",
        "  return # of student with the highest score\n",
        "  '''\n",
        "  for i, v in enumerate(score):\n",
        "    if v == max(score):\n",
        "      highest.append(i+1)\n",
        "\n",
        "  return score, highest\n",
        "\n",
        "answer1 = [1, 2, 3, 4, 5]\n",
        "answer2 = [1, 2, 2, 3, 3, 2, 2]\n",
        "answer3 = [1, 1, 4, 4, 2, 2, 3, 3, 5, 5]\n",
        "answer4 = [1, 2, 2, 3, 3]\n",
        "\n",
        "print(highest_score(answer1))\n",
        "print(highest_score(answer2))\n",
        "print(highest_score(answer3))\n",
        "print(highest_score(answer4))"
      ],
      "metadata": {
        "colab": {
          "base_uri": "https://localhost:8080/"
        },
        "id": "-5xhD5GomUTp",
        "outputId": "7211fd75-4c3b-4f52-9fa0-3ea9720daa9e"
      },
      "execution_count": 87,
      "outputs": [
        {
          "output_type": "stream",
          "name": "stdout",
          "text": [
            "([5, 0, 0], [1])\n",
            "([3, 3, 0], [1, 2])\n",
            "([2, 3, 3], [2, 3])\n",
            "([2, 2, 0], [1, 2])\n"
          ]
        }
      ]
    }
  ]
}