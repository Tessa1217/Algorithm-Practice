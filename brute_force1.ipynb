{
  "nbformat": 4,
  "nbformat_minor": 0,
  "metadata": {
    "colab": {
      "name": "brute_force1",
      "provenance": [],
      "collapsed_sections": [],
      "authorship_tag": "ABX9TyNCNQEVD8eQhiIKxD5oXJCg"
    },
    "kernelspec": {
      "name": "python3",
      "display_name": "Python 3"
    },
    "language_info": {
      "name": "python"
    }
  },
  "cells": [
    {
      "cell_type": "code",
      "source": [
        "# BlackJack\n",
        "\n",
        "'''\n",
        "Finding combinations of cards \n",
        "'''\n",
        "\n",
        "# Combination of three cards (test case)\n",
        "card1 = [1, 2, 3, 4]\n",
        "i = len(card1)\n",
        "for a in range(0, i-2):\n",
        "  for b in range(a+1, i-1):\n",
        "    for c in range(b+1, i):\n",
        "      print(card1[a], card1[b], card1[c])\n",
        "\n",
        "# Combination of three cards\n",
        "num_of_cards = int(input())\n",
        "card2 = [int(input()) for x in range(num_of_cards)]\n",
        "l = len(card2)\n",
        "for x in range(0, l-2):\n",
        "  for y in range(x+1, l-1):\n",
        "    for z in range(y+1, l):\n",
        "      print(\"x, y, z comb >>>:\", card2[x], card2[y], card2[z])\n",
        "\n",
        "n = 5\n",
        "m = 21 \n",
        "card = [5, 6, 7, 8, 9]\n",
        "sum_card = 0\n",
        "for a in range(0, len(card)-2):\n",
        "  for b in range(a+1, len(card)-1):\n",
        "    for c in range(b+1, len(card)):\n",
        "      if card[a] + card[b] + card[c] > m:\n",
        "        continue \n",
        "      else:\n",
        "        sum_card = max(ans, card[a] + card[b] + card[c])\n",
        "print(sum_card)"
      ],
      "metadata": {
        "colab": {
          "base_uri": "https://localhost:8080/"
        },
        "id": "KByncI5eMQL5",
        "outputId": "bf2dd9e9-82b6-411f-f499-a1362502768c"
      },
      "execution_count": null,
      "outputs": [
        {
          "output_type": "stream",
          "name": "stdout",
          "text": [
            "1 2 3\n",
            "1 2 4\n",
            "1 3 4\n",
            "2 3 4\n",
            "5\n",
            "1\n",
            "3\n",
            "5\n",
            "7\n",
            "9\n",
            "x, y, z comb >>>: 1 3 5\n",
            "x, y, z comb >>>: 1 3 7\n",
            "x, y, z comb >>>: 1 3 9\n",
            "x, y, z comb >>>: 1 5 7\n",
            "x, y, z comb >>>: 1 5 9\n",
            "x, y, z comb >>>: 1 7 9\n",
            "x, y, z comb >>>: 3 5 7\n",
            "x, y, z comb >>>: 3 5 9\n",
            "x, y, z comb >>>: 3 7 9\n",
            "x, y, z comb >>>: 5 7 9\n",
            "21\n"
          ]
        }
      ]
    }
  ]
}