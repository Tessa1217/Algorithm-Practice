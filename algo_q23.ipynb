{
  "nbformat": 4,
  "nbformat_minor": 0,
  "metadata": {
    "colab": {
      "name": "algo_q23",
      "provenance": [],
      "authorship_tag": "ABX9TyN+VwpXhwqr/q8r7Atv1Or9"
    },
    "kernelspec": {
      "name": "python3",
      "display_name": "Python 3"
    },
    "language_info": {
      "name": "python"
    }
  },
  "cells": [
    {
      "cell_type": "markdown",
      "source": [
        "124 나라의 숫자\n",
        "(프로그래머스 Level 2)"
      ],
      "metadata": {
        "id": "R-XH4Zy44tin"
      }
    },
    {
      "cell_type": "code",
      "execution_count": 16,
      "metadata": {
        "colab": {
          "base_uri": "https://localhost:8080/"
        },
        "id": "pbVLf-vWuWW-",
        "outputId": "8f7d61d5-966e-4c58-a0e0-2f654e42cd48"
      },
      "outputs": [
        {
          "output_type": "stream",
          "name": "stdout",
          "text": [
            "11\n",
            "12\n",
            "14\n",
            "21\n",
            "22\n",
            "24\n",
            "41\n"
          ]
        }
      ],
      "source": [
        "def solution(n):\n",
        "    world = [1, 2, 4]\n",
        "    answer = ''\n",
        "    while (n > 0):\n",
        "        n -= 1\n",
        "        answer = str(world[n % 3]) + answer\n",
        "        n = n // 3\n",
        "    return answer\n",
        "\n",
        "print(solution(4))\n",
        "print(solution(5))\n",
        "print(solution(6))\n",
        "print(solution(7))\n",
        "print(solution(8))\n",
        "print(solution(9))\n",
        "print(solution(10))"
      ]
    }
  ]
}