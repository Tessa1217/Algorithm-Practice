{
  "nbformat": 4,
  "nbformat_minor": 0,
  "metadata": {
    "colab": {
      "name": "algo_q11",
      "provenance": [],
      "collapsed_sections": [],
      "authorship_tag": "ABX9TyNB332nC4f769FozwP7BqMt"
    },
    "kernelspec": {
      "name": "python3",
      "display_name": "Python 3"
    },
    "language_info": {
      "name": "python"
    }
  },
  "cells": [
    {
      "cell_type": "markdown",
      "source": [
        "예산\n",
        "(프로그래머스 Level1)"
      ],
      "metadata": {
        "id": "K9dC8XiziNUP"
      }
    },
    {
      "cell_type": "code",
      "execution_count": null,
      "metadata": {
        "colab": {
          "base_uri": "https://localhost:8080/"
        },
        "id": "OPphlpZBgtL9",
        "outputId": "c6b1de61-57a1-4405-e1cc-79fc7892015e"
      },
      "outputs": [
        {
          "output_type": "stream",
          "name": "stdout",
          "text": [
            "3\n",
            "4\n"
          ]
        }
      ],
      "source": [
        "def solution(d, budget):\n",
        "  d.sort()\n",
        "  answer = []\n",
        "  for i in d:\n",
        "    if i <= budget:\n",
        "      answer.append(i)\n",
        "      budget -= i\n",
        "  return len(answer)\n",
        "\n",
        "print(solution([1, 3, 2, 5, 4], 9))\n",
        "print(solution([2, 2, 3, 3], 10))"
      ]
    }
  ]
}