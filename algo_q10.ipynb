{
  "nbformat": 4,
  "nbformat_minor": 0,
  "metadata": {
    "colab": {
      "name": "algo_q10",
      "provenance": [],
      "authorship_tag": "ABX9TyMNznLtFoyeYLIqRk63Nftc"
    },
    "kernelspec": {
      "name": "python3",
      "display_name": "Python 3"
    },
    "language_info": {
      "name": "python"
    }
  },
  "cells": [
    {
      "cell_type": "markdown",
      "source": [
        "없는 숫자 더하기\n",
        "(프로그래머스 Level1)"
      ],
      "metadata": {
        "id": "QPykZPO1gijJ"
      }
    },
    {
      "cell_type": "code",
      "execution_count": 5,
      "metadata": {
        "colab": {
          "base_uri": "https://localhost:8080/"
        },
        "id": "79QqMXJBffmO",
        "outputId": "c9414d4f-0dc7-43cb-d914-2bc272064368"
      },
      "outputs": [
        {
          "output_type": "stream",
          "name": "stdout",
          "text": [
            "14\n",
            "6\n"
          ]
        }
      ],
      "source": [
        "def solution(numbers):\n",
        "  return sum([x for x in range(10) if x not in numbers])\n",
        "print(solution([1, 2, 3, 4, 6, 7, 8, 0]))\n",
        "print(solution([5, 8, 4, 0, 6, 7, 9]))"
      ]
    }
  ]
}